{
 "cells": [
  {
   "cell_type": "markdown",
   "metadata": {},
   "source": [
    "--- Day 8: Seven Segment Search ---\n",
    "\n",
    "You barely reach the safety of the cave when the whale smashes into the cave mouth, collapsing it. Sensors indicate another exit to this cave at a much greater depth, so you have no choice but to press on.\n",
    "\n",
    "As your submarine slowly makes its way through the cave system, you notice that the four-digit seven-segment displays in your submarine are malfunctioning; they must have been damaged during the escape. You'll be in a lot of trouble without them, so you'd better figure out what's wrong.\n",
    "\n",
    "Each digit of a seven-segment display is rendered by turning on or off any of seven segments named a through g:\n",
    "\n",
    "```\n",
    "  0:      1:      2:      3:      4:\n",
    " aaaa    ....    aaaa    aaaa    ....\n",
    "b    c  .    c  .    c  .    c  b    c\n",
    "b    c  .    c  .    c  .    c  b    c\n",
    " ....    ....    dddd    dddd    dddd\n",
    "e    f  .    f  e    .  .    f  .    f\n",
    "e    f  .    f  e    .  .    f  .    f\n",
    " gggg    ....    gggg    gggg    ....\n",
    "\n",
    "  5:      6:      7:      8:      9:\n",
    " aaaa    aaaa    aaaa    aaaa    aaaa\n",
    "b    .  b    .  .    c  b    c  b    c\n",
    "b    .  b    .  .    c  b    c  b    c\n",
    " dddd    dddd    ....    dddd    dddd\n",
    ".    f  e    f  .    f  e    f  .    f\n",
    ".    f  e    f  .    f  e    f  .    f\n",
    " gggg    gggg    ....    gggg    gggg\n",
    "```\n",
    "\n",
    "So, to render a 1, only segments c and f would be turned on; the rest would be off. To render a 7, only segments a, c, and f would be turned on.\n",
    "\n",
    "The problem is that the signals which control the segments have been mixed up on each display. The submarine is still trying to display numbers by producing output on signal wires a through g, but those wires are connected to segments randomly. Worse, the wire/segment connections are mixed up separately for each four-digit display! (All of the digits within a display use the same connections, though.)\n",
    "\n",
    "So, you might know that only signal wires b and g are turned on, but that doesn't mean segments b and g are turned on: the only digit that uses two segments is 1, so it must mean segments c and f are meant to be on. With just that information, you still can't tell which wire (b/g) goes to which segment (c/f). For that, you'll need to collect more information.\n",
    "\n",
    "For each display, you watch the changing signals for a while, make a note of all ten unique signal patterns you see, and then write down a single four digit output value (your puzzle input). Using the signal patterns, you should be able to work out which pattern corresponds to which digit.\n",
    "\n",
    "For example, here is what you might see in a single entry in your notes:\n",
    "\n",
    "```\n",
    "acedgfb cdfbe gcdfa fbcad dab cefabd cdfgeb eafb cagedb ab |\n",
    "cdfeb fcadb cdfeb cdbaf\n",
    "```\n",
    "\n",
    "(The entry is wrapped here to two lines so it fits; in your notes, it will all be on a single line.)\n",
    "\n",
    "Each entry consists of ten unique signal patterns, a | delimiter, and finally the four digit output value. Within an entry, the same wire/segment connections are used (but you don't know what the connections actually are). The unique signal patterns correspond to the ten different ways the submarine tries to render a digit using the current wire/segment connections. Because 7 is the only digit that uses three segments, dab in the above example means that to render a 7, signal lines d, a, and b are on. Because 4 is the only digit that uses four segments, eafb means that to render a 4, signal lines e, a, f, and b are on.\n",
    "\n",
    "Using this information, you should be able to work out which combination of signal wires corresponds to each of the ten digits. Then, you can decode the four digit output value. Unfortunately, in the above example, all of the digits in the output value (cdfeb fcadb cdfeb cdbaf) use five segments and are more difficult to deduce.\n",
    "\n",
    "For now, focus on the easy digits. Consider this larger example:\n",
    "\n",
    "```\n",
    "be cfbegad cbdgef fgaecd cgeb fdcge agebfd fecdb fabcd edb |\n",
    "fdgacbe cefdb cefbgd gcbe\n",
    "edbfga begcd cbg gc gcadebf fbgde acbgfd abcde gfcbed gfec |\n",
    "fcgedb cgb dgebacf gc\n",
    "fgaebd cg bdaec gdafb agbcfd gdcbef bgcad gfac gcb cdgabef |\n",
    "cg cg fdcagb cbg\n",
    "fbegcd cbd adcefb dageb afcb bc aefdc ecdab fgdeca fcdbega |\n",
    "efabcd cedba gadfec cb\n",
    "aecbfdg fbg gf bafeg dbefa fcge gcbea fcaegb dgceab fcbdga |\n",
    "gecf egdcabf bgf bfgea\n",
    "fgeab ca afcebg bdacfeg cfaedg gcfdb baec bfadeg bafgc acf |\n",
    "gebdcfa ecba ca fadegcb\n",
    "dbcfg fgd bdegcaf fgec aegbdf ecdfab fbedc dacgb gdcebf gf |\n",
    "cefg dcbef fcge gbcadfe\n",
    "bdfegc cbegaf gecbf dfcage bdacg ed bedf ced adcbefg gebcd |\n",
    "ed bcgafe cdgba cbgef\n",
    "egadfb cdbfeg cegd fecab cgb gbdefca cg fgcdab egfdb bfceg |\n",
    "gbdfcae bgc cg cgb\n",
    "gcafb gcf dcaebfg ecagb gf abcdeg gaef cafbge fdbac fegbdc |\n",
    "fgae cfgab fg bagce\n",
    "```\n",
    "\n",
    "Because the digits 1, 4, 7, and 8 each use a unique number of segments, you should be able to tell which combinations of signals correspond to those digits. Counting only digits in the output values (the part after | on each line), in the above example, there are 26 instances of digits that use a unique number of segments (highlighted above).\n",
    "\n",
    "In the output values, how many times do digits 1, 4, 7, or 8 appear?\n"
   ]
  },
  {
   "cell_type": "code",
   "execution_count": null,
   "metadata": {
    "dotnet_interactive": {
     "language": "fsharp"
    }
   },
   "outputs": [],
   "source": [
    "let testInput = \"\"\"\n",
    "be cfbegad cbdgef fgaecd cgeb fdcge agebfd fecdb fabcd edb | fdgacbe cefdb cefbgd gcbe\n",
    "edbfga begcd cbg gc gcadebf fbgde acbgfd abcde gfcbed gfec | fcgedb cgb dgebacf gc\n",
    "fgaebd cg bdaec gdafb agbcfd gdcbef bgcad gfac gcb cdgabef | cg cg fdcagb cbg\n",
    "fbegcd cbd adcefb dageb afcb bc aefdc ecdab fgdeca fcdbega | efabcd cedba gadfec cb\n",
    "aecbfdg fbg gf bafeg dbefa fcge gcbea fcaegb dgceab fcbdga | gecf egdcabf bgf bfgea\n",
    "fgeab ca afcebg bdacfeg cfaedg gcfdb baec bfadeg bafgc acf | gebdcfa ecba ca fadegcb\n",
    "dbcfg fgd bdegcaf fgec aegbdf ecdfab fbedc dacgb gdcebf gf | cefg dcbef fcge gbcadfe\n",
    "bdfegc cbegaf gecbf dfcage bdacg ed bedf ced adcbefg gebcd | ed bcgafe cdgba cbgef\n",
    "egadfb cdbfeg cegd fecab cgb gbdefca cg fgcdab egfdb bfceg | gbdfcae bgc cg cgb\n",
    "gcafb gcf dcaebfg ecagb gf abcdeg gaef cafbge fdbac fegbdc | fgae cfgab fg bagce\n",
    "\"\"\""
   ]
  },
  {
   "cell_type": "code",
   "execution_count": null,
   "metadata": {
    "dotnet_interactive": {
     "language": "fsharp"
    }
   },
   "outputs": [
    {
     "data": {
      "text/html": [
       "<table><thead><tr><th><i>index</i></th><th>Item1</th><th>Item2</th></tr></thead><tbody><tr><td>0</td><td><div class=\"dni-plaintext\">[ be, cfbegad, cbdgef, fgaecd, cgeb, fdcge, agebfd, fecdb, fabcd, edb ]</div></td><td><div class=\"dni-plaintext\">[ fdgacbe, cefdb, cefbgd, gcbe ]</div></td></tr><tr><td>1</td><td><div class=\"dni-plaintext\">[ edbfga, begcd, cbg, gc, gcadebf, fbgde, acbgfd, abcde, gfcbed, gfec ]</div></td><td><div class=\"dni-plaintext\">[ fcgedb, cgb, dgebacf, gc ]</div></td></tr><tr><td>2</td><td><div class=\"dni-plaintext\">[ fgaebd, cg, bdaec, gdafb, agbcfd, gdcbef, bgcad, gfac, gcb, cdgabef ]</div></td><td><div class=\"dni-plaintext\">[ cg, cg, fdcagb, cbg ]</div></td></tr><tr><td>3</td><td><div class=\"dni-plaintext\">[ fbegcd, cbd, adcefb, dageb, afcb, bc, aefdc, ecdab, fgdeca, fcdbega ]</div></td><td><div class=\"dni-plaintext\">[ efabcd, cedba, gadfec, cb ]</div></td></tr><tr><td>4</td><td><div class=\"dni-plaintext\">[ aecbfdg, fbg, gf, bafeg, dbefa, fcge, gcbea, fcaegb, dgceab, fcbdga ]</div></td><td><div class=\"dni-plaintext\">[ gecf, egdcabf, bgf, bfgea ]</div></td></tr><tr><td>5</td><td><div class=\"dni-plaintext\">[ fgeab, ca, afcebg, bdacfeg, cfaedg, gcfdb, baec, bfadeg, bafgc, acf ]</div></td><td><div class=\"dni-plaintext\">[ gebdcfa, ecba, ca, fadegcb ]</div></td></tr><tr><td>6</td><td><div class=\"dni-plaintext\">[ dbcfg, fgd, bdegcaf, fgec, aegbdf, ecdfab, fbedc, dacgb, gdcebf, gf ]</div></td><td><div class=\"dni-plaintext\">[ cefg, dcbef, fcge, gbcadfe ]</div></td></tr><tr><td>7</td><td><div class=\"dni-plaintext\">[ bdfegc, cbegaf, gecbf, dfcage, bdacg, ed, bedf, ced, adcbefg, gebcd ]</div></td><td><div class=\"dni-plaintext\">[ ed, bcgafe, cdgba, cbgef ]</div></td></tr><tr><td>8</td><td><div class=\"dni-plaintext\">[ egadfb, cdbfeg, cegd, fecab, cgb, gbdefca, cg, fgcdab, egfdb, bfceg ]</div></td><td><div class=\"dni-plaintext\">[ gbdfcae, bgc, cg, cgb ]</div></td></tr><tr><td>9</td><td><div class=\"dni-plaintext\">[ gcafb, gcf, dcaebfg, ecagb, gf, abcdeg, gaef, cafbge, fdbac, fegbdc ]</div></td><td><div class=\"dni-plaintext\">[ fgae, cfgab, fg, bagce ]</div></td></tr></tbody></table>"
      ]
     },
     "metadata": {},
     "output_type": "display_data"
    }
   ],
   "source": [
    "let parse (input: string) = \n",
    "    input.Replace(\"\\r\", \"\").Split(\"\\n\")\n",
    "    |> Seq.filter (fun row -> row <> \"\" )\n",
    "    |> Seq.map ( fun row ->\n",
    "        let parts = row.Split(\"|\");\n",
    "        let left = parts.[0].Trim().Split(\" \") |> Seq.map (fun entry -> entry.Trim() )\n",
    "        let right = parts.[1].Trim().Split(\" \") |> Seq.map (fun entry -> entry.Trim() )\n",
    "        (left, right)\n",
    "    )\n",
    "\n",
    "testInput |> parse"
   ]
  },
  {
   "cell_type": "code",
   "execution_count": null,
   "metadata": {
    "dotnet_interactive": {
     "language": "fsharp"
    }
   },
   "outputs": [
    {
     "data": {
      "text/html": [
       "<table><thead><tr><th>Value</th></tr></thead><tbody><tr><td><div class=\"dni-plaintext\">7</div></td></tr></tbody></table>"
      ]
     },
     "metadata": {},
     "output_type": "display_data"
    }
   ],
   "source": [
    "let simpleDigit (input:string) =\n",
    "    match input.Length with\n",
    "    | 2 -> Some 1\n",
    "    | 3 -> Some 7\n",
    "    | 4 -> Some 4\n",
    "    | 7 -> Some 8\n",
    "    | _ -> None\n",
    "\n",
    "\"cgd\" |> simpleDigit"
   ]
  },
  {
   "cell_type": "code",
   "execution_count": null,
   "metadata": {
    "dotnet_interactive": {
     "language": "fsharp"
    }
   },
   "outputs": [
    {
     "data": {
      "text/html": [
       "<table><thead><tr><th><i>key</i></th><th>value</th></tr></thead><tbody><tr><td><div class=\"dni-plaintext\">1</div></td><td><div class=\"dni-plaintext\">8</div></td></tr><tr><td><div class=\"dni-plaintext\">4</div></td><td><div class=\"dni-plaintext\">6</div></td></tr><tr><td><div class=\"dni-plaintext\">7</div></td><td><div class=\"dni-plaintext\">5</div></td></tr><tr><td><div class=\"dni-plaintext\">8</div></td><td><div class=\"dni-plaintext\">7</div></td></tr></tbody></table>"
      ]
     },
     "metadata": {},
     "output_type": "display_data"
    }
   ],
   "source": [
    "open System.Collections.Generic\n",
    "\n",
    "let simpleMatch (input: seq<seq<string> * seq<string>>) =\n",
    "    let counts = new Dictionary<int,int>()\n",
    "    counts.Add(1, 0)\n",
    "    counts.Add(4, 0)\n",
    "    counts.Add(7, 0)\n",
    "    counts.Add(8, 0)\n",
    "    input\n",
    "    |> Seq.iter (fun row ->\n",
    "        snd row\n",
    "        |> Seq.iter ( fun digit ->\n",
    "            match (simpleDigit digit) with\n",
    "            | Some x -> counts.[x] <- counts.[x] + 1\n",
    "            | None -> ()\n",
    "        )\n",
    "    )\n",
    "    counts\n",
    "\n",
    "testInput |> parse |> simpleMatch"
   ]
  },
  {
   "cell_type": "code",
   "execution_count": null,
   "metadata": {
    "dotnet_interactive": {
     "language": "fsharp"
    }
   },
   "outputs": [
    {
     "data": {
      "text/html": [
       "<div class=\"dni-plaintext\">26</div>"
      ]
     },
     "metadata": {},
     "output_type": "display_data"
    }
   ],
   "source": [
    "testInput |> parse |> simpleMatch |> Dictionary.ValueCollection |> Seq.sum"
   ]
  },
  {
   "cell_type": "code",
   "execution_count": null,
   "metadata": {
    "dotnet_interactive": {
     "language": "fsharp"
    }
   },
   "outputs": [
    {
     "data": {
      "text/html": [
       "<div class=\"dni-plaintext\">272</div>"
      ]
     },
     "metadata": {},
     "output_type": "display_data"
    }
   ],
   "source": [
    "let task = System.IO.File.ReadAllText(\"task.txt\")\n",
    "task |> parse |> simpleMatch |> Dictionary.ValueCollection |> Seq.sum"
   ]
  },
  {
   "cell_type": "markdown",
   "metadata": {},
   "source": [
    "--- Part Two ---\n",
    "\n",
    "Through a little deduction, you should now be able to determine the remaining digits. Consider again the first example above:\n",
    "\n",
    "acedgfb cdfbe gcdfa fbcad dab cefabd cdfgeb eafb cagedb ab |\n",
    "cdfeb fcadb cdfeb cdbaf\n",
    "\n",
    "After some careful analysis, the mapping between signal wires and segments only make sense in the following configuration:\n",
    "\n",
    "```\n",
    " dddd\n",
    "e    a\n",
    "e    a\n",
    " ffff\n",
    "g    b\n",
    "g    b\n",
    " cccc\n",
    " ```\n",
    "\n",
    "So, the unique signal patterns would correspond to the following digits:\n",
    "\n",
    "-    acedgfb: 8\n",
    "-    cdfbe: 5\n",
    "-    gcdfa: 2\n",
    "-    fbcad: 3\n",
    "-    dab: 7\n",
    "-    cefabd: 9\n",
    "-    cdfgeb: 6\n",
    "-    eafb: 4\n",
    "-    cagedb: 0\n",
    "-    ab: 1\n",
    "\n",
    "Then, the four digits of the output value can be decoded:\n",
    "\n",
    "-    cdfeb: 5\n",
    "-    fcadb: 3\n",
    "-    cdfeb: 5\n",
    "-    cdbaf: 3\n",
    "\n",
    "Therefore, the output value for this entry is 5353.\n",
    "\n",
    "Following this same process for each entry in the second, larger example above, the output value of each entry can be determined:\n",
    "\n",
    "-    fdgacbe cefdb cefbgd gcbe: 8394\n",
    "-    fcgedb cgb dgebacf gc: 9781\n",
    "-    cg cg fdcagb cbg: 1197\n",
    "-    efabcd cedba gadfec cb: 9361\n",
    "-    gecf egdcabf bgf bfgea: 4873\n",
    "-    gebdcfa ecba ca fadegcb: 8418\n",
    "-    cefg dcbef fcge gbcadfe: 4548\n",
    "-    ed bcgafe cdgba cbgef: 1625\n",
    "-    gbdfcae bgc cg cgb: 8717\n",
    "-    fgae cfgab fg bagce: 4315\n",
    "\n",
    "Adding all of the output values in this larger example produces 61229.\n",
    "\n",
    "For each entry, determine all of the wire/segment connections and decode the four-digit output values. What do you get if you add up all of the output values?\n"
   ]
  },
  {
   "cell_type": "code",
   "execution_count": null,
   "metadata": {
    "dotnet_interactive": {
     "language": "fsharp"
    }
   },
   "outputs": [
    {
     "data": {
      "text/html": [
       "<table><thead><tr><th><i>key</i></th><th>value</th></tr></thead><tbody><tr><td>abcdfg</td><td><div class=\"dni-plaintext\">0</div></td></tr><tr><td>cg</td><td><div class=\"dni-plaintext\">1</div></td></tr><tr><td>abcde</td><td><div class=\"dni-plaintext\">2</div></td></tr><tr><td>bcdeg</td><td><div class=\"dni-plaintext\">3</div></td></tr><tr><td>cefg</td><td><div class=\"dni-plaintext\">4</div></td></tr><tr><td>bdefg</td><td><div class=\"dni-plaintext\">5</div></td></tr><tr><td>abdefg</td><td><div class=\"dni-plaintext\">6</div></td></tr><tr><td>bcg</td><td><div class=\"dni-plaintext\">7</div></td></tr><tr><td>abcdefg</td><td><div class=\"dni-plaintext\">8</div></td></tr><tr><td>bcdefg</td><td><div class=\"dni-plaintext\">9</div></td></tr></tbody></table>"
      ]
     },
     "metadata": {},
     "output_type": "display_data"
    }
   ],
   "source": [
    "let findMatches ( input: seq<string> ) =\n",
    "    let isIncluded (known: string) (unknown:string) =\n",
    "        known\n",
    "        |> Seq.forall (fun char -> unknown.IndexOf(char) <> -1 )\n",
    "\n",
    "    let sorted = input |> Seq.map (fun digit -> digit.ToCharArray() |> Array.sort |> String )\n",
    "    let no1 = sorted |> Seq.find( fun digit -> digit.Length = 2 )\n",
    "    let no7 = sorted |> Seq.find( fun digit -> digit.Length = 3 )\n",
    "    let no4 = sorted |> Seq.find( fun digit -> digit.Length = 4 )\n",
    "    let no8 = sorted |> Seq.find( fun digit -> digit.Length = 7 )\n",
    "    let no6 = sorted |> Seq.find( fun digit -> digit.Length = 6 && not(isIncluded no1 digit) )\n",
    "    let no9 = sorted |> Seq.find( fun digit -> digit.Length = 6 && digit <> no6 && isIncluded no4 digit )\n",
    "    let no0 = sorted |> Seq.find( fun digit -> digit.Length = 6 && digit <> no6 && digit <> no9)\n",
    "    let no3 = sorted |> Seq.find( fun digit -> digit.Length = 5 && isIncluded no1 digit )\n",
    "    let no5 = sorted |> Seq.find( fun digit -> digit.Length = 5 && digit <> no3 && isIncluded digit no9 )\n",
    "    let no2 = sorted |> Seq.find( fun digit -> digit.Length = 5 && digit<>no5 && digit <> no3 )\n",
    "    let mapping = new Dictionary<string, int>();\n",
    "    mapping.Add(no0, 0)\n",
    "    mapping.Add(no1, 1)\n",
    "    mapping.Add(no2, 2)\n",
    "    mapping.Add(no3, 3)\n",
    "    mapping.Add(no4, 4)\n",
    "    mapping.Add(no5, 5)\n",
    "    mapping.Add(no6, 6)\n",
    "    mapping.Add(no7, 7)\n",
    "    mapping.Add(no8, 8)\n",
    "    mapping.Add(no9, 9)\n",
    "    mapping\n",
    "\n",
    "//findMatches (\"acedgfb cdfbe gcdfa fbcad dab cefabd cdfgeb eafb cagedb ab\".Split(\" \"))\n",
    "findMatches (\"edbfga begcd cbg gc gcadebf fbgde acbgfd abcde gfcbed gfec\".Split(\" \"))\n"
   ]
  },
  {
   "cell_type": "code",
   "execution_count": null,
   "metadata": {
    "dotnet_interactive": {
     "language": "fsharp"
    }
   },
   "outputs": [
    {
     "data": {
      "text/html": [
       "<div class=\"dni-plaintext\">5353</div>"
      ]
     },
     "metadata": {},
     "output_type": "display_data"
    }
   ],
   "source": [
    "let decodeRow (input: seq<string> * seq<string>) = \n",
    "    let mapping = findMatches (fst input)\n",
    "    snd input \n",
    "    |> Seq.map (fun digit -> digit.ToCharArray() |> Array.sort |> String )\n",
    "    |> Seq.map (fun digit -> mapping.[digit])\n",
    "    |> Seq.fold( fun sum digit -> sum * 10 + digit ) 0\n",
    "\n",
    "decodeRow (\"acedgfb cdfbe gcdfa fbcad dab cefabd cdfgeb eafb cagedb ab\".Split(\" \"), \"cdfeb fcadb cdfeb cdbaf\".Split(\" \"))"
   ]
  },
  {
   "cell_type": "code",
   "execution_count": null,
   "metadata": {
    "dotnet_interactive": {
     "language": "fsharp"
    }
   },
   "outputs": [],
   "source": [
    "let decodeAll (input: seq<seq<string>*seq<string>>) =\n",
    "    input \n",
    "    |> Seq.map decodeRow"
   ]
  },
  {
   "cell_type": "code",
   "execution_count": null,
   "metadata": {
    "dotnet_interactive": {
     "language": "fsharp"
    }
   },
   "outputs": [
    {
     "data": {
      "text/html": [
       "<table><thead><tr><th><i>index</i></th><th>value</th></tr></thead><tbody><tr><td>0</td><td><div class=\"dni-plaintext\">8394</div></td></tr><tr><td>1</td><td><div class=\"dni-plaintext\">9781</div></td></tr><tr><td>2</td><td><div class=\"dni-plaintext\">1197</div></td></tr><tr><td>3</td><td><div class=\"dni-plaintext\">9361</div></td></tr><tr><td>4</td><td><div class=\"dni-plaintext\">4873</div></td></tr><tr><td>5</td><td><div class=\"dni-plaintext\">8418</div></td></tr><tr><td>6</td><td><div class=\"dni-plaintext\">4548</div></td></tr><tr><td>7</td><td><div class=\"dni-plaintext\">1625</div></td></tr><tr><td>8</td><td><div class=\"dni-plaintext\">8717</div></td></tr><tr><td>9</td><td><div class=\"dni-plaintext\">4315</div></td></tr></tbody></table>"
      ]
     },
     "metadata": {},
     "output_type": "display_data"
    }
   ],
   "source": [
    "testInput |> parse |> decodeAll"
   ]
  },
  {
   "cell_type": "code",
   "execution_count": null,
   "metadata": {
    "dotnet_interactive": {
     "language": "fsharp"
    }
   },
   "outputs": [
    {
     "data": {
      "text/html": [
       "<div class=\"dni-plaintext\">61229</div>"
      ]
     },
     "metadata": {},
     "output_type": "display_data"
    }
   ],
   "source": [
    "testInput |> parse |> decodeAll |> Seq.sum\n",
    "//fcgedb cgb dgebacf gc"
   ]
  },
  {
   "cell_type": "code",
   "execution_count": null,
   "metadata": {
    "dotnet_interactive": {
     "language": "fsharp"
    }
   },
   "outputs": [
    {
     "data": {
      "text/html": [
       "<div class=\"dni-plaintext\">1007675</div>"
      ]
     },
     "metadata": {},
     "output_type": "display_data"
    }
   ],
   "source": [
    "task |> parse |> decodeAll |> Seq.sum"
   ]
  }
 ],
 "metadata": {
  "kernelspec": {
   "display_name": ".NET (F#)",
   "language": "F#",
   "name": ".net-fsharp"
  },
  "language_info": {
   "name": "F#"
  }
 },
 "nbformat": 4,
 "nbformat_minor": 2
}
