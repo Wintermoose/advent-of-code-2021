{
 "cells": [
  {
   "cell_type": "markdown",
   "metadata": {},
   "source": [
    "--- Day 17: Trick Shot ---\n",
    "\n",
    "You finally decode the Elves' message. HI, the message says. You continue searching for the sleigh keys.\n",
    "\n",
    "Ahead of you is what appears to be a large ocean trench. Could the keys have fallen into it? You'd better send a probe to investigate.\n",
    "\n",
    "The probe launcher on your submarine can fire the probe with any integer velocity in the x (forward) and y (upward, or downward if negative) directions. For example, an initial x,y velocity like 0,10 would fire the probe straight up, while an initial velocity like 10,-1 would fire the probe forward at a slight downward angle.\n",
    "\n",
    "The probe's x,y position starts at 0,0. Then, it will follow some trajectory by moving in steps. On each step, these changes occur in the following order:\n",
    "\n",
    "-    The probe's x position increases by its x velocity.\n",
    "-    The probe's y position increases by its y velocity.\n",
    "-    Due to drag, the probe's x velocity changes by 1 toward the value 0; that is, it decreases by 1 if it is greater than 0, increases by 1 if it is less than 0, or does not change if it is already 0.\n",
    "-    Due to gravity, the probe's y velocity decreases by 1.\n",
    "\n",
    "For the probe to successfully make it into the trench, the probe must be on some trajectory that causes it to be within a target area after any step. The submarine computer has already calculated this target area (your puzzle input). For example:\n",
    "\n",
    "target area: x=20..30, y=-10..-5\n",
    "\n",
    "This target area means that you need to find initial x,y velocity values such that after any step, the probe's x position is at least 20 and at most 30, and the probe's y position is at least -10 and at most -5.\n",
    "\n",
    "Given this target area, one initial velocity that causes the probe to be within the target area after any step is 7,2:\n",
    "\n",
    "```\n",
    ".............#....#............\n",
    ".......#..............#........\n",
    "...............................\n",
    "S........................#.....\n",
    "...............................\n",
    "...............................\n",
    "...........................#...\n",
    "...............................\n",
    "....................TTTTTTTTTTT\n",
    "....................TTTTTTTTTTT\n",
    "....................TTTTTTTT#TT\n",
    "....................TTTTTTTTTTT\n",
    "....................TTTTTTTTTTT\n",
    "....................TTTTTTTTTTT\n",
    "```\n",
    "\n",
    "In this diagram, S is the probe's initial position, 0,0. The x coordinate increases to the right, and the y coordinate increases upward. In the bottom right, positions that are within the target area are shown as T. After each step (until the target area is reached), the position of the probe is marked with #. (The bottom-right # is both a position the probe reaches and a position in the target area.)\n",
    "\n",
    "Another initial velocity that causes the probe to be within the target area after any step is 6,3:\n",
    "\n",
    "```\n",
    "...............#..#............\n",
    "...........#........#..........\n",
    "...............................\n",
    "......#..............#.........\n",
    "...............................\n",
    "...............................\n",
    "S....................#.........\n",
    "...............................\n",
    "...............................\n",
    "...............................\n",
    ".....................#.........\n",
    "....................TTTTTTTTTTT\n",
    "....................TTTTTTTTTTT\n",
    "....................TTTTTTTTTTT\n",
    "....................TTTTTTTTTTT\n",
    "....................T#TTTTTTTTT\n",
    "....................TTTTTTTTTTT\n",
    "```\n",
    "\n",
    "Another one is 9,0:\n",
    "\n",
    "```\n",
    "S........#.....................\n",
    ".................#.............\n",
    "...............................\n",
    "........................#......\n",
    "...............................\n",
    "....................TTTTTTTTTTT\n",
    "....................TTTTTTTTTT#\n",
    "....................TTTTTTTTTTT\n",
    "....................TTTTTTTTTTT\n",
    "....................TTTTTTTTTTT\n",
    "....................TTTTTTTTTTT\n",
    "```\n",
    "\n",
    "One initial velocity that doesn't cause the probe to be within the target area after any step is 17,-4:\n",
    "\n",
    "```\n",
    "S..............................................................\n",
    "...............................................................\n",
    "...............................................................\n",
    "...............................................................\n",
    ".................#.............................................\n",
    "....................TTTTTTTTTTT................................\n",
    "....................TTTTTTTTTTT................................\n",
    "....................TTTTTTTTTTT................................\n",
    "....................TTTTTTTTTTT................................\n",
    "....................TTTTTTTTTTT..#.............................\n",
    "....................TTTTTTTTTTT................................\n",
    "...............................................................\n",
    "...............................................................\n",
    "...............................................................\n",
    "...............................................................\n",
    "................................................#..............\n",
    "...............................................................\n",
    "...............................................................\n",
    "...............................................................\n",
    "...............................................................\n",
    "...............................................................\n",
    "...............................................................\n",
    "..............................................................#\n",
    "```\n",
    "\n",
    "The probe appears to pass through the target area, but is never within it after any step. Instead, it continues down and to the right - only the first few steps are shown.\n",
    "\n",
    "If you're going to fire a highly scientific probe out of a super cool probe launcher, you might as well do it with style. How high can you make the probe go while still reaching the target area?\n",
    "\n",
    "In the above example, using an initial velocity of 6,9 is the best you can do, causing the probe to reach a maximum y position of 45. (Any higher initial y velocity causes the probe to overshoot the target area entirely.)\n",
    "\n",
    "Find the initial velocity that causes the probe to reach the highest y position and still eventually be within the target area after any step. What is the highest y position it reaches on this trajectory?\n"
   ]
  },
  {
   "cell_type": "code",
   "execution_count": null,
   "metadata": {
    "dotnet_interactive": {
     "language": "fsharp"
    }
   },
   "outputs": [
    {
     "data": {
      "text/html": [
       "<table><thead><tr><th>Item1</th><th>Item2</th><th>Item3</th><th>Item4</th></tr></thead><tbody><tr><td><div class=\"dni-plaintext\">20</div></td><td><div class=\"dni-plaintext\">30</div></td><td><div class=\"dni-plaintext\">-10</div></td><td><div class=\"dni-plaintext\">-5</div></td></tr></tbody></table>"
      ]
     },
     "metadata": {},
     "output_type": "display_data"
    }
   ],
   "source": [
    "open System.Text.RegularExpressions\n",
    "let testInput = \"target area: x=20..30, y=-10..-5\"\n",
    "\n",
    "let parse (input:string) =\n",
    "    let m = Regex.Match(input, \"^target area: x=(\\d+)..(\\d+), y=(-?\\d+)..(-?\\d+)\")\n",
    "    if m.Success then\n",
    "        (int m.Groups[1].Value, int m.Groups[2].Value, int m.Groups[3].Value, int m.Groups[4].Value)\n",
    "    else\n",
    "        failwith \"Input not recognized\"\n",
    "\n",
    "testInput |> parse\n",
    "    "
   ]
  },
  {
   "cell_type": "code",
   "execution_count": null,
   "metadata": {
    "dotnet_interactive": {
     "language": "fsharp"
    }
   },
   "outputs": [
    {
     "data": {
      "text/html": [
       "<table><thead><tr><th>Item1</th><th>Item2</th></tr></thead><tbody><tr><td><div class=\"dni-plaintext\">Hit</div></td><td><div class=\"dni-plaintext\">6</div></td></tr></tbody></table>"
      ]
     },
     "metadata": {},
     "output_type": "display_data"
    }
   ],
   "source": [
    "type Result = Hit | Left | Right | Under\n",
    "\n",
    "let shoot (dx:int) (dy:int) (target:(int*int*int*int))  =\n",
    "    let (x0, x1, y0, y1) = target;\n",
    "\n",
    "    let rec step x y dx dy maxY =\n",
    "        // printfn \"%i %i %i %i\" x y dx dy\n",
    "        let res = \n",
    "            if x < x0 then\n",
    "                if dx = 0 then\n",
    "                    Some Left\n",
    "                elif y < y0 then\n",
    "                    Some Under\n",
    "                else \n",
    "                    None\n",
    "            elif x > x1 then\n",
    "                Some Right\n",
    "            elif y < y0 then\n",
    "                Some Under\n",
    "            elif y <= y1 then\n",
    "                Some Hit\n",
    "            else\n",
    "                None\n",
    "\n",
    "        match res with\n",
    "        | Some result -> (result, maxY)\n",
    "        | None -> step (x+dx) (y+dy) (Math.Max(0, dx-1)) (dy-1) (Math.Max(maxY, y+dy))\n",
    "\n",
    "    step 0 0 dx dy 0\n",
    "                    \n",
    "testInput |> parse |> shoot 6 3\n",
    "// testInput |> parse |> shoot 6 9\n",
    "// \"target area: x=70..96, y=-179..-124\" |> parse |> shoot 14 4"
   ]
  },
  {
   "cell_type": "code",
   "execution_count": null,
   "metadata": {
    "dotnet_interactive": {
     "language": "fsharp"
    }
   },
   "outputs": [
    {
     "data": {
      "text/html": [
       "<table><thead><tr><th>Item1</th><th>Item2</th></tr></thead><tbody><tr><td><div class=\"dni-plaintext\">Hit</div></td><td><div class=\"dni-plaintext\">0</div></td></tr></tbody></table>"
      ]
     },
     "metadata": {},
     "output_type": "display_data"
    }
   ],
   "source": [
    "testInput |> parse |> shoot 9 0"
   ]
  },
  {
   "cell_type": "code",
   "execution_count": null,
   "metadata": {
    "dotnet_interactive": {
     "language": "fsharp"
    }
   },
   "outputs": [
    {
     "data": {
      "text/html": [
       "<table><thead><tr><th>Item1</th><th>Item2</th></tr></thead><tbody><tr><td><div class=\"dni-plaintext\">Hit</div></td><td><div class=\"dni-plaintext\">3</div></td></tr></tbody></table>"
      ]
     },
     "metadata": {},
     "output_type": "display_data"
    }
   ],
   "source": [
    "testInput |> parse |> shoot 7 2"
   ]
  },
  {
   "cell_type": "code",
   "execution_count": null,
   "metadata": {
    "dotnet_interactive": {
     "language": "fsharp"
    }
   },
   "outputs": [
    {
     "data": {
      "text/html": [
       "<table><thead><tr><th>Item1</th><th>Item2</th></tr></thead><tbody><tr><td><div class=\"dni-plaintext\">Right</div></td><td><div class=\"dni-plaintext\">0</div></td></tr></tbody></table>"
      ]
     },
     "metadata": {},
     "output_type": "display_data"
    }
   ],
   "source": [
    "testInput |> parse |> shoot 17 -4"
   ]
  },
  {
   "cell_type": "markdown",
   "metadata": {},
   "source": [
    "X position based on step and DX can be expressed like this\n",
    "\n",
    "$X = DX - \\frac{(STEP - 1 ) * STEP} {2} $\n",
    "\n",
    "We need to reach at least X0, i.e. we need the following to be true\n",
    "$ DX - \\frac{(STEP - 1 ) * STEP} {2} \\ge X0 $\n",
    "\n",
    "Since we can progress for at most DX steps (afterwards the horizontal velocity is always 0), we can substitute the value:\n",
    "$ DX - \\frac{(DX -1) * DX} {2} \\ge X0$\n",
    "\n",
    "Simplified to\n",
    "$ DX^{2} + DX - 2 * X0 \\ge 0 $\n",
    "\n",
    "And from our quadratic equation \n",
    "$ \\frac{ -b \\pm \\sqrt{ b^{2} - 4*a*c } }{2*a} $\n",
    "\n",
    "We obtain the following (note that we ignore the negative solution)\n",
    "$ -\\frac{1}{2} + \\sqrt{1 + 8 * X0} $\n",
    "\n",
    "Rounded up we have our starting DX"
   ]
  },
  {
   "cell_type": "code",
   "execution_count": null,
   "metadata": {
    "dotnet_interactive": {
     "language": "fsharp"
    }
   },
   "outputs": [
    {
     "data": {
      "text/html": [
       "<table><thead><tr><th>Item1</th><th>Item2</th><th>Item3</th></tr></thead><tbody><tr><td><div class=\"dni-plaintext\">6</div></td><td><div class=\"dni-plaintext\">9</div></td><td><div class=\"dni-plaintext\">45</div></td></tr></tbody></table>"
      ]
     },
     "metadata": {},
     "output_type": "display_data"
    }
   ],
   "source": [
    "let findBestShot (target: (int*int*int*int)) =\n",
    "    let (x0,x1,y0,y1) = target\n",
    "    let mutable dx = int(Math.Ceiling(-0.5 + 0.5 * Math.Sqrt(1.0 + 8.0 * float(x0)) ))\n",
    "\n",
    "    let mutable bestX = -1\n",
    "    let mutable bestY = -1\n",
    "    let mutable bestHeight = -10000\n",
    "    while dx <= x1 do\n",
    "        let mutable dy = 1\n",
    "        let mutable result = Left        \n",
    "        // the max dy value is absolute fudge. There is probably some math to determine when the integer math can no longer\n",
    "        // hit the square when DX goes to 0 within the X range, but I failed to come up with it :shrug:\n",
    "        while result <> Right && dy < 10000 do\n",
    "            let (res, maxY) = shoot dx dy target\n",
    "            if res = Hit then\n",
    "                if bestHeight < maxY then\n",
    "                    bestX <- dx\n",
    "                    bestY <- dy\n",
    "                    bestHeight <- maxY\n",
    "            result <- res\n",
    "            dy <- dy + 1\n",
    "        dx <- dx + 1\n",
    "    (bestX, bestY, bestHeight)\n",
    "\n",
    "testInput |> parse |> findBestShot\n"
   ]
  },
  {
   "cell_type": "code",
   "execution_count": null,
   "metadata": {
    "dotnet_interactive": {
     "language": "fsharp"
    }
   },
   "outputs": [
    {
     "data": {
      "text/html": [
       "<table><thead><tr><th>Item1</th><th>Item2</th><th>Item3</th></tr></thead><tbody><tr><td><div class=\"dni-plaintext\">12</div></td><td><div class=\"dni-plaintext\">178</div></td><td><div class=\"dni-plaintext\">15931</div></td></tr></tbody></table>"
      ]
     },
     "metadata": {},
     "output_type": "display_data"
    }
   ],
   "source": [
    "let task = \"target area: x=70..96, y=-179..-124\"\n",
    "task |> parse |> findBestShot"
   ]
  },
  {
   "cell_type": "markdown",
   "metadata": {},
   "source": [
    "--- Part Two ---\n",
    "\n",
    "Maybe a fancy trick shot isn't the best idea; after all, you only have one probe, so you had better not miss.\n",
    "\n",
    "To get the best idea of what your options are for launching the probe, you need to find every initial velocity that causes the probe to eventually be within the target area after any step.\n",
    "\n",
    "In the above example, there are 112 different initial velocity values that meet these criteria:\n",
    "\n",
    "```\n",
    "23,-10  25,-9   27,-5   29,-6   22,-6   21,-7   9,0     27,-7   24,-5\n",
    "25,-7   26,-6   25,-5   6,8     11,-2   20,-5   29,-10  6,3     28,-7\n",
    "8,0     30,-6   29,-8   20,-10  6,7     6,4     6,1     14,-4   21,-6\n",
    "26,-10  7,-1    7,7     8,-1    21,-9   6,2     20,-7   30,-10  14,-3\n",
    "20,-8   13,-2   7,3     28,-8   29,-9   15,-3   22,-5   26,-8   25,-8\n",
    "25,-6   15,-4   9,-2    15,-2   12,-2   28,-9   12,-3   24,-6   23,-7\n",
    "25,-10  7,8     11,-3   26,-7   7,1     23,-9   6,0     22,-10  27,-6\n",
    "8,1     22,-8   13,-4   7,6     28,-6   11,-4   12,-4   26,-9   7,4\n",
    "24,-10  23,-8   30,-8   7,0     9,-1    10,-1   26,-5   22,-9   6,5\n",
    "7,5     23,-6   28,-10  10,-2   11,-1   20,-9   14,-2   29,-7   13,-3\n",
    "23,-5   24,-8   27,-9   30,-7   28,-5   21,-10  7,9     6,6     21,-5\n",
    "27,-10  7,2     30,-9   21,-8   22,-7   24,-9   20,-6   6,9     29,-5\n",
    "8,-2    27,-8   30,-5   24,-7\n",
    "```\n",
    "\n",
    "How many distinct initial velocity values cause the probe to be within the target area after any step?\n"
   ]
  },
  {
   "cell_type": "code",
   "execution_count": null,
   "metadata": {
    "dotnet_interactive": {
     "language": "fsharp"
    }
   },
   "outputs": [
    {
     "data": {
      "text/html": [
       "<div class=\"dni-plaintext\">112</div>"
      ]
     },
     "metadata": {},
     "output_type": "display_data"
    }
   ],
   "source": [
    "let findGoodShots (target: (int*int*int*int)) =\n",
    "    let (x0,x1,y0,y1) = target\n",
    "    let mutable dx = int(Math.Ceiling(-0.5 + 0.5 * Math.Sqrt(1.0 + 8.0 * float(x0)) ))\n",
    "\n",
    "    let mutable good = Set.empty\n",
    "    while dx <= x1 do\n",
    "        let mutable dy = y0\n",
    "        let mutable result = Left        \n",
    "        while result <> Right && dy < 10000 do\n",
    "            let (res, maxY) = shoot dx dy target\n",
    "            if res = Hit then\n",
    "                good <- good.Add((dx,dy))\n",
    "            result <- res\n",
    "            dy <- dy + 1\n",
    "        dx <- dx + 1\n",
    "    good\n",
    "\n",
    "testInput |> parse |> findGoodShots |> Set.count"
   ]
  },
  {
   "cell_type": "code",
   "execution_count": null,
   "metadata": {
    "dotnet_interactive": {
     "language": "fsharp"
    }
   },
   "outputs": [
    {
     "data": {
      "text/html": [
       "<div class=\"dni-plaintext\">2555</div>"
      ]
     },
     "metadata": {},
     "output_type": "display_data"
    }
   ],
   "source": [
    "task |> parse |> findGoodShots |> Set.count"
   ]
  }
 ],
 "metadata": {
  "kernelspec": {
   "display_name": ".NET (F#)",
   "language": "F#",
   "name": ".net-fsharp"
  },
  "language_info": {
   "name": "F#"
  }
 },
 "nbformat": 4,
 "nbformat_minor": 2
}
