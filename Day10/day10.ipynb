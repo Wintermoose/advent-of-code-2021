{
 "cells": [
  {
   "cell_type": "markdown",
   "metadata": {},
   "source": [
    "--- Day 10: Syntax Scoring ---\n",
    "\n",
    "You ask the submarine to determine the best route out of the deep-sea cave, but it only replies:\n",
    "\n",
    "Syntax error in navigation subsystem on line: all of them\n",
    "\n",
    "All of them?! The damage is worse than you thought. You bring up a copy of the navigation subsystem (your puzzle input).\n",
    "\n",
    "The navigation subsystem syntax is made of several lines containing chunks. There are one or more chunks on each line, and chunks contain zero or more other chunks. Adjacent chunks are not separated by any delimiter; if one chunk stops, the next chunk (if any) can immediately start. Every chunk must open and close with one of four legal pairs of matching characters:\n",
    "\n",
    "-    If a chunk opens with (, it must close with ).\n",
    "-    If a chunk opens with [, it must close with ].\n",
    "-    If a chunk opens with {, it must close with }.\n",
    "-    If a chunk opens with <, it must close with >.\n",
    "\n",
    "So, () is a legal chunk that contains no other chunks, as is []. More complex but valid chunks include ([]), {()()()}, <([{}])>, [<>({}){}[([])<>]], and even (((((((((()))))))))).\n",
    "\n",
    "Some lines are incomplete, but others are corrupted. Find and discard the corrupted lines first.\n",
    "\n",
    "A corrupted line is one where a chunk closes with the wrong character - that is, where the characters it opens and closes with do not form one of the four legal pairs listed above.\n",
    "\n",
    "Examples of corrupted chunks include (], {()()()>, (((()))}, and <([]){()}[{}]). Such a chunk can appear anywhere within a line, and its presence causes the whole line to be considered corrupted.\n",
    "\n",
    "For example, consider the following navigation subsystem:\n",
    "\n",
    "```\n",
    "[({(<(())[]>[[{[]{<()<>>\n",
    "[(()[<>])]({[<{<<[]>>(\n",
    "{([(<{}[<>[]}>{[]{[(<()>\n",
    "(((({<>}<{<{<>}{[]{[]{}\n",
    "[[<[([]))<([[{}[[()]]]\n",
    "[{[{({}]{}}([{[{{{}}([]\n",
    "{<[[]]>}<{[{[{[]{()[[[]\n",
    "[<(<(<(<{}))><([]([]()\n",
    "<{([([[(<>()){}]>(<<{{\n",
    "<{([{{}}[<[[[<>{}]]]>[]]\n",
    "```\n",
    "\n",
    "Some of the lines aren't corrupted, just incomplete; you can ignore these lines for now. The remaining five lines are corrupted:\n",
    "\n",
    "-    {([(<{}[<>[]}>{[]{[(<()> - Expected ], but found } instead.\n",
    "-    [[<[([]))<([[{}[[()]]] - Expected ], but found ) instead.\n",
    "-    [{[{({}]{}}([{[{{{}}([] - Expected ), but found ] instead.\n",
    "-    [<(<(<(<{}))><([]([]() - Expected >, but found ) instead.\n",
    "-    <{([([[(<>()){}]>(<<{{ - Expected ], but found > instead.\n",
    "\n",
    "Stop at the first incorrect closing character on each corrupted line.\n",
    "\n",
    "Did you know that syntax checkers actually have contests to see who can get the high score for syntax errors in a file? It's true! To calculate the syntax error score for a line, take the first illegal character on the line and look it up in the following table:\n",
    "\n",
    "`    ): 3 points.\n",
    "`    ]: 57 points.\n",
    "`    }: 1197 points.\n",
    "`    >: 25137 points.\n",
    "\n",
    "In the above example, an illegal ) was found twice (2*3 = 6 points), an illegal ] was found once (57 points), an illegal } was found once (1197 points), and an illegal > was found once (25137 points). So, the total syntax error score for this file is 6+57+1197+25137 = 26397 points!\n",
    "\n",
    "Find the first illegal character in each corrupted line of the navigation subsystem. What is the total syntax error score for those errors?\n"
   ]
  },
  {
   "cell_type": "code",
   "execution_count": null,
   "metadata": {
    "dotnet_interactive": {
     "language": "fsharp"
    }
   },
   "outputs": [
    {
     "data": {
      "text/html": [
       "<table><thead><tr><th><i>index</i></th><th>value</th></tr></thead><tbody><tr><td>0</td><td>[({(&lt;(())[]&gt;[[{[]{&lt;()&lt;&gt;&gt;</td></tr><tr><td>1</td><td>[(()[&lt;&gt;])]({[&lt;{&lt;&lt;[]&gt;&gt;(</td></tr><tr><td>2</td><td>{([(&lt;{}[&lt;&gt;[]}&gt;{[]{[(&lt;()&gt;</td></tr><tr><td>3</td><td>(((({&lt;&gt;}&lt;{&lt;{&lt;&gt;}{[]{[]{}</td></tr><tr><td>4</td><td>[[&lt;[([]))&lt;([[{}[[()]]]</td></tr><tr><td>5</td><td>[{[{({}]{}}([{[{{{}}([]</td></tr><tr><td>6</td><td>{&lt;[[]]&gt;}&lt;{[{[{[]{()[[[]</td></tr><tr><td>7</td><td>[&lt;(&lt;(&lt;(&lt;{}))&gt;&lt;([]([]()</td></tr><tr><td>8</td><td>&lt;{([([[(&lt;&gt;()){}]&gt;(&lt;&lt;{{</td></tr><tr><td>9</td><td>&lt;{([{{}}[&lt;[[[&lt;&gt;{}]]]&gt;[]]</td></tr></tbody></table>"
      ]
     },
     "metadata": {},
     "output_type": "display_data"
    }
   ],
   "source": [
    "let testInput = \"\"\"\n",
    "[({(<(())[]>[[{[]{<()<>>\n",
    "[(()[<>])]({[<{<<[]>>(\n",
    "{([(<{}[<>[]}>{[]{[(<()>\n",
    "(((({<>}<{<{<>}{[]{[]{}\n",
    "[[<[([]))<([[{}[[()]]]\n",
    "[{[{({}]{}}([{[{{{}}([]\n",
    "{<[[]]>}<{[{[{[]{()[[[]\n",
    "[<(<(<(<{}))><([]([]()\n",
    "<{([([[(<>()){}]>(<<{{\n",
    "<{([{{}}[<[[[<>{}]]]>[]]\n",
    "\"\"\"\n",
    "\n",
    "let parse (input:string) =\n",
    "    input.Replace(\"\\r\", \"\").Split(\"\\n\")\n",
    "    |> Seq.filter (fun row -> row <> \"\")\n",
    "\n",
    "testInput |> parse"
   ]
  },
  {
   "cell_type": "code",
   "execution_count": null,
   "metadata": {
    "dotnet_interactive": {
     "language": "fsharp"
    }
   },
   "outputs": [
    {
     "data": {
      "text/html": [
       "<table><thead><tr><th>Value</th></tr></thead><tbody><tr><td><div class=\"dni-plaintext\">&gt;</div></td></tr></tbody></table>"
      ]
     },
     "metadata": {},
     "output_type": "display_data"
    }
   ],
   "source": [
    "let findCorrupted (input:string) =\n",
    "  let rec matchOne (input:char list) (stack:char list) =\n",
    "    match input with\n",
    "    | '['::rest -> matchOne rest (']'::stack)\n",
    "    | '('::rest -> matchOne rest (')'::stack)\n",
    "    | '{'::rest -> matchOne rest ('}'::stack)\n",
    "    | '<'::rest -> matchOne rest ('>'::stack)\n",
    "    | other::rest -> \n",
    "        match stack with\n",
    "        | top::stack2 when top=other -> matchOne rest stack2\n",
    "        | _ -> Some other\n",
    "    | _ -> None\n",
    "  matchOne (input.ToCharArray() |> List.ofArray) []\n",
    "\n",
    "findCorrupted \"[{}]()<>>\"\n"
   ]
  },
  {
   "cell_type": "code",
   "execution_count": null,
   "metadata": {
    "dotnet_interactive": {
     "language": "fsharp"
    }
   },
   "outputs": [
    {
     "data": {
      "text/html": [
       "<div class=\"dni-plaintext\">26397</div>"
      ]
     },
     "metadata": {},
     "output_type": "display_data"
    }
   ],
   "source": [
    "let scoreCorruptions (rows:seq<string>) =\n",
    "    rows\n",
    "    |> Seq.map( fun row ->\n",
    "        match (findCorrupted row) with\n",
    "        | Some ')' -> 3\n",
    "        | Some ']' -> 57\n",
    "        | Some '}' -> 1197\n",
    "        | Some '>' -> 25137\n",
    "        | _ -> 0\n",
    "    )\n",
    "    |> Seq.sum\n",
    "\n",
    "testInput |> parse |> scoreCorruptions"
   ]
  },
  {
   "cell_type": "code",
   "execution_count": null,
   "metadata": {
    "dotnet_interactive": {
     "language": "fsharp"
    }
   },
   "outputs": [
    {
     "data": {
      "text/html": [
       "<div class=\"dni-plaintext\">370407</div>"
      ]
     },
     "metadata": {},
     "output_type": "display_data"
    }
   ],
   "source": [
    "let test = System.IO.File.ReadAllText \"task.txt\"\n",
    "\n",
    "test |> parse |> scoreCorruptions"
   ]
  },
  {
   "cell_type": "markdown",
   "metadata": {
    "dotnet_interactive": {
     "language": "fsharp"
    }
   },
   "source": [
    "--- Part Two ---\n",
    "\n",
    "Now, discard the corrupted lines. The remaining lines are incomplete.\n",
    "\n",
    "Incomplete lines don't have any incorrect characters - instead, they're missing some closing characters at the end of the line. To repair the navigation subsystem, you just need to figure out the sequence of closing characters that complete all open chunks in the line.\n",
    "\n",
    "You can only use closing characters (), ], }, or >), and you must add them in the correct order so that only legal pairs are formed and all chunks end up closed.\n",
    "\n",
    "In the example above, there are five incomplete lines:\n",
    "\n",
    "-    [({(<(())[]>[[{[]{<()<>> - Complete by adding }}]])})].\n",
    "-    [(()[<>])]({[<{<<[]>>( - Complete by adding )}>]}).\n",
    "-    (((({<>}<{<{<>}{[]{[]{} - Complete by adding }}>}>)))).\n",
    "-    {<[[]]>}<{[{[{[]{()[[[] - Complete by adding ]]}}]}]}>.\n",
    "-    <{([{{}}[<[[[<>{}]]]>[]] - Complete by adding ])}>.\n",
    "\n",
    "Did you know that autocomplete tools also have contests? It's true! The score is determined by considering the completion string character-by-character. Start with a total score of 0. Then, for each character, multiply the total score by 5 and then increase the total score by the point value given for the character in the following table:\n",
    "\n",
    "-    ): 1 point.\n",
    "-    ]: 2 points.\n",
    "-    }: 3 points.\n",
    "-    >: 4 points.\n",
    "\n",
    "So, the last completion string above - ])}> - would be scored as follows:\n",
    "\n",
    "-    Start with a total score of 0.\n",
    "-    Multiply the total score by 5 to get 0, then add the value of ] (2) to get a new total score of 2.\n",
    "-    Multiply the total score by 5 to get 10, then add the value of ) (1) to get a new total score of 11.\n",
    "-    Multiply the total score by 5 to get 55, then add the value of } (3) to get a new total score of 58.\n",
    "-    Multiply the total score by 5 to get 290, then add the value of > (4) to get a new total score of 294.\n",
    "\n",
    "The five lines' completion strings have total scores as follows:\n",
    "\n",
    "-    }}]])})] - 288957 total points.\n",
    "-    )}>]}) - 5566 total points.\n",
    "-    }}>}>)))) - 1480781 total points.\n",
    "-    ]]}}]}]}> - 995444 total points.\n",
    "-    ])}> - 294 total points.\n",
    "\n",
    "Autocomplete tools are an odd bunch: the winner is found by sorting all of the scores and then taking the middle score. (There will always be an odd number of scores to consider.) In this example, the middle score is 288957 because there are the same number of scores smaller and larger than it.\n",
    "\n",
    "Find the completion string for each incomplete line, score the completion strings, and sort the scores. What is the middle score?\n"
   ]
  },
  {
   "cell_type": "code",
   "execution_count": null,
   "metadata": {
    "dotnet_interactive": {
     "language": "fsharp"
    }
   },
   "outputs": [
    {
     "data": {
      "text/html": [
       "<table><thead><tr><th>Value</th></tr></thead><tbody><tr><td><div class=\"dni-plaintext\">[ ) ]</div></td></tr></tbody></table>"
      ]
     },
     "metadata": {},
     "output_type": "display_data"
    }
   ],
   "source": [
    "let findIncomplete (input:string) =\n",
    "  let rec matchOne (input:char list) (stack:char list) =\n",
    "    match input with\n",
    "    | '['::rest -> matchOne rest (']'::stack)\n",
    "    | '('::rest -> matchOne rest (')'::stack)\n",
    "    | '{'::rest -> matchOne rest ('}'::stack)\n",
    "    | '<'::rest -> matchOne rest ('>'::stack)\n",
    "    | other::rest -> \n",
    "        match stack with\n",
    "        | top::stack2 when top=other -> matchOne rest stack2\n",
    "        | _ -> None\n",
    "    | _ -> match stack with\n",
    "           | [] -> None\n",
    "           | _ -> Some stack\n",
    "  matchOne (input.ToCharArray() |> List.ofArray) []\n",
    "\n",
    "findIncomplete \"({}\""
   ]
  },
  {
   "cell_type": "code",
   "execution_count": null,
   "metadata": {
    "dotnet_interactive": {
     "language": "fsharp"
    }
   },
   "outputs": [
    {
     "data": {
      "text/html": [
       "<div class=\"dni-plaintext\">288957</div>"
      ]
     },
     "metadata": {},
     "output_type": "display_data"
    }
   ],
   "source": [
    "let scoreClosingPart (stack:char list) = \n",
    "    stack \n",
    "    |> List.fold (\n",
    "        fun score char -> \n",
    "            score * 5L + match char with\n",
    "                        | ')' -> 1L\n",
    "                        | ']' -> 2L\n",
    "                        | '}' -> 3L\n",
    "                        | '>' -> 4L\n",
    "                        | _ -> 0L\n",
    "        )\n",
    "        0L\n",
    "\n",
    "scoreClosingPart ['}'; '}'; ']'; ']'; ')'; '}'; ')'; ']']"
   ]
  },
  {
   "cell_type": "code",
   "execution_count": null,
   "metadata": {
    "dotnet_interactive": {
     "language": "fsharp"
    }
   },
   "outputs": [
    {
     "data": {
      "text/html": [
       "<div class=\"dni-plaintext\">288957</div>"
      ]
     },
     "metadata": {},
     "output_type": "display_data"
    }
   ],
   "source": [
    "let scoreAllIncomplete (rows: seq<string>) =\n",
    "    rows\n",
    "    |> Seq.map findIncomplete\n",
    "    |> Seq.choose id\n",
    "    |> Seq.map scoreClosingPart\n",
    "    |> Seq.sort\n",
    "    |> Seq.toArray\n",
    "    |> (fun result -> \n",
    "        Seq.item (result.Length  / 2 ) result \n",
    "    )\n",
    "\n",
    "testInput |> parse |> scoreAllIncomplete"
   ]
  },
  {
   "cell_type": "code",
   "execution_count": null,
   "metadata": {
    "dotnet_interactive": {
     "language": "fsharp"
    }
   },
   "outputs": [
    {
     "data": {
      "text/html": [
       "<div class=\"dni-plaintext\">3249889609</div>"
      ]
     },
     "metadata": {},
     "output_type": "display_data"
    }
   ],
   "source": [
    "test |> parse |> scoreAllIncomplete"
   ]
  }
 ],
 "metadata": {
  "kernelspec": {
   "display_name": ".NET (F#)",
   "language": "F#",
   "name": ".net-fsharp"
  },
  "language_info": {
   "name": "F#"
  }
 },
 "nbformat": 4,
 "nbformat_minor": 2
}
