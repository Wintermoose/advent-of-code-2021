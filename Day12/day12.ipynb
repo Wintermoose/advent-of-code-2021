{
 "cells": [
  {
   "cell_type": "markdown",
   "metadata": {},
   "source": [
    "--- Day 12: Passage Pathing ---\n",
    "\n",
    "With your submarine's subterranean subsystems subsisting suboptimally, the only way you're getting out of this cave anytime soon is by finding a path yourself. Not just a path - the only way to know if you've found the best path is to find all of them.\n",
    "\n",
    "Fortunately, the sensors are still mostly working, and so you build a rough map of the remaining caves (your puzzle input). For example:\n",
    "\n",
    "```\n",
    "start-A\n",
    "start-b\n",
    "A-c\n",
    "A-b\n",
    "b-d\n",
    "A-end\n",
    "b-end\n",
    "```\n",
    "\n",
    "This is a list of how all of the caves are connected. You start in the cave named start, and your destination is the cave named end. An entry like b-d means that cave b is connected to cave d - that is, you can move between them.\n",
    "\n",
    "So, the above cave system looks roughly like this:\n",
    "\n",
    "```\n",
    "    start\n",
    "    /   \\\n",
    "c--A-----b--d\n",
    "    \\   /\n",
    "     end\n",
    "```\n",
    "\n",
    "Your goal is to find the number of distinct paths that start at start, end at end, and don't visit small caves more than once. There are two types of caves: big caves (written in uppercase, like A) and small caves (written in lowercase, like b). It would be a waste of time to visit any small cave more than once, but big caves are large enough that it might be worth visiting them multiple times. So, all paths you find should visit small caves at most once, and can visit big caves any number of times.\n",
    "\n",
    "Given these rules, there are 10 paths through this example cave system:\n",
    "\n",
    "```\n",
    "start,A,b,A,c,A,end\n",
    "start,A,b,A,end\n",
    "start,A,b,end\n",
    "start,A,c,A,b,A,end\n",
    "start,A,c,A,b,end\n",
    "start,A,c,A,end\n",
    "start,A,end\n",
    "start,b,A,c,A,end\n",
    "start,b,A,end\n",
    "start,b,end\n",
    "```\n",
    "\n",
    "(Each line in the above list corresponds to a single path; the caves visited by that path are listed in the order they are visited and separated by commas.)\n",
    "\n",
    "Note that in this cave system, cave d is never visited by any path: to do so, cave b would need to be visited twice (once on the way to cave d and a second time when returning from cave d), and since cave b is small, this is not allowed.\n",
    "\n",
    "Here is a slightly larger example:\n",
    "\n",
    "```\n",
    "dc-end\n",
    "HN-start\n",
    "start-kj\n",
    "dc-start\n",
    "dc-HN\n",
    "LN-dc\n",
    "HN-end\n",
    "kj-sa\n",
    "kj-HN\n",
    "kj-dc\n",
    "```\n",
    "\n",
    "The 19 paths through it are as follows:\n",
    "\n",
    "```\n",
    "start,HN,dc,HN,end\n",
    "start,HN,dc,HN,kj,HN,end\n",
    "start,HN,dc,end\n",
    "start,HN,dc,kj,HN,end\n",
    "start,HN,end\n",
    "start,HN,kj,HN,dc,HN,end\n",
    "start,HN,kj,HN,dc,end\n",
    "start,HN,kj,HN,end\n",
    "start,HN,kj,dc,HN,end\n",
    "start,HN,kj,dc,end\n",
    "start,dc,HN,end\n",
    "start,dc,HN,kj,HN,end\n",
    "start,dc,end\n",
    "start,dc,kj,HN,end\n",
    "start,kj,HN,dc,HN,end\n",
    "start,kj,HN,dc,end\n",
    "start,kj,HN,end\n",
    "start,kj,dc,HN,end\n",
    "start,kj,dc,end\n",
    "```\n",
    "\n",
    "Finally, this even larger example has 226 paths through it:\n",
    "\n",
    "```\n",
    "fs-end\n",
    "he-DX\n",
    "fs-he\n",
    "start-DX\n",
    "pj-DX\n",
    "end-zg\n",
    "zg-sl\n",
    "zg-pj\n",
    "pj-he\n",
    "RW-he\n",
    "fs-DX\n",
    "pj-RW\n",
    "zg-RW\n",
    "start-pj\n",
    "he-WI\n",
    "zg-he\n",
    "pj-fs\n",
    "start-RW\n",
    "```\n",
    "\n",
    "How many paths through this cave system are there that visit small caves at most once?\n"
   ]
  },
  {
   "cell_type": "code",
   "execution_count": null,
   "metadata": {
    "dotnet_interactive": {
     "language": "fsharp"
    }
   },
   "outputs": [],
   "source": [
    "let testInput1 = \"\"\"\n",
    "start-A\n",
    "start-b\n",
    "A-c\n",
    "A-b\n",
    "b-d\n",
    "A-end\n",
    "b-end\n",
    "\"\"\"\n",
    "\n",
    "let testInput2 = \"\"\"\n",
    "dc-end\n",
    "HN-start\n",
    "start-kj\n",
    "dc-start\n",
    "dc-HN\n",
    "LN-dc\n",
    "HN-end\n",
    "kj-sa\n",
    "kj-HN\n",
    "kj-dc\n",
    "\"\"\"\n",
    "\n",
    "let testInput3 = \"\"\"\n",
    "fs-end\n",
    "he-DX\n",
    "fs-he\n",
    "start-DX\n",
    "pj-DX\n",
    "end-zg\n",
    "zg-sl\n",
    "zg-pj\n",
    "pj-he\n",
    "RW-he\n",
    "fs-DX\n",
    "pj-RW\n",
    "zg-RW\n",
    "start-pj\n",
    "he-WI\n",
    "zg-he\n",
    "pj-fs\n",
    "start-RW\n",
    "\"\"\""
   ]
  },
  {
   "cell_type": "code",
   "execution_count": null,
   "metadata": {},
   "outputs": [
    {
     "data": {
      "text/html": [
       "<table><thead><tr><th><i>key</i></th><th>value</th></tr></thead><tbody><tr><td>A</td><td><div class=\"dni-plaintext\">[ start, c, b, end ]</div></td></tr><tr><td>b</td><td><div class=\"dni-plaintext\">[ start, A, d, end ]</div></td></tr><tr><td>c</td><td><div class=\"dni-plaintext\">[ A ]</div></td></tr><tr><td>d</td><td><div class=\"dni-plaintext\">[ b ]</div></td></tr><tr><td>end</td><td><div class=\"dni-plaintext\">[ A, b ]</div></td></tr><tr><td>start</td><td><div class=\"dni-plaintext\">[ A, b ]</div></td></tr></tbody></table>"
      ]
     },
     "metadata": {},
     "output_type": "display_data"
    }
   ],
   "source": [
    "let parse (input:string) = \n",
    "    input.Replace(\"\\r\", \"\").Split(\"\\n\")\n",
    "    |> Seq.filter ((<>) \"\")\n",
    "    |> Seq.map (fun row -> row.Split(\"-\") )\n",
    "    |> Seq.map (\n",
    "        function \n",
    "            | [|s; e;|]  -> [(s,e); (e,s)] \n",
    "            | _ -> failwith \"Unexpected input\"\n",
    "        )\n",
    "    |> Seq.concat    \n",
    "    |> Seq.groupBy fst\n",
    "    |> Seq.map (\n",
    "        fun (key, value) -> (\n",
    "            key, \n",
    "            ( value |> Seq.map snd )\n",
    "        )\n",
    "    )\n",
    "    |> Map.ofSeq\n",
    "\n",
    "testInput1 |> parse"
   ]
  },
  {
   "cell_type": "code",
   "execution_count": null,
   "metadata": {
    "dotnet_interactive": {
     "language": "fsharp"
    }
   },
   "outputs": [
    {
     "data": {
      "text/html": [
       "<table><thead><tr><th>Item1</th><th>Item2</th></tr></thead><tbody><tr><td><div class=\"dni-plaintext\">False</div></td><td><div class=\"dni-plaintext\">True</div></td></tr></tbody></table>"
      ]
     },
     "metadata": {},
     "output_type": "display_data"
    }
   ],
   "source": [
    "let isBig (cave:string) = \n",
    "    cave.ToLower() <> cave\n",
    "\n",
    "(isBig \"bob\", isBig \"BOB\")"
   ]
  },
  {
   "cell_type": "code",
   "execution_count": null,
   "metadata": {
    "dotnet_interactive": {
     "language": "fsharp"
    }
   },
   "outputs": [
    {
     "data": {
      "text/html": [
       "<table><thead><tr><th><i>index</i></th><th>value</th></tr></thead><tbody><tr><td>0</td><td><div class=\"dni-plaintext\">[ start, A, c, A, b, A, end ]</div></td></tr><tr><td>1</td><td><div class=\"dni-plaintext\">[ start, A, c, A, b, end ]</div></td></tr><tr><td>2</td><td><div class=\"dni-plaintext\">[ start, A, c, A, end ]</div></td></tr><tr><td>3</td><td><div class=\"dni-plaintext\">[ start, A, b, A, c, A, end ]</div></td></tr><tr><td>4</td><td><div class=\"dni-plaintext\">[ start, A, b, A, end ]</div></td></tr><tr><td>5</td><td><div class=\"dni-plaintext\">[ start, A, b, end ]</div></td></tr><tr><td>6</td><td><div class=\"dni-plaintext\">[ start, A, end ]</div></td></tr><tr><td>7</td><td><div class=\"dni-plaintext\">[ start, b, A, c, A, end ]</div></td></tr><tr><td>8</td><td><div class=\"dni-plaintext\">[ start, b, A, end ]</div></td></tr><tr><td>9</td><td><div class=\"dni-plaintext\">[ start, b, end ]</div></td></tr></tbody></table>"
      ]
     },
     "metadata": {},
     "output_type": "display_data"
    }
   ],
   "source": [
    "let findPaths (input: Map<string, seq<string>> ) =\n",
    "    let rec findNext (current:string) (visited:Set<string>) (path: list<string>) =\n",
    "        if current = \"end\" then\n",
    "            [ yield path ]\n",
    "        else             \n",
    "            input[current]\n",
    "            |> Seq.filter (fun target -> isBig target || not(visited.Contains target) )\n",
    "            |> Seq.map (fun next ->\n",
    "                findNext next (visited.Add(next)) (next::path)\n",
    "            )\n",
    "            |> Seq.concat\n",
    "            |> List.ofSeq\n",
    "\n",
    "    findNext \"start\" (Set.empty.Add(\"start\")) [\"start\"]\n",
    "    |> Seq.map List.rev\n",
    "    |> Seq.distinct\n",
    "\n",
    "testInput1 |> parse |> findPaths\n"
   ]
  },
  {
   "cell_type": "code",
   "execution_count": null,
   "metadata": {
    "dotnet_interactive": {
     "language": "fsharp"
    }
   },
   "outputs": [
    {
     "data": {
      "text/html": [
       "<table><thead><tr><th><i>index</i></th><th>value</th></tr></thead><tbody><tr><td>0</td><td><div class=\"dni-plaintext\">[ start, HN, dc, end ]</div></td></tr><tr><td>1</td><td><div class=\"dni-plaintext\">[ start, HN, dc, HN, end ]</div></td></tr><tr><td>2</td><td><div class=\"dni-plaintext\">[ start, HN, dc, HN, kj, HN, end ]</div></td></tr><tr><td>3</td><td><div class=\"dni-plaintext\">[ start, HN, dc, kj, HN, end ]</div></td></tr><tr><td>4</td><td><div class=\"dni-plaintext\">[ start, HN, end ]</div></td></tr><tr><td>5</td><td><div class=\"dni-plaintext\">[ start, HN, kj, HN, dc, end ]</div></td></tr><tr><td>6</td><td><div class=\"dni-plaintext\">[ start, HN, kj, HN, dc, HN, end ]</div></td></tr><tr><td>7</td><td><div class=\"dni-plaintext\">[ start, HN, kj, HN, end ]</div></td></tr><tr><td>8</td><td><div class=\"dni-plaintext\">[ start, HN, kj, dc, end ]</div></td></tr><tr><td>9</td><td><div class=\"dni-plaintext\">[ start, HN, kj, dc, HN, end ]</div></td></tr><tr><td>10</td><td><div class=\"dni-plaintext\">[ start, kj, HN, dc, end ]</div></td></tr><tr><td>11</td><td><div class=\"dni-plaintext\">[ start, kj, HN, dc, HN, end ]</div></td></tr><tr><td>12</td><td><div class=\"dni-plaintext\">[ start, kj, HN, end ]</div></td></tr><tr><td>13</td><td><div class=\"dni-plaintext\">[ start, kj, dc, end ]</div></td></tr><tr><td>14</td><td><div class=\"dni-plaintext\">[ start, kj, dc, HN, end ]</div></td></tr><tr><td>15</td><td><div class=\"dni-plaintext\">[ start, dc, end ]</div></td></tr><tr><td>16</td><td><div class=\"dni-plaintext\">[ start, dc, HN, end ]</div></td></tr><tr><td>17</td><td><div class=\"dni-plaintext\">[ start, dc, HN, kj, HN, end ]</div></td></tr><tr><td>18</td><td><div class=\"dni-plaintext\">[ start, dc, kj, HN, end ]</div></td></tr></tbody></table>"
      ]
     },
     "metadata": {},
     "output_type": "display_data"
    }
   ],
   "source": [
    "testInput2 |> parse |> findPaths"
   ]
  },
  {
   "cell_type": "code",
   "execution_count": null,
   "metadata": {
    "dotnet_interactive": {
     "language": "fsharp"
    }
   },
   "outputs": [
    {
     "data": {
      "text/html": [
       "<div class=\"dni-plaintext\">226</div>"
      ]
     },
     "metadata": {},
     "output_type": "display_data"
    }
   ],
   "source": [
    "testInput3 |>parse |> findPaths |> Seq.length"
   ]
  },
  {
   "cell_type": "code",
   "execution_count": null,
   "metadata": {
    "dotnet_interactive": {
     "language": "fsharp"
    }
   },
   "outputs": [
    {
     "data": {
      "text/html": [
       "<div class=\"dni-plaintext\">4378</div>"
      ]
     },
     "metadata": {},
     "output_type": "display_data"
    }
   ],
   "source": [
    "let task = System.IO.File.ReadAllText \"task.txt\"\n",
    "\n",
    "task |> parse |> findPaths |> Seq.length"
   ]
  },
  {
   "cell_type": "markdown",
   "metadata": {},
   "source": [
    "--- Part Two ---\n",
    "\n",
    "After reviewing the available paths, you realize you might have time to visit a single small cave twice. Specifically, big caves can be visited any number of times, a single small cave can be visited at most twice, and the remaining small caves can be visited at most once. However, the caves named start and end can only be visited exactly once each: once you leave the start cave, you may not return to it, and once you reach the end cave, the path must end immediately.\n",
    "\n",
    "Now, the 36 possible paths through the first example above are:\n",
    "\n",
    "```\n",
    "start,A,b,A,b,A,c,A,end\n",
    "start,A,b,A,b,A,end\n",
    "start,A,b,A,b,end\n",
    "start,A,b,A,c,A,b,A,end\n",
    "start,A,b,A,c,A,b,end\n",
    "start,A,b,A,c,A,c,A,end\n",
    "start,A,b,A,c,A,end\n",
    "start,A,b,A,end\n",
    "start,A,b,d,b,A,c,A,end\n",
    "start,A,b,d,b,A,end\n",
    "start,A,b,d,b,end\n",
    "start,A,b,end\n",
    "start,A,c,A,b,A,b,A,end\n",
    "start,A,c,A,b,A,b,end\n",
    "start,A,c,A,b,A,c,A,end\n",
    "start,A,c,A,b,A,end\n",
    "start,A,c,A,b,d,b,A,end\n",
    "start,A,c,A,b,d,b,end\n",
    "start,A,c,A,b,end\n",
    "start,A,c,A,c,A,b,A,end\n",
    "start,A,c,A,c,A,b,end\n",
    "start,A,c,A,c,A,end\n",
    "start,A,c,A,end\n",
    "start,A,end\n",
    "start,b,A,b,A,c,A,end\n",
    "start,b,A,b,A,end\n",
    "start,b,A,b,end\n",
    "start,b,A,c,A,b,A,end\n",
    "start,b,A,c,A,b,end\n",
    "start,b,A,c,A,c,A,end\n",
    "start,b,A,c,A,end\n",
    "start,b,A,end\n",
    "start,b,d,b,A,c,A,end\n",
    "start,b,d,b,A,end\n",
    "start,b,d,b,end\n",
    "start,b,end\n",
    "```\n",
    "\n",
    "The slightly larger example above now has 103 paths through it, and the even larger example now has 3509 paths through it.\n",
    "\n",
    "Given these new rules, how many paths through this cave system are there?\n"
   ]
  },
  {
   "cell_type": "code",
   "execution_count": null,
   "metadata": {
    "dotnet_interactive": {
     "language": "fsharp"
    }
   },
   "outputs": [
    {
     "data": {
      "text/html": [
       "<div class=\"dni-plaintext\">36</div>"
      ]
     },
     "metadata": {},
     "output_type": "display_data"
    }
   ],
   "source": [
    "let findPathsComplex (input: Map<string, seq<string>> ) =\n",
    "    let rec findNext (current:string) (visited:Set<string>) (interesting: string) (path: list<string>) =\n",
    "        if current = \"end\" then\n",
    "            [ yield path ]\n",
    "        else             \n",
    "            input[current]\n",
    "            |> Seq.filter ( (<>) \"start\" )\n",
    "            |> Seq.filter (fun target -> isBig target || interesting=\"\" || not(visited.Contains target) )\n",
    "            |> Seq.map (fun next ->\n",
    "                if (not(isBig next)) && (visited.Contains next) then\n",
    "                    findNext next visited next (next::path)\n",
    "                else\n",
    "                    findNext next (visited.Add(next)) interesting (next::path)\n",
    "            )\n",
    "            |> Seq.concat\n",
    "            |> List.ofSeq\n",
    "\n",
    "    findNext \"start\" (Set.empty.Add(\"start\")) \"\" [\"start\"]\n",
    "    |> Seq.map List.rev\n",
    "    |> Seq.distinct\n",
    "\n",
    "testInput1 |> parse |> findPathsComplex |> Seq.length"
   ]
  },
  {
   "cell_type": "code",
   "execution_count": null,
   "metadata": {
    "dotnet_interactive": {
     "language": "fsharp"
    }
   },
   "outputs": [
    {
     "data": {
      "text/html": [
       "<div class=\"dni-plaintext\">103</div>"
      ]
     },
     "metadata": {},
     "output_type": "display_data"
    }
   ],
   "source": [
    "testInput2 |> parse |> findPathsComplex |> Seq.length"
   ]
  },
  {
   "cell_type": "code",
   "execution_count": null,
   "metadata": {
    "dotnet_interactive": {
     "language": "fsharp"
    }
   },
   "outputs": [
    {
     "data": {
      "text/html": [
       "<div class=\"dni-plaintext\">3509</div>"
      ]
     },
     "metadata": {},
     "output_type": "display_data"
    }
   ],
   "source": [
    "testInput3 |> parse |> findPathsComplex |> Seq.length"
   ]
  },
  {
   "cell_type": "code",
   "execution_count": null,
   "metadata": {
    "dotnet_interactive": {
     "language": "fsharp"
    }
   },
   "outputs": [
    {
     "data": {
      "text/html": [
       "<div class=\"dni-plaintext\">133621</div>"
      ]
     },
     "metadata": {},
     "output_type": "display_data"
    }
   ],
   "source": [
    "task |> parse |> findPathsComplex |> Seq.length"
   ]
  }
 ],
 "metadata": {
  "kernelspec": {
   "display_name": ".NET (F#)",
   "language": "F#",
   "name": ".net-fsharp"
  },
  "language_info": {
   "name": "F#"
  }
 },
 "nbformat": 4,
 "nbformat_minor": 2
}
