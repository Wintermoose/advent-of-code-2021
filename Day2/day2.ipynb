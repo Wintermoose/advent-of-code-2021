{
 "cells": [
  {
   "cell_type": "markdown",
   "metadata": {},
   "source": [
    "--- Day 2: Dive! ---\n",
    "\n",
    "Now, you need to figure out how to pilot this thing.\n",
    "\n",
    "It seems like the submarine can take a series of commands like forward 1, down 2, or up 3:\n",
    "\n",
    "\n",
    "-    forward X increases the horizontal position by X units.\n",
    "-    down X increases the depth by X units.\n",
    "-    up X decreases the depth by X units.\n",
    "\n",
    "\n",
    "Note that since you're on a submarine, down and up affect your depth, and so they have the opposite result of what you might expect.\n",
    "\n",
    "The submarine seems to already have a planned course (your puzzle input). You should probably figure out where it's going. For example:\n",
    "\n",
    "```\n",
    "forward 5\n",
    "down 5\n",
    "forward 8\n",
    "up 3\n",
    "down 8\n",
    "forward 2\n",
    "```\n",
    "\n",
    "Your horizontal position and depth both start at 0. The steps above would then modify them as follows:\n",
    "\n",
    "-    forward 5 adds 5 to your horizontal position, a total of 5.\n",
    "-    down 5 adds 5 to your depth, resulting in a value of 5.\n",
    "-    forward 8 adds 8 to your horizontal position, a total of 13.\n",
    "-    up 3 decreases your depth by 3, resulting in a value of 2.\n",
    "-    down 8 adds 8 to your depth, resulting in a value of 10.\n",
    "-    forward 2 adds 2 to your horizontal position, a total of 15.\n",
    "\n",
    "After following these instructions, you would have a horizontal position of 15 and a depth of 10. (Multiplying these together produces 150.)\n",
    "\n",
    "Calculate the horizontal position and depth you would have after following the planned course. *What do you get if you multiply your final horizontal position by your final depth?*\n"
   ]
  },
  {
   "cell_type": "code",
   "execution_count": null,
   "metadata": {
    "dotnet_interactive": {
     "language": "fsharp"
    }
   },
   "outputs": [],
   "source": [
    "#load \"../Shared/regexp.fsx\"\n",
    "open RegexpMatch\n",
    "\n",
    "let testInput = \"\"\"\n",
    "forward 5\n",
    "down 5\n",
    "forward 8\n",
    "up 3\n",
    "down 8\n",
    "forward 2\n",
    "\"\"\""
   ]
  },
  {
   "cell_type": "code",
   "execution_count": null,
   "metadata": {
    "dotnet_interactive": {
     "language": "fsharp"
    }
   },
   "outputs": [
    {
     "data": {
      "text/html": [
       "<table><thead><tr><th><i>index</i></th><th><i>type</i></th><th>Item</th></tr></thead><tbody><tr><td>0</td><td>FSI_0049+Instruction+Forward</td><td><div class=\"dni-plaintext\">5</div></td></tr><tr><td>1</td><td>FSI_0049+Instruction+Down</td><td><div class=\"dni-plaintext\">5</div></td></tr><tr><td>2</td><td>FSI_0049+Instruction+Forward</td><td><div class=\"dni-plaintext\">8</div></td></tr><tr><td>3</td><td>FSI_0049+Instruction+Up</td><td><div class=\"dni-plaintext\">3</div></td></tr><tr><td>4</td><td>FSI_0049+Instruction+Down</td><td><div class=\"dni-plaintext\">8</div></td></tr><tr><td>5</td><td>FSI_0049+Instruction+Forward</td><td><div class=\"dni-plaintext\">2</div></td></tr></tbody></table>"
      ]
     },
     "metadata": {},
     "output_type": "display_data"
    }
   ],
   "source": [
    "type Instruction = \n",
    "    | Up of int\n",
    "    | Down of int\n",
    "    | Forward of int\n",
    "\n",
    "let parse (input:string): seq<Instruction> =\n",
    "    input.Replace(\"\\r\", \"\").Split(\"\\n\")\n",
    "    |> Seq.filter( fun x -> x <> \"\")\n",
    "    |> Seq.map (\n",
    "        function \n",
    "        | Regex @\"(\\w+)\\s+(\\d+)\" [command; param] ->\n",
    "            match command with\n",
    "            | \"forward\" -> Forward (int param)\n",
    "            | \"up\" -> Up (int param)\n",
    "            | \"down\" -> Down (int param)\n",
    "            | op -> failwithf \"Unexpected input %s\" op\n",
    "        | token -> failwithf \"Unexpeted input %s\" token\n",
    "    )\n",
    "\n",
    "testInput |> parse\n"
   ]
  },
  {
   "cell_type": "code",
   "execution_count": null,
   "metadata": {
    "dotnet_interactive": {
     "language": "fsharp"
    }
   },
   "outputs": [
    {
     "data": {
      "text/html": [
       "<table><thead><tr><th>Item1</th><th>Item2</th></tr></thead><tbody><tr><td><div class=\"dni-plaintext\">15</div></td><td><div class=\"dni-plaintext\">10</div></td></tr></tbody></table>"
      ]
     },
     "metadata": {},
     "output_type": "display_data"
    }
   ],
   "source": [
    "let execute (pos: (int * int)) (commands: seq<Instruction>): (int * int) =\n",
    "    commands\n",
    "    |> Seq.fold(\n",
    "        fun (x, y) command ->\n",
    "            match command with\n",
    "            | (Forward step) -> (x + step, y)\n",
    "            | (Down step) -> (x, y + step)\n",
    "            | (Up step) -> (x, y - step)\n",
    "        )\n",
    "        pos\n",
    "\n",
    "testInput |> parse |> execute (0,0)"
   ]
  },
  {
   "cell_type": "code",
   "execution_count": null,
   "metadata": {
    "dotnet_interactive": {
     "language": "fsharp"
    }
   },
   "outputs": [
    {
     "data": {
      "text/html": [
       "<div class=\"dni-plaintext\">150</div>"
      ]
     },
     "metadata": {},
     "output_type": "display_data"
    }
   ],
   "source": [
    "let evaluate ((x,y): (int*int)): int =\n",
    "    x * y\n",
    "\n",
    "testInput |> parse |> execute (0,0) |> evaluate"
   ]
  },
  {
   "cell_type": "code",
   "execution_count": null,
   "metadata": {
    "dotnet_interactive": {
     "language": "fsharp"
    }
   },
   "outputs": [
    {
     "data": {
      "text/html": [
       "<div class=\"dni-plaintext\">1427868</div>"
      ]
     },
     "metadata": {},
     "output_type": "display_data"
    }
   ],
   "source": [
    "let task = System.IO.File.ReadAllText \"task.txt\"\n",
    "\n",
    "task |> parse |> execute (0,0) |> evaluate"
   ]
  },
  {
   "cell_type": "markdown",
   "metadata": {},
   "source": [
    "--- Part Two ---\n",
    "\n",
    "Based on your calculations, the planned course doesn't seem to make any sense. You find the submarine manual and discover that the process is actually slightly more complicated.\n",
    "\n",
    "In addition to horizontal position and depth, you'll also need to track a third value, aim, which also starts at 0. The commands also mean something entirely different than you first thought:\n",
    "\n",
    "-    down X increases your aim by X units.\n",
    "-    up X decreases your aim by X units.\n",
    "-    forward X does two things:\n",
    "*   *    It increases your horizontal position by X units.\n",
    "*   *    It increases your depth by your aim multiplied by X.\n",
    "\n",
    "Again note that since you're on a submarine, down and up do the opposite of what you might expect: \"down\" means aiming in the positive direction.\n",
    "\n",
    "Now, the above example does something different:\n",
    "\n",
    "-    forward 5 adds 5 to your horizontal position, a total of 5. Because your aim is 0, your depth does not change.\n",
    "-    down 5 adds 5 to your aim, resulting in a value of 5.\n",
    "-    forward 8 adds 8 to your horizontal position, a total of 13. Because your aim is 5, your depth increases by 8*5=40.\n",
    "-    up 3 decreases your aim by 3, resulting in a value of 2.\n",
    "-    down 8 adds 8 to your aim, resulting in a value of 10.\n",
    "-    forward 2 adds 2 to your horizontal position, a total of 15. Because your aim is 10, your depth increases by 2*10=20 to a total of 60.\n",
    "\n",
    "After following these new instructions, you would have a horizontal position of 15 and a depth of 60. (Multiplying these produces 900.)\n",
    "\n",
    "Using this new interpretation of the commands, calculate the horizontal position and depth you would have after following the planned course. What do you get if you multiply your final horizontal position by your final depth?\n"
   ]
  },
  {
   "cell_type": "code",
   "execution_count": null,
   "metadata": {
    "dotnet_interactive": {
     "language": "fsharp"
    }
   },
   "outputs": [
    {
     "data": {
      "text/html": [
       "<table><thead><tr><th>Item1</th><th>Item2</th><th>Item3</th></tr></thead><tbody><tr><td><div class=\"dni-plaintext\">15</div></td><td><div class=\"dni-plaintext\">60</div></td><td><div class=\"dni-plaintext\">10</div></td></tr></tbody></table>"
      ]
     },
     "metadata": {},
     "output_type": "display_data"
    }
   ],
   "source": [
    "let execute2 (pos: (int * int * int)) (commands: seq<Instruction>): (int * int * int) =\n",
    "    commands\n",
    "    |> Seq.fold(\n",
    "        fun (x, y, aim) command ->\n",
    "            match command with\n",
    "            | (Forward step) -> (x + step, y + aim * step, aim)\n",
    "            | (Down step) -> (x, y, aim + step)\n",
    "            | (Up step) -> (x, y, aim - step)\n",
    "        )\n",
    "        pos\n",
    "\n",
    "testInput |> parse |> execute2 (0,0,0)"
   ]
  },
  {
   "cell_type": "code",
   "execution_count": null,
   "metadata": {
    "dotnet_interactive": {
     "language": "fsharp"
    }
   },
   "outputs": [
    {
     "data": {
      "text/html": [
       "<div class=\"dni-plaintext\">1568138742</div>"
      ]
     },
     "metadata": {},
     "output_type": "display_data"
    }
   ],
   "source": [
    "task |> parse |> execute2 (0,0,0) |> fun (x,y,z) -> evaluate (x,y)"
   ]
  }
 ],
 "metadata": {
  "kernelspec": {
   "display_name": ".NET (F#)",
   "language": "F#",
   "name": ".net-fsharp"
  },
  "language_info": {
   "name": "F#"
  }
 },
 "nbformat": 4,
 "nbformat_minor": 2
}
