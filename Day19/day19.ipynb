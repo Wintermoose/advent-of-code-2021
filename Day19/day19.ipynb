{
 "cells": [
  {
   "cell_type": "markdown",
   "metadata": {},
   "source": [
    "--- Day 19: Beacon Scanner ---\n",
    "\n",
    "As your probe drifted down through this area, it released an assortment of beacons and scanners into the water. It's difficult to navigate in the pitch black open waters of the ocean trench, but if you can build a map of the trench using data from the scanners, you should be able to safely reach the bottom.\n",
    "\n",
    "The beacons and scanners float motionless in the water; they're designed to maintain the same position for long periods of time. Each scanner is capable of detecting all beacons in a large cube centered on the scanner; beacons that are at most 1000 units away from the scanner in each of the three axes (x, y, and z) have their precise position determined relative to the scanner. However, scanners cannot detect other scanners. The submarine has automatically summarized the relative positions of beacons detected by each scanner (your puzzle input).\n",
    "\n",
    "For example, if a scanner is at x,y,z coordinates 500,0,-500 and there are beacons at -500,1000,-1500 and 1501,0,-500, the scanner could report that the first beacon is at -1000,1000,-1000 (relative to the scanner) but would not detect the second beacon at all.\n",
    "\n",
    "Unfortunately, while each scanner can report the positions of all detected beacons relative to itself, the scanners do not know their own position. You'll need to determine the positions of the beacons and scanners yourself.\n",
    "\n",
    "The scanners and beacons map a single contiguous 3d region. This region can be reconstructed by finding pairs of scanners that have overlapping detection regions such that there are at least 12 beacons that both scanners detect within the overlap. By establishing 12 common beacons, you can precisely determine where the scanners are relative to each other, allowing you to reconstruct the beacon map one scanner at a time.\n",
    "\n",
    "For a moment, consider only two dimensions. Suppose you have the following scanner reports:\n",
    "\n",
    "```\n",
    "--- scanner 0 ---\n",
    "0,2\n",
    "4,1\n",
    "3,3\n",
    "```\n",
    "\n",
    "```\n",
    "--- scanner 1 ---\n",
    "-1,-1\n",
    "-5,0\n",
    "-2,1\n",
    "```\n",
    "\n",
    "Drawing x increasing rightward, y increasing upward, scanners as S, and beacons as B, scanner 0 detects this:\n",
    "\n",
    "```\n",
    "...B.\n",
    "B....\n",
    "....B\n",
    "S....\n",
    "```\n",
    "\n",
    "Scanner 1 detects this:\n",
    "\n",
    "```\n",
    "...B..\n",
    "B....S\n",
    "....B.\n",
    "```\n",
    "\n",
    "For this example, assume scanners only need 3 overlapping beacons. Then, the beacons visible to both scanners overlap to produce the following complete map:\n",
    "\n",
    "```\n",
    "...B..\n",
    "B....S\n",
    "....B.\n",
    "S.....\n",
    "```\n",
    "\n",
    "Unfortunately, there's a second problem: the scanners also don't know their rotation or facing direction. Due to magnetic alignment, each scanner is rotated some integer number of 90-degree turns around all of the x, y, and z axes. That is, one scanner might call a direction positive x, while another scanner might call that direction negative y. Or, two scanners might agree on which direction is positive x, but one scanner might be upside-down from the perspective of the other scanner. In total, each scanner could be in any of 24 different orientations: facing positive or negative x, y, or z, and considering any of four directions \"up\" from that facing.\n",
    "\n",
    "For example, here is an arrangement of beacons as seen from a scanner in the same position but in different orientations:\n",
    "\n",
    "```\n",
    "--- scanner 0 ---\n",
    "-1,-1,1\n",
    "-2,-2,2\n",
    "-3,-3,3\n",
    "-2,-3,1\n",
    "5,6,-4\n",
    "8,0,7\n",
    "```\n",
    "\n",
    "```\n",
    "--- scanner 0 ---\n",
    "1,-1,1\n",
    "2,-2,2\n",
    "3,-3,3\n",
    "2,-1,3\n",
    "-5,4,-6\n",
    "-8,-7,0\n",
    "```\n",
    "\n",
    "```\n",
    "--- scanner 0 ---\n",
    "-1,-1,-1\n",
    "-2,-2,-2\n",
    "-3,-3,-3\n",
    "-1,-3,-2\n",
    "4,6,5\n",
    "-7,0,8\n",
    "```\n",
    "\n",
    "```\n",
    "--- scanner 0 ---\n",
    "1,1,-1\n",
    "2,2,-2\n",
    "3,3,-3\n",
    "1,3,-2\n",
    "-4,-6,5\n",
    "7,0,8\n",
    "```\n",
    "\n",
    "```\n",
    "--- scanner 0 ---\n",
    "1,1,1\n",
    "2,2,2\n",
    "3,3,3\n",
    "3,1,2\n",
    "-6,-4,-5\n",
    "0,7,-8\n",
    "```\n",
    "\n",
    "By finding pairs of scanners that both see at least 12 of the same beacons, you can assemble the entire map. For example, consider the following report:\n",
    "\n",
    "```\n",
    "--- scanner 0 ---\n",
    "404,-588,-901\n",
    "528,-643,409\n",
    "-838,591,734\n",
    "390,-675,-793\n",
    "-537,-823,-458\n",
    "-485,-357,347\n",
    "-345,-311,381\n",
    "-661,-816,-575\n",
    "-876,649,763\n",
    "-618,-824,-621\n",
    "553,345,-567\n",
    "474,580,667\n",
    "-447,-329,318\n",
    "-584,868,-557\n",
    "544,-627,-890\n",
    "564,392,-477\n",
    "455,729,728\n",
    "-892,524,684\n",
    "-689,845,-530\n",
    "423,-701,434\n",
    "7,-33,-71\n",
    "630,319,-379\n",
    "443,580,662\n",
    "-789,900,-551\n",
    "459,-707,401\n",
    "\n",
    "--- scanner 1 ---\n",
    "686,422,578\n",
    "605,423,415\n",
    "515,917,-361\n",
    "-336,658,858\n",
    "95,138,22\n",
    "-476,619,847\n",
    "-340,-569,-846\n",
    "567,-361,727\n",
    "-460,603,-452\n",
    "669,-402,600\n",
    "729,430,532\n",
    "-500,-761,534\n",
    "-322,571,750\n",
    "-466,-666,-811\n",
    "-429,-592,574\n",
    "-355,545,-477\n",
    "703,-491,-529\n",
    "-328,-685,520\n",
    "413,935,-424\n",
    "-391,539,-444\n",
    "586,-435,557\n",
    "-364,-763,-893\n",
    "807,-499,-711\n",
    "755,-354,-619\n",
    "553,889,-390\n",
    "\n",
    "--- scanner 2 ---\n",
    "649,640,665\n",
    "682,-795,504\n",
    "-784,533,-524\n",
    "-644,584,-595\n",
    "-588,-843,648\n",
    "-30,6,44\n",
    "-674,560,763\n",
    "500,723,-460\n",
    "609,671,-379\n",
    "-555,-800,653\n",
    "-675,-892,-343\n",
    "697,-426,-610\n",
    "578,704,681\n",
    "493,664,-388\n",
    "-671,-858,530\n",
    "-667,343,800\n",
    "571,-461,-707\n",
    "-138,-166,112\n",
    "-889,563,-600\n",
    "646,-828,498\n",
    "640,759,510\n",
    "-630,509,768\n",
    "-681,-892,-333\n",
    "673,-379,-804\n",
    "-742,-814,-386\n",
    "577,-820,562\n",
    "\n",
    "--- scanner 3 ---\n",
    "-589,542,597\n",
    "605,-692,669\n",
    "-500,565,-823\n",
    "-660,373,557\n",
    "-458,-679,-417\n",
    "-488,449,543\n",
    "-626,468,-788\n",
    "338,-750,-386\n",
    "528,-832,-391\n",
    "562,-778,733\n",
    "-938,-730,414\n",
    "543,643,-506\n",
    "-524,371,-870\n",
    "407,773,750\n",
    "-104,29,83\n",
    "378,-903,-323\n",
    "-778,-728,485\n",
    "426,699,580\n",
    "-438,-605,-362\n",
    "-469,-447,-387\n",
    "509,732,623\n",
    "647,635,-688\n",
    "-868,-804,481\n",
    "614,-800,639\n",
    "595,780,-596\n",
    "\n",
    "--- scanner 4 ---\n",
    "727,592,562\n",
    "-293,-554,779\n",
    "441,611,-461\n",
    "-714,465,-776\n",
    "-743,427,-804\n",
    "-660,-479,-426\n",
    "832,-632,460\n",
    "927,-485,-438\n",
    "408,393,-506\n",
    "466,436,-512\n",
    "110,16,151\n",
    "-258,-428,682\n",
    "-393,719,612\n",
    "-211,-452,876\n",
    "808,-476,-593\n",
    "-575,615,604\n",
    "-485,667,467\n",
    "-680,325,-822\n",
    "-627,-443,-432\n",
    "872,-547,-609\n",
    "833,512,582\n",
    "807,604,487\n",
    "839,-516,451\n",
    "891,-625,532\n",
    "-652,-548,-490\n",
    "30,-46,-14\n",
    "```\n",
    "\n",
    "Because all coordinates are relative, in this example, all \"absolute\" positions will be expressed relative to scanner 0 (using the orientation of scanner 0 and as if scanner 0 is at coordinates 0,0,0).\n",
    "\n",
    "Scanners 0 and 1 have overlapping detection cubes; the 12 beacons they both detect (relative to scanner 0) are at the following coordinates:\n",
    "\n",
    "```\n",
    "-618,-824,-621\n",
    "-537,-823,-458\n",
    "-447,-329,318\n",
    "404,-588,-901\n",
    "544,-627,-890\n",
    "528,-643,409\n",
    "-661,-816,-575\n",
    "390,-675,-793\n",
    "423,-701,434\n",
    "-345,-311,381\n",
    "459,-707,401\n",
    "-485,-357,347\n",
    "```\n",
    "\n",
    "These same 12 beacons (in the same order) but from the perspective of scanner 1 are:\n",
    "\n",
    "```\n",
    "686,422,578\n",
    "605,423,415\n",
    "515,917,-361\n",
    "-336,658,858\n",
    "-476,619,847\n",
    "-460,603,-452\n",
    "729,430,532\n",
    "-322,571,750\n",
    "-355,545,-477\n",
    "413,935,-424\n",
    "-391,539,-444\n",
    "553,889,-390\n",
    "```\n",
    "\n",
    "Because of this, scanner 1 must be at 68,-1246,-43 (relative to scanner 0).\n",
    "\n",
    "Scanner 4 overlaps with scanner 1; the 12 beacons they both detect (relative to scanner 0) are:\n",
    "\n",
    "```\n",
    "459,-707,401\n",
    "-739,-1745,668\n",
    "-485,-357,347\n",
    "432,-2009,850\n",
    "528,-643,409\n",
    "423,-701,434\n",
    "-345,-311,381\n",
    "408,-1815,803\n",
    "534,-1912,768\n",
    "-687,-1600,576\n",
    "-447,-329,318\n",
    "-635,-1737,486\n",
    "```\n",
    "\n",
    "So, scanner 4 is at -20,-1133,1061 (relative to scanner 0).\n",
    "\n",
    "Following this process, scanner 2 must be at 1105,-1205,1229 (relative to scanner 0) and scanner 3 must be at -92,-2380,-20 (relative to scanner 0).\n",
    "\n",
    "The full list of beacons (relative to scanner 0) is:\n",
    "\n",
    "```\n",
    "-892,524,684\n",
    "-876,649,763\n",
    "-838,591,734\n",
    "-789,900,-551\n",
    "-739,-1745,668\n",
    "-706,-3180,-659\n",
    "-697,-3072,-689\n",
    "-689,845,-530\n",
    "-687,-1600,576\n",
    "-661,-816,-575\n",
    "-654,-3158,-753\n",
    "-635,-1737,486\n",
    "-631,-672,1502\n",
    "-624,-1620,1868\n",
    "-620,-3212,371\n",
    "-618,-824,-621\n",
    "-612,-1695,1788\n",
    "-601,-1648,-643\n",
    "-584,868,-557\n",
    "-537,-823,-458\n",
    "-532,-1715,1894\n",
    "-518,-1681,-600\n",
    "-499,-1607,-770\n",
    "-485,-357,347\n",
    "-470,-3283,303\n",
    "-456,-621,1527\n",
    "-447,-329,318\n",
    "-430,-3130,366\n",
    "-413,-627,1469\n",
    "-345,-311,381\n",
    "-36,-1284,1171\n",
    "-27,-1108,-65\n",
    "7,-33,-71\n",
    "12,-2351,-103\n",
    "26,-1119,1091\n",
    "346,-2985,342\n",
    "366,-3059,397\n",
    "377,-2827,367\n",
    "390,-675,-793\n",
    "396,-1931,-563\n",
    "404,-588,-901\n",
    "408,-1815,803\n",
    "423,-701,434\n",
    "432,-2009,850\n",
    "443,580,662\n",
    "455,729,728\n",
    "456,-540,1869\n",
    "459,-707,401\n",
    "465,-695,1988\n",
    "474,580,667\n",
    "496,-1584,1900\n",
    "497,-1838,-617\n",
    "527,-524,1933\n",
    "528,-643,409\n",
    "534,-1912,768\n",
    "544,-627,-890\n",
    "553,345,-567\n",
    "564,392,-477\n",
    "568,-2007,-577\n",
    "605,-1665,1952\n",
    "612,-1593,1893\n",
    "630,319,-379\n",
    "686,-3108,-505\n",
    "776,-3184,-501\n",
    "846,-3110,-434\n",
    "1135,-1161,1235\n",
    "1243,-1093,1063\n",
    "1660,-552,429\n",
    "1693,-557,386\n",
    "1735,-437,1738\n",
    "1749,-1800,1813\n",
    "1772,-405,1572\n",
    "1776,-675,371\n",
    "1779,-442,1789\n",
    "1780,-1548,337\n",
    "1786,-1538,337\n",
    "1847,-1591,415\n",
    "1889,-1729,1762\n",
    "1994,-1805,1792\n",
    "```\n",
    "\n",
    "In total, there are 79 beacons.\n",
    "\n",
    "Assemble the full map of beacons. How many beacons are there?\n"
   ]
  },
  {
   "cell_type": "code",
   "execution_count": null,
   "metadata": {
    "dotnet_interactive": {
     "language": "fsharp"
    }
   },
   "outputs": [
    {
     "data": {
      "text/html": [
       "<div class=\"dni-plaintext\">24</div>"
      ]
     },
     "metadata": {},
     "output_type": "display_data"
    }
   ],
   "source": [
    "// instead of say [-y,x,z] we represent the rotation as tripled of indexes (1,0,2) and triplet if signs (-1,1,1)\n",
    "let AllRotations = \n",
    "  // looking in all 6 directions\n",
    "  seq {\n",
    "      yield (0,1,2,  1,1,1);   //[x,y,z]\n",
    "      yield (1,0,2,  1,-1,1);  //[y,-x,z]\n",
    "      yield (0,1,2, -1,-1,1);  //[-x,-y,z]       \n",
    "      yield (1,0,2, -1,1,1);   //[-y,x,z]\n",
    "      yield (2,1,0,  1,1,-1);   //[z,y,-x]\n",
    "      yield (2,1,0,  -1,1,1);   //[-z,y,x]\n",
    "  }\n",
    "  // 4 rotations around the looking axis\n",
    "  |> Seq.map (\n",
    "      fun (x,y,z, sx, sy, sz) -> \n",
    "        seq {\n",
    "            yield [|x;y;z; sx; sy; sz|];   // [x,y]\n",
    "            yield [|x;z;y; sx; -sz; sy|];   // [-y,x]\n",
    "            yield [|x;y;z; sx; -sy; -sz|]    //[-x,-y]\n",
    "            yield [|x;z;y; sx; sz; -sy|]   // [y,-x]\n",
    "        }\n",
    "  )\n",
    "  |> Seq.concat\n",
    "  |> Array.ofSeq\n",
    "\n",
    "AllRotations |> Seq.distinct |> Seq.length // must be 24\n",
    "// AllRotations |> Seq.map( fun t ->\n",
    "//   let coords=[| 'x'; 'y'; 'z' |]\n",
    "//   sprintf \"[%s%c,%s%c,%s%c]\" \n",
    "//     (if t[3] > 0 then \"\" else \"-\" )\n",
    "//     coords[t[0]]\n",
    "//     (if t[4] > 0 then \"\" else \"-\" )\n",
    "//     coords[t[1]]\n",
    "//     (if t[5] > 0 then \"\" else \"-\" )\n",
    "//     coords[t[2]]\n",
    "// )\n",
    "// |> Seq.distinct "
   ]
  },
  {
   "cell_type": "code",
   "execution_count": null,
   "metadata": {
    "dotnet_interactive": {
     "language": "fsharp"
    }
   },
   "outputs": [
    {
     "data": {
      "text/html": [
       "<table><thead><tr><th><i>index</i></th><th>value</th></tr></thead><tbody><tr><td>0</td><td><div class=\"dni-plaintext\">[ 12, 9, 13 ]</div></td></tr></tbody></table>"
      ]
     },
     "metadata": {},
     "output_type": "display_data"
    }
   ],
   "source": [
    "let transformData (rotation:int[]) (newOrigin: int[]) (data: seq<int[]>) =\n",
    "  data\n",
    "  |> Seq.map( \n",
    "    fun point -> \n",
    "      [| \n",
    "        point[rotation[0]] * rotation[3] + newOrigin[0]; \n",
    "        point[rotation[1]] * rotation[4] + newOrigin[1]; \n",
    "        point[rotation[2]] * rotation[5] + newOrigin[2] \n",
    "      |] \n",
    "    )\n",
    "\n",
    "transformData AllRotations[4] [|10;10;10|]  [ [|1;2;3|] ]"
   ]
  },
  {
   "cell_type": "code",
   "execution_count": null,
   "metadata": {
    "dotnet_interactive": {
     "language": "fsharp"
    }
   },
   "outputs": [
    {
     "data": {
      "text/html": [
       "<table><thead><tr><th>Value</th></tr></thead><tbody><tr><td><div class=\"dni-plaintext\">( [ 0, 1, 2, 1, 1, 1 ], [ 5, 2, 0 ] )</div></td></tr></tbody></table>"
      ]
     },
     "metadata": {},
     "output_type": "display_data"
    }
   ],
   "source": [
    "let matchScanners (requiredMatches: int) (scanner1: int[] array) (scanner2: int[] array) =\n",
    "    let mutable found = false\n",
    "    let mutable rotation = 0\n",
    "    let mutable foundRotation = None\n",
    "    let mutable foundOrigin = None\n",
    "    while rotation < 24 && found=false do\n",
    "        let mutable index1 = 0\n",
    "        let mutable triedOffsets = Set.empty\n",
    "        let rotate = AllRotations[rotation]\n",
    "        let lookup = Set.ofSeq scanner1\n",
    "        while index1 < scanner1.Length && found=false do\n",
    "            let newOrigin = scanner1[index1]\n",
    "            let mutable index2 = 0\n",
    "            while index2 < scanner2.Length && found=false do\n",
    "                let offset = [| \n",
    "                    scanner1[index1][0] - scanner2[index2][0]\n",
    "                    scanner1[index1][1] - scanner2[index2][1]\n",
    "                    scanner1[index1][2] - scanner2[index2][2]\n",
    "                |]\n",
    "                if not(triedOffsets.Contains offset) then\n",
    "                    triedOffsets <- triedOffsets.Add offset\n",
    "                    let oldOrigin = scanner2[index2]\n",
    "                    let transformOrigin = [|\n",
    "                        -oldOrigin[rotate[0]] * rotate[3] + newOrigin[0]\n",
    "                        -oldOrigin[rotate[1]] * rotate[4] + newOrigin[1]\n",
    "                        -oldOrigin[rotate[2]] * rotate[5] + newOrigin[2]\n",
    "                    |]\n",
    "                    let transformed = transformData rotate transformOrigin scanner2\n",
    "                    \n",
    "                    let overlaps = \n",
    "                        transformed\n",
    "                        |> Seq.filter ( fun value -> lookup.Contains value )\n",
    "                        |> Seq.length\n",
    "\n",
    "                    if overlaps >= requiredMatches then\n",
    "                        found <- true\n",
    "                        foundRotation <- Some rotate\n",
    "                        foundOrigin <- Some transformOrigin\n",
    "                index2 <- index2 + 1\n",
    "            index1 <- index1 + 1\n",
    "        rotation <- rotation + 1\n",
    "\n",
    "    if found then\n",
    "        Some (\n",
    "            foundRotation.Value,\n",
    "            foundOrigin.Value\n",
    "        )\n",
    "    else\n",
    "        None\n",
    "\n",
    "matchScanners \n",
    "    3\n",
    "    [|\n",
    "        [|0; 2; 0|]\n",
    "        [|4; 1; 0|]\n",
    "        [|3; 3; 0|]\n",
    "    |]\n",
    "    [|\n",
    "        [|-1; -1; 0|]\n",
    "        [|-5; 0; 0|]\n",
    "        [|-2; 1; 0|]\n",
    "    |]"
   ]
  },
  {
   "cell_type": "code",
   "execution_count": null,
   "metadata": {
    "dotnet_interactive": {
     "language": "fsharp"
    }
   },
   "outputs": [
    {
     "data": {
      "text/html": [
       "<table><thead><tr><th><i>index</i></th><th>value</th></tr></thead><tbody><tr><td>0</td><td><div class=\"dni-plaintext\">[ [ 404, -588, -901 ], [ 528, -643, 409 ], [ -838, 591, 734 ], [ 390, -675, -793 ], [ -537, -823, -458 ], [ -485, -357, 347 ], [ -345, -311, 381 ], [ -661, -816, -575 ], [ -876, 649, 763 ], [ -618, -824, -621 ], [ 553, 345, -567 ], [ 474, 580, 667 ], [ -447, -329, 318 ], [ -584, 868, -557 ], [ 544, -627, -890 ], [ 564, 392, -477 ], [ 455, 729, 728 ], [ -892, 524, 684 ], [ -689, 845, -530 ], [ 423, -701, 434 ] ... (5 more) ]</div></td></tr><tr><td>1</td><td><div class=\"dni-plaintext\">[ [ 686, 422, 578 ], [ 605, 423, 415 ], [ 515, 917, -361 ], [ -336, 658, 858 ], [ 95, 138, 22 ], [ -476, 619, 847 ], [ -340, -569, -846 ], [ 567, -361, 727 ], [ -460, 603, -452 ], [ 669, -402, 600 ], [ 729, 430, 532 ], [ -500, -761, 534 ], [ -322, 571, 750 ], [ -466, -666, -811 ], [ -429, -592, 574 ], [ -355, 545, -477 ], [ 703, -491, -529 ], [ -328, -685, 520 ], [ 413, 935, -424 ], [ -391, 539, -444 ] ... (5 more) ]</div></td></tr><tr><td>2</td><td><div class=\"dni-plaintext\">[ [ 649, 640, 665 ], [ 682, -795, 504 ], [ -784, 533, -524 ], [ -644, 584, -595 ], [ -588, -843, 648 ], [ -30, 6, 44 ], [ -674, 560, 763 ], [ 500, 723, -460 ], [ 609, 671, -379 ], [ -555, -800, 653 ], [ -675, -892, -343 ], [ 697, -426, -610 ], [ 578, 704, 681 ], [ 493, 664, -388 ], [ -671, -858, 530 ], [ -667, 343, 800 ], [ 571, -461, -707 ], [ -138, -166, 112 ], [ -889, 563, -600 ], [ 646, -828, 498 ] ... (6 more) ]</div></td></tr><tr><td>3</td><td><div class=\"dni-plaintext\">[ [ -589, 542, 597 ], [ 605, -692, 669 ], [ -500, 565, -823 ], [ -660, 373, 557 ], [ -458, -679, -417 ], [ -488, 449, 543 ], [ -626, 468, -788 ], [ 338, -750, -386 ], [ 528, -832, -391 ], [ 562, -778, 733 ], [ -938, -730, 414 ], [ 543, 643, -506 ], [ -524, 371, -870 ], [ 407, 773, 750 ], [ -104, 29, 83 ], [ 378, -903, -323 ], [ -778, -728, 485 ], [ 426, 699, 580 ], [ -438, -605, -362 ], [ -469, -447, -387 ] ... (5 more) ]</div></td></tr><tr><td>4</td><td><div class=\"dni-plaintext\">[ [ 727, 592, 562 ], [ -293, -554, 779 ], [ 441, 611, -461 ], [ -714, 465, -776 ], [ -743, 427, -804 ], [ -660, -479, -426 ], [ 832, -632, 460 ], [ 927, -485, -438 ], [ 408, 393, -506 ], [ 466, 436, -512 ], [ 110, 16, 151 ], [ -258, -428, 682 ], [ -393, 719, 612 ], [ -211, -452, 876 ], [ 808, -476, -593 ], [ -575, 615, 604 ], [ -485, 667, 467 ], [ -680, 325, -822 ], [ -627, -443, -432 ], [ 872, -547, -609 ] ... (6 more) ]</div></td></tr></tbody></table>"
      ]
     },
     "metadata": {},
     "output_type": "display_data"
    }
   ],
   "source": [
    "let parse (input:string) =\n",
    "    input.Replace(\"\\r\",\"\").Split(\"\\n\\n\")\n",
    "    |> Seq.map( fun scanner ->\n",
    "        scanner.Split(\"\\n\")\n",
    "        |> Seq.skip 1\n",
    "        |> Seq.map ( fun row ->\n",
    "            row.Split(\",\") \n",
    "            |> Seq.map int\n",
    "            |> Array.ofSeq\n",
    "        )\n",
    "        |> Array.ofSeq\n",
    "    )\n",
    "    |> Array.ofSeq\n",
    "\n",
    "let test1 = System.IO.File.ReadAllText \"test1.txt\"\n",
    "test1 |> parse"
   ]
  },
  {
   "cell_type": "code",
   "execution_count": null,
   "metadata": {
    "dotnet_interactive": {
     "language": "fsharp"
    }
   },
   "outputs": [
    {
     "data": {
      "text/html": [
       "<table><thead><tr><th><i>index</i></th><th>Value</th></tr></thead><tbody><tr><td>0</td><td><table><thead><tr><th>Item1</th><th>Item2</th></tr></thead><tbody><tr><td><div class=\"dni-plaintext\">[ 0, 1, 2, -1, 1, -1 ]</div></td><td><div class=\"dni-plaintext\">[ 68, -1246, -43 ]</div></td></tr></tbody></table></td></tr><tr><td>1</td><td><table><thead><tr><th>Item1</th><th>Item2</th></tr></thead><tbody><tr><td><div class=\"dni-plaintext\">[ 1, 2, 0, 1, -1, -1 ]</div></td><td><div class=\"dni-plaintext\">[ 88, 113, -1104 ]</div></td></tr></tbody></table></td></tr></tbody></table>"
      ]
     },
     "metadata": {},
     "output_type": "display_data"
    }
   ],
   "source": [
    "test1 |> parse |> ( fun scanners -> \n",
    "    seq {\n",
    "        matchScanners 12 scanners[0] scanners[1]\n",
    "        matchScanners 12 scanners[1] scanners[4]\n",
    "    }\n",
    ")"
   ]
  },
  {
   "cell_type": "code",
   "execution_count": null,
   "metadata": {
    "dotnet_interactive": {
     "language": "fsharp"
    }
   },
   "outputs": [],
   "source": [
    "// run rotate0, translate0, rotate1, translate1\n",
    "let chainTransformation (rotate0: int[]) (translate0: int[]) (rotate1: int[]) (translate1: int[]) =\n",
    "    let rotate = [|\n",
    "        rotate0[rotate1[0]]\n",
    "        rotate0[rotate1[1]]\n",
    "        rotate0[rotate1[2]]\n",
    "        rotate0[3+rotate1[0]] * rotate1[3]\n",
    "        rotate0[3+rotate1[1]] * rotate1[4]\n",
    "        rotate0[3+rotate1[2]] * rotate1[5]\n",
    "    |]\n",
    "    let translate = [|\n",
    "        translate0[rotate1[0]] * rotate1[3] + translate1[0]\n",
    "        translate0[rotate1[1]] * rotate1[4] + translate1[1]\n",
    "        translate0[rotate1[2]] * rotate1[5] + translate1[2]\n",
    "    |]\n",
    "    ( rotate, translate )"
   ]
  },
  {
   "cell_type": "code",
   "execution_count": null,
   "metadata": {
    "dotnet_interactive": {
     "language": "fsharp"
    }
   },
   "outputs": [
    {
     "data": {
      "text/html": [
       "<table><thead><tr><th><i>index</i></th><th>value</th></tr></thead><tbody><tr><td>0</td><td><div class=\"dni-plaintext\">986</div></td></tr><tr><td>1</td><td><div class=\"dni-plaintext\">2421</div></td></tr><tr><td>2</td><td><div class=\"dni-plaintext\">3069</div></td></tr><tr><td>3</td><td><div class=\"dni-plaintext\">4029</div></td></tr><tr><td>4</td><td><div class=\"dni-plaintext\">5649</div></td></tr><tr><td>5</td><td><div class=\"dni-plaintext\">8921</div></td></tr><tr><td>6</td><td><div class=\"dni-plaintext\">9905</div></td></tr><tr><td>7</td><td><div class=\"dni-plaintext\">10430</div></td></tr><tr><td>8</td><td><div class=\"dni-plaintext\">12283</div></td></tr><tr><td>9</td><td><div class=\"dni-plaintext\">13466</div></td></tr><tr><td>10</td><td><div class=\"dni-plaintext\">14697</div></td></tr><tr><td>11</td><td><div class=\"dni-plaintext\">15014</div></td></tr><tr><td>12</td><td><div class=\"dni-plaintext\">19289</div></td></tr><tr><td>13</td><td><div class=\"dni-plaintext\">19429</div></td></tr><tr><td>14</td><td><div class=\"dni-plaintext\">21242</div></td></tr><tr><td>15</td><td><div class=\"dni-plaintext\">22122</div></td></tr><tr><td>16</td><td><div class=\"dni-plaintext\">22872</div></td></tr><tr><td>17</td><td><div class=\"dni-plaintext\">26283</div></td></tr><tr><td>18</td><td><div class=\"dni-plaintext\">26701</div></td></tr><tr><td>19</td><td><div class=\"dni-plaintext\">29114</div></td></tr><tr><td colspan=\"2\"><i>(280 more)</i></td></tr></tbody></table>"
      ]
     },
     "metadata": {},
     "output_type": "display_data"
    }
   ],
   "source": [
    "let calculateDistances (scanner:int[] array) =\n",
    "    seq {\n",
    "        for i=0 to (scanner.Length-1) do\n",
    "            for j = i+1 to (scanner.Length-1) do\n",
    "                yield \n",
    "                    (scanner[i][0] - scanner[j][0]) * (scanner[i][0] - scanner[j][0]) +\n",
    "                    (scanner[i][1] - scanner[j][1]) * (scanner[i][1] - scanner[j][1]) +\n",
    "                    (scanner[i][2] - scanner[j][2]) * (scanner[i][2] - scanner[j][2])\n",
    "                \n",
    "    } \n",
    "    |> Array.ofSeq\n",
    "    |> Array.sort\n",
    "\n",
    "test1 |> parse |> ( fun scanners -> \n",
    "    calculateDistances scanners[0]\n",
    ")"
   ]
  },
  {
   "cell_type": "code",
   "execution_count": null,
   "metadata": {
    "dotnet_interactive": {
     "language": "fsharp"
    }
   },
   "outputs": [
    {
     "data": {
      "text/html": [
       "<table><thead><tr><th><i>index</i></th><th>value</th></tr></thead><tbody><tr><td>0</td><td><div class=\"dni-plaintext\">66</div></td></tr><tr><td>1</td><td><div class=\"dni-plaintext\">66</div></td></tr></tbody></table>"
      ]
     },
     "metadata": {},
     "output_type": "display_data"
    }
   ],
   "source": [
    "let countMatchingDistances (scanner1: int[]) (scanner2: int[]) =\n",
    "    let mutable pos1 = 0\n",
    "    let mutable pos2 = 0\n",
    "    let mutable matches = 0\n",
    "    while pos1 < scanner1.Length && pos2 < scanner2.Length do\n",
    "        if scanner1[pos1] = scanner2[pos2] then\n",
    "            matches <- matches + 1\n",
    "            pos1 <- pos1 + 1\n",
    "            pos2 <- pos2 + 1\n",
    "        elif scanner1[pos1] < scanner2[pos2] then\n",
    "            pos1 <- pos1 + 1\n",
    "        else\n",
    "            pos2 <- pos2 + 1\n",
    "    matches\n",
    "\n",
    "test1 |> parse |> ( fun scanners -> \n",
    "    let distances = scanners |> Array.map calculateDistances\n",
    "    seq {\n",
    "        countMatchingDistances distances[0] distances[1]\n",
    "        countMatchingDistances distances[1] distances[4]\n",
    "    }\n",
    ")"
   ]
  },
  {
   "cell_type": "code",
   "execution_count": null,
   "metadata": {
    "dotnet_interactive": {
     "language": "fsharp"
    }
   },
   "outputs": [
    {
     "name": "stdout",
     "output_type": "stream",
     "text": [
      "0 1\r\n",
      "1 3\r\n",
      "1 4\r\n",
      "4 2\r\n"
     ]
    },
    {
     "data": {
      "text/html": [
       "<div class=\"dni-plaintext\">79</div>"
      ]
     },
     "metadata": {},
     "output_type": "display_data"
    }
   ],
   "source": [
    "open System.Collections.Generic\n",
    "\n",
    "let alignScanners (scanners: int[] array array) =\n",
    "    let mutable allCoords = [ Seq.ofArray scanners[0] ]\n",
    "    let queue = new Queue<int * int[] * int[]>()\n",
    "    let mutable matched = Set.empty.Add(0)\n",
    "    let mutable scannerOrigins = [ [| 0;0;0 |]]\n",
    "    queue.Enqueue( (0, [|0;1;2;1;1;1|], [|0;0;0|]))\n",
    "    let distances = scanners |> Array.map calculateDistances\n",
    "    let minDistances = 12 * (12/2) / 2\n",
    "    while queue.Count>0 do\n",
    "        let (scanner0, rotate0, translate0) = queue.Dequeue()\n",
    "        for scanner1=0 to (scanners.Length-1) do\n",
    "            if not (matched.Contains scanner1) then\n",
    "                let matchingDistances = countMatchingDistances distances[scanner0] distances[scanner1]\n",
    "                if matchingDistances >= minDistances then\n",
    "                    match matchScanners 12 scanners[scanner0] scanners[scanner1] with\n",
    "                    | Some (rotate1, translate1) ->\n",
    "                        printfn \"%i %i\" scanner0 scanner1\n",
    "                        let (finalRotate, finalTranslate) = chainTransformation rotate1 translate1 rotate0 translate0 \n",
    "                        queue.Enqueue ( (scanner1, finalRotate, finalTranslate ) )\n",
    "                        matched <- matched.Add scanner1\n",
    "                        let finalCords = transformData finalRotate finalTranslate scanners[scanner1]\n",
    "                        allCoords <- finalCords :: allCoords\n",
    "                        scannerOrigins <- finalTranslate :: scannerOrigins\n",
    "\n",
    "                    | None -> ()\n",
    "\n",
    "    (\n",
    "        allCoords\n",
    "        |> Seq.ofList\n",
    "        |> Seq.concat\n",
    "        |> Seq.distinct,\n",
    "        scannerOrigins\n",
    "    )        \n",
    "\n",
    "test1 |> parse |> alignScanners |> fst |> Seq.length\n"
   ]
  },
  {
   "cell_type": "code",
   "execution_count": null,
   "metadata": {
    "dotnet_interactive": {
     "language": "fsharp"
    }
   },
   "outputs": [
    {
     "name": "stdout",
     "output_type": "stream",
     "text": [
      "0 3\r\n",
      "0 14\r\n",
      "0 24\r\n",
      "0 30\r\n",
      "3 1\r\n",
      "3 6\r\n",
      "3 13\r\n",
      "3 19\r\n",
      "3 21\r\n",
      "14 12\r\n",
      "24 2\r\n",
      "24 15\r\n",
      "1 22\r\n",
      "6 25\r\n",
      "6 27\r\n",
      "13 8\r\n",
      "13 11\r\n",
      "19 7\r\n",
      "19 17\r\n",
      "12 9\r\n",
      "15 10\r\n",
      "22 5\r\n",
      "22 29\r\n",
      "25 26\r\n",
      "8 18\r\n",
      "9 4\r\n",
      "10 20\r\n",
      "29 16\r\n",
      "29 23\r\n",
      "4 28\r\n"
     ]
    },
    {
     "data": {
      "text/html": [
       "<div class=\"dni-plaintext\">376</div>"
      ]
     },
     "metadata": {},
     "output_type": "display_data"
    }
   ],
   "source": [
    "let task = System.IO.File.ReadAllText \"task.txt\"\n",
    "task |> parse |> alignScanners |> fst |> Seq.length  // 376"
   ]
  },
  {
   "cell_type": "code",
   "execution_count": null,
   "metadata": {
    "dotnet_interactive": {
     "language": "fsharp"
    }
   },
   "outputs": [
    {
     "data": {
      "text/html": [
       "<div class=\"dni-plaintext\">3621</div>"
      ]
     },
     "metadata": {},
     "output_type": "display_data"
    }
   ],
   "source": [
    "let findManhattanDistances (origins: seq<int[]>) =\n",
    "    origins \n",
    "    |> Seq.map ( \n",
    "        fun first -> \n",
    "        origins |> Seq.map (fun second -> (first, second) )\n",
    "    )\n",
    "    |> Seq.concat\n",
    "    |> Seq.map(\n",
    "        fun (first,second) -> \n",
    "            seq {0; 1; 2}\n",
    "            |> Seq.map ( fun coord -> Math.Abs(first[coord] - second[coord]) )\n",
    "            |> Seq.sum\n",
    "    )\n",
    "    |> Seq.max\n",
    "\n",
    "findManhattanDistances [ [|1105; -1205; 1229 |]; [| -92;-2380;-20|]  ]"
   ]
  },
  {
   "cell_type": "code",
   "execution_count": null,
   "metadata": {
    "dotnet_interactive": {
     "language": "fsharp"
    }
   },
   "outputs": [
    {
     "name": "stdout",
     "output_type": "stream",
     "text": [
      "0 1\r\n",
      "1 3\r\n",
      "1 4\r\n",
      "4 2\r\n"
     ]
    },
    {
     "data": {
      "text/html": [
       "<div class=\"dni-plaintext\">3621</div>"
      ]
     },
     "metadata": {},
     "output_type": "display_data"
    }
   ],
   "source": [
    "test1 |> parse |> alignScanners |> snd |> findManhattanDistances   // 3621"
   ]
  },
  {
   "cell_type": "code",
   "execution_count": null,
   "metadata": {
    "dotnet_interactive": {
     "language": "fsharp"
    }
   },
   "outputs": [
    {
     "name": "stdout",
     "output_type": "stream",
     "text": [
      "0 3\r\n",
      "0 14\r\n",
      "0 24\r\n",
      "0 30\r\n",
      "3 1\r\n",
      "3 6\r\n",
      "3 13\r\n",
      "3 19\r\n",
      "3 21\r\n",
      "14 12\r\n",
      "24 2\r\n",
      "24 15\r\n",
      "1 22\r\n",
      "6 25\r\n",
      "6 27\r\n",
      "13 8\r\n",
      "13 11\r\n",
      "19 7\r\n",
      "19 17\r\n",
      "12 9\r\n",
      "15 10\r\n",
      "22 5\r\n",
      "22 29\r\n",
      "25 26\r\n",
      "8 18\r\n",
      "9 4\r\n",
      "10 20\r\n",
      "29 16\r\n",
      "29 23\r\n",
      "4 28\r\n"
     ]
    },
    {
     "data": {
      "text/html": [
       "<div class=\"dni-plaintext\">10772</div>"
      ]
     },
     "metadata": {},
     "output_type": "display_data"
    }
   ],
   "source": [
    "task |> parse |> alignScanners |> snd |> findManhattanDistances  // 10772"
   ]
  }
 ],
 "metadata": {
  "kernelspec": {
   "display_name": ".NET (F#)",
   "language": "F#",
   "name": ".net-fsharp"
  },
  "language_info": {
   "name": "F#"
  }
 },
 "nbformat": 4,
 "nbformat_minor": 2
}
