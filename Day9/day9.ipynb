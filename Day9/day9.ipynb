{
 "cells": [
  {
   "cell_type": "markdown",
   "metadata": {},
   "source": [
    "--- Day 9: Smoke Basin ---\n",
    "\n",
    "These caves seem to be lava tubes. Parts are even still volcanically active; small hydrothermal vents release smoke into the caves that slowly settles like rain.\n",
    "\n",
    "If you can model how the smoke flows through the caves, you might be able to avoid it and be that much safer. The submarine generates a heightmap of the floor of the nearby caves for you (your puzzle input).\n",
    "\n",
    "Smoke flows to the lowest point of the area it's in. For example, consider the following heightmap:\n",
    "\n",
    "2**1**9994321**0**\n",
    "\n",
    "3987894921\n",
    "\n",
    "98**5**6789892\n",
    "\n",
    "8767896789\n",
    "\n",
    "989996**5**678\n",
    "\n",
    "\n",
    "\n",
    "Each number corresponds to the height of a particular location, where 9 is the highest and 0 is the lowest a location can be.\n",
    "\n",
    "Your first goal is to find the low points - the locations that are lower than any of its adjacent locations. Most locations have four adjacent locations (up, down, left, and right); locations on the edge or corner of the map have three or two adjacent locations, respectively. (Diagonal locations do not count as adjacent.)\n",
    "\n",
    "In the above example, there are four low points, all highlighted: two are in the first row (a 1 and a 0), one is in the third row (a 5), and one is in the bottom row (also a 5). All other locations on the heightmap have some lower adjacent location, and so are not low points.\n",
    "\n",
    "The risk level of a low point is 1 plus its height. In the above example, the risk levels of the low points are 2, 1, 6, and 6. The sum of the risk levels of all low points in the heightmap is therefore 15.\n",
    "\n",
    "Find all of the low points on your heightmap. What is the sum of the risk levels of all low points on your heightmap?\n"
   ]
  },
  {
   "cell_type": "code",
   "execution_count": null,
   "metadata": {
    "dotnet_interactive": {
     "language": "fsharp"
    }
   },
   "outputs": [
    {
     "data": {
      "text/html": [
       "<table><thead><tr><th><i>index</i></th><th>value</th></tr></thead><tbody><tr><td>0</td><td><div class=\"dni-plaintext\">2</div></td></tr><tr><td>1</td><td><div class=\"dni-plaintext\">1</div></td></tr><tr><td>2</td><td><div class=\"dni-plaintext\">9</div></td></tr><tr><td>3</td><td><div class=\"dni-plaintext\">9</div></td></tr><tr><td>4</td><td><div class=\"dni-plaintext\">9</div></td></tr><tr><td>5</td><td><div class=\"dni-plaintext\">4</div></td></tr><tr><td>6</td><td><div class=\"dni-plaintext\">3</div></td></tr><tr><td>7</td><td><div class=\"dni-plaintext\">2</div></td></tr><tr><td>8</td><td><div class=\"dni-plaintext\">1</div></td></tr><tr><td>9</td><td><div class=\"dni-plaintext\">0</div></td></tr><tr><td>10</td><td><div class=\"dni-plaintext\">3</div></td></tr><tr><td>11</td><td><div class=\"dni-plaintext\">9</div></td></tr><tr><td>12</td><td><div class=\"dni-plaintext\">8</div></td></tr><tr><td>13</td><td><div class=\"dni-plaintext\">7</div></td></tr><tr><td>14</td><td><div class=\"dni-plaintext\">8</div></td></tr><tr><td>15</td><td><div class=\"dni-plaintext\">9</div></td></tr><tr><td>16</td><td><div class=\"dni-plaintext\">4</div></td></tr><tr><td>17</td><td><div class=\"dni-plaintext\">9</div></td></tr><tr><td>18</td><td><div class=\"dni-plaintext\">2</div></td></tr><tr><td>19</td><td><div class=\"dni-plaintext\">1</div></td></tr><tr><td colspan=\"2\"><i>(30 more)</i></td></tr></tbody></table>"
      ]
     },
     "metadata": {},
     "output_type": "display_data"
    }
   ],
   "source": [
    "let testInput = \"\"\"\n",
    "2199943210\n",
    "3987894921\n",
    "9856789892\n",
    "8767896789\n",
    "9899965678\n",
    "\"\"\"\n",
    "\n",
    "let parse (input:string) =\n",
    "    input.Replace(\"\\r\", \"\").Split(\"\\n\")\n",
    "    |> Seq.filter( fun row -> row <> \"\")\n",
    "    |> Seq.map ( fun row ->\n",
    "        row.ToCharArray()\n",
    "        |> Seq.map (fun char -> int char - 48)\n",
    "    )\n",
    "    |> array2D\n",
    "\n",
    "testInput |> parse "
   ]
  },
  {
   "cell_type": "code",
   "execution_count": null,
   "metadata": {
    "dotnet_interactive": {
     "language": "fsharp"
    }
   },
   "outputs": [
    {
     "data": {
      "text/html": [
       "<table><thead><tr><th>Item1</th><th>Item2</th><th>Item3</th></tr></thead><tbody><tr><td><div class=\"dni-plaintext\">2</div></td><td><div class=\"dni-plaintext\">10</div></td><td><div class=\"dni-plaintext\">8</div></td></tr></tbody></table>"
      ]
     },
     "metadata": {},
     "output_type": "display_data"
    }
   ],
   "source": [
    "let getNeighbour (map:int[,]) (row:int) (col:int) =\n",
    "    if row<0 || col <0 || row>=map.GetLength(0) || col >= map.GetLength(1) then\n",
    "        10\n",
    "    else\n",
    "        map[row, col]\n",
    "\n",
    "testInput |> parse |> (fun map -> \n",
    "    ( (getNeighbour map 0 0),\n",
    "      (getNeighbour map -1 -1 ),\n",
    "      (getNeighbour map 2 5)\n",
    "    )\n",
    ")"
   ]
  },
  {
   "cell_type": "code",
   "execution_count": null,
   "metadata": {
    "dotnet_interactive": {
     "language": "fsharp"
    }
   },
   "outputs": [
    {
     "data": {
      "text/html": [
       "<table><thead><tr><th>Item1</th><th>Item2</th><th>Item3</th></tr></thead><tbody><tr><td><div class=\"dni-plaintext\">False</div></td><td><div class=\"dni-plaintext\">True</div></td><td><div class=\"dni-plaintext\">True</div></td></tr></tbody></table>"
      ]
     },
     "metadata": {},
     "output_type": "display_data"
    }
   ],
   "source": [
    "let neighbours = [(-1,0); (1,0); (0,-1); (0,1)]\n",
    "\n",
    "let isLowest (map:int[,]) (row:int) (col:int) =\n",
    "    let item = map[row, col]\n",
    "    neighbours\n",
    "    |> Seq.forall ( fun (dy, dx) -> getNeighbour map (row+dy) (col+dx) > item )\n",
    "\n",
    "testInput |> parse |> (fun map -> \n",
    "    ( (isLowest map 0 0),\n",
    "      (isLowest map 0 1 ),\n",
    "      (isLowest map 2 2)\n",
    "    )\n",
    ")"
   ]
  },
  {
   "cell_type": "code",
   "execution_count": null,
   "metadata": {
    "dotnet_interactive": {
     "language": "fsharp"
    }
   },
   "outputs": [
    {
     "data": {
      "text/html": [
       "<table><thead><tr><th><i>index</i></th><th>Item1</th><th>Item2</th></tr></thead><tbody><tr><td>0</td><td><div class=\"dni-plaintext\">4</div></td><td><div class=\"dni-plaintext\">6</div></td></tr><tr><td>1</td><td><div class=\"dni-plaintext\">2</div></td><td><div class=\"dni-plaintext\">2</div></td></tr><tr><td>2</td><td><div class=\"dni-plaintext\">0</div></td><td><div class=\"dni-plaintext\">9</div></td></tr><tr><td>3</td><td><div class=\"dni-plaintext\">0</div></td><td><div class=\"dni-plaintext\">1</div></td></tr></tbody></table>"
      ]
     },
     "metadata": {},
     "output_type": "display_data"
    }
   ],
   "source": [
    "let findRisks(map:int[,]) =\n",
    "    let height = map.GetLength(0)\n",
    "    let width = map.GetLength(1)\n",
    "    let mutable list = List.empty\n",
    "    for row=0 to (height-1) do\n",
    "        for col=0 to (width-1) do\n",
    "            if isLowest map row col then\n",
    "                list <- (row,col)::list\n",
    "    list\n",
    "testInput |> parse |> findRisks"
   ]
  },
  {
   "cell_type": "code",
   "execution_count": null,
   "metadata": {
    "dotnet_interactive": {
     "language": "fsharp"
    }
   },
   "outputs": [
    {
     "data": {
      "text/html": [
       "<div class=\"dni-plaintext\">15</div>"
      ]
     },
     "metadata": {},
     "output_type": "display_data"
    }
   ],
   "source": [
    "let riskSum (map:int[,]) =\n",
    "    map \n",
    "    |> findRisks\n",
    "    |> Seq.sumBy ( fun (row, col) -> 1 + map[row,col] )\n",
    "\n",
    "testInput |> parse |> riskSum"
   ]
  },
  {
   "cell_type": "code",
   "execution_count": null,
   "metadata": {
    "dotnet_interactive": {
     "language": "fsharp"
    }
   },
   "outputs": [
    {
     "data": {
      "text/html": [
       "<div class=\"dni-plaintext\">528</div>"
      ]
     },
     "metadata": {},
     "output_type": "display_data"
    }
   ],
   "source": [
    "let task = System.IO.File.ReadAllText \"task.txt\"\n",
    "\n",
    "task |> parse |> riskSum"
   ]
  },
  {
   "cell_type": "markdown",
   "metadata": {},
   "source": [
    "--- Part Two ---\n",
    "\n",
    "Next, you need to find the largest basins so you know what areas are most important to avoid.\n",
    "\n",
    "A basin is all locations that eventually flow downward to a single low point. Therefore, every low point has a basin, although some basins are very small. Locations of height 9 do not count as being in any basin, and all other locations will always be part of exactly one basin.\n",
    "\n",
    "The size of a basin is the number of locations within the basin, including the low point. The example above has four basins.\n",
    "\n",
    "The top-left basin, size 3:\n",
    "\n",
    "**21**99943210\n",
    "\n",
    "**3**987894921\n",
    "\n",
    "9856789892\n",
    "\n",
    "8767896789\n",
    "\n",
    "9899965678\n",
    "\n",
    "\n",
    "The top-right basin, size 9:\n",
    "\n",
    "\n",
    "21999**43210**\n",
    "\n",
    "398789**4**9**21**\n",
    "\n",
    "985678989**2**\n",
    "\n",
    "8767896789\n",
    "\n",
    "9899965678\n",
    "\n",
    "\n",
    "The middle basin, size 14:\n",
    "\n",
    "2199943210\n",
    "\n",
    "39**878**94921\n",
    "\n",
    "9**85678**9892\n",
    "\n",
    "**87678**96789\n",
    "\n",
    "9899965678\n",
    "\n",
    "\n",
    "The bottom-right basin, size 9:\n",
    "\n",
    "2199943210\n",
    "\n",
    "3987894921\n",
    "\n",
    "9856789**8**92\n",
    "\n",
    "876789**678**9\n",
    "\n",
    "98999**65678**\n",
    "\n",
    "\n",
    "Find the three largest basins and multiply their sizes together. In the above example, this is 9 * 14 * 9 = 1134.\n",
    "\n",
    "What do you get if you multiply together the sizes of the three largest basins?\n"
   ]
  },
  {
   "cell_type": "code",
   "execution_count": null,
   "metadata": {
    "dotnet_interactive": {
     "language": "fsharp"
    }
   },
   "outputs": [
    {
     "data": {
      "text/html": [
       "<div class=\"dni-plaintext\">False</div>"
      ]
     },
     "metadata": {},
     "output_type": "display_data"
    }
   ],
   "source": [
    "open System.Collections.Generic\n",
    "let s = Set.empty\n",
    "(s.Add (3,5)).Contains((4,5))\n"
   ]
  },
  {
   "cell_type": "code",
   "execution_count": null,
   "metadata": {
    "dotnet_interactive": {
     "language": "fsharp"
    }
   },
   "outputs": [
    {
     "data": {
      "text/html": [
       "<div class=\"dni-plaintext\">14</div>"
      ]
     },
     "metadata": {},
     "output_type": "display_data"
    }
   ],
   "source": [
    "let findBasinSize (map: int[,]) (row:int) (col:int) =\n",
    "    let mutable marked = Set.empty\n",
    "    let queue = new Queue<(int * int)>()\n",
    "    queue.Enqueue((row,col))\n",
    "    \n",
    "    while queue.Count>0 do\n",
    "        let (x,y) = queue.Dequeue()\n",
    "        if not (marked.Contains (x,y)) then\n",
    "            marked <- marked.Add((x,y))\n",
    "\n",
    "            neighbours\n",
    "            |> Seq.map (fun (dx,dy) -> (dx+x, dy+y))\n",
    "            |> Seq.filter (fun (x,y) -> (getNeighbour map x y) < 9 )\n",
    "            |> Seq.iter queue.Enqueue\n",
    "\n",
    "    marked.Count\n",
    "\n",
    "testInput |> parse |> findBasinSize <| 2 <| 2"
   ]
  },
  {
   "cell_type": "code",
   "execution_count": null,
   "metadata": {
    "dotnet_interactive": {
     "language": "fsharp"
    }
   },
   "outputs": [
    {
     "data": {
      "text/html": [
       "<div class=\"dni-plaintext\">1134</div>"
      ]
     },
     "metadata": {},
     "output_type": "display_data"
    }
   ],
   "source": [
    "let findBasins (map: int[,]) =\n",
    "    map\n",
    "    |> findRisks\n",
    "    |> Seq.map ( fun (row,col) -> findBasinSize map row col )\n",
    "    |> Seq.sortDescending\n",
    "    |> Seq.take 3\n",
    "    |> Seq.fold (*) 1\n",
    "\n",
    "testInput |> parse |> findBasins"
   ]
  },
  {
   "cell_type": "code",
   "execution_count": null,
   "metadata": {
    "dotnet_interactive": {
     "language": "fsharp"
    }
   },
   "outputs": [
    {
     "data": {
      "text/html": [
       "<div class=\"dni-plaintext\">920448</div>"
      ]
     },
     "metadata": {},
     "output_type": "display_data"
    }
   ],
   "source": [
    "task |> parse |> findBasins"
   ]
  }
 ],
 "metadata": {
  "kernelspec": {
   "display_name": ".NET (F#)",
   "language": "F#",
   "name": ".net-fsharp"
  },
  "language_info": {
   "name": "F#"
  }
 },
 "nbformat": 4,
 "nbformat_minor": 2
}
