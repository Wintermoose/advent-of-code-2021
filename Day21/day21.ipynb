{
 "cells": [
  {
   "cell_type": "markdown",
   "metadata": {},
   "source": [
    "--- Day 21: Dirac Dice ---\n",
    "\n",
    "There's not much to do as you slowly descend to the bottom of the ocean. The submarine computer challenges you to a nice game of Dirac Dice.\n",
    "\n",
    "This game consists of a single die, two pawns, and a game board with a circular track containing ten spaces marked 1 through 10 clockwise. Each player's starting space is chosen randomly (your puzzle input). Player 1 goes first.\n",
    "\n",
    "Players take turns moving. On each player's turn, the player rolls the die three times and adds up the results. Then, the player moves their pawn that many times forward around the track (that is, moving clockwise on spaces in order of increasing value, wrapping back around to 1 after 10). So, if a player is on space 7 and they roll 2, 2, and 1, they would move forward 5 times, to spaces 8, 9, 10, 1, and finally stopping on 2.\n",
    "\n",
    "After each player moves, they increase their score by the value of the space their pawn stopped on. Players' scores start at 0. So, if the first player starts on space 7 and rolls a total of 5, they would stop on space 2 and add 2 to their score (for a total score of 2). The game immediately ends as a win for any player whose score reaches at least 1000.\n",
    "\n",
    "Since the first game is a practice game, the submarine opens a compartment labeled deterministic dice and a 100-sided die falls out. This die always rolls 1 first, then 2, then 3, and so on up to 100, after which it starts over at 1 again. Play using this die.\n",
    "\n",
    "For example, given these starting positions:\n",
    "\n",
    "Player 1 starting position: 4\n",
    "Player 2 starting position: 8\n",
    "\n",
    "This is how the game would go:\n",
    "\n",
    "-    Player 1 rolls 1+2+3 and moves to space 10 for a total score of 10.\n",
    "-    Player 2 rolls 4+5+6 and moves to space 3 for a total score of 3.\n",
    "-    Player 1 rolls 7+8+9 and moves to space 4 for a total score of 14.\n",
    "-    Player 2 rolls 10+11+12 and moves to space 6 for a total score of 9.\n",
    "-    Player 1 rolls 13+14+15 and moves to space 6 for a total score of 20.\n",
    "-    Player 2 rolls 16+17+18 and moves to space 7 for a total score of 16.\n",
    "-    Player 1 rolls 19+20+21 and moves to space 6 for a total score of 26.\n",
    "-    Player 2 rolls 22+23+24 and moves to space 6 for a total score of 22.\n",
    "\n",
    "...after many turns...\n",
    "\n",
    "-    Player 2 rolls 82+83+84 and moves to space 6 for a total score of 742.\n",
    "-    Player 1 rolls 85+86+87 and moves to space 4 for a total score of 990.\n",
    "-    Player 2 rolls 88+89+90 and moves to space 3 for a total score of 745.\n",
    "-    Player 1 rolls 91+92+93 and moves to space 10 for a final score, 1000.\n",
    "\n",
    "Since player 1 has at least 1000 points, player 1 wins and the game ends. At this point, the losing player had 745 points and the die had been rolled a total of 993 times; 745 * 993 = 739785.\n",
    "\n",
    "Play a practice game using the deterministic 100-sided die. The moment either player wins, what do you get if you multiply the score of the losing player by the number of times the die was rolled during the game?\n"
   ]
  },
  {
   "cell_type": "code",
   "execution_count": null,
   "metadata": {
    "dotnet_interactive": {
     "language": "fsharp"
    }
   },
   "outputs": [
    {
     "data": {
      "text/html": [
       "<div class=\"dni-plaintext\">3</div>"
      ]
     },
     "metadata": {},
     "output_type": "display_data"
    }
   ],
   "source": [
    "let playerStep (start:int) (steps:int) =\n",
    "    let position = ( (start-1) + steps ) % 10 + 1\n",
    "    position\n",
    "\n",
    "playerStep 6 (88+89+90)"
   ]
  },
  {
   "cell_type": "code",
   "execution_count": null,
   "metadata": {
    "dotnet_interactive": {
     "language": "fsharp"
    }
   },
   "outputs": [
    {
     "name": "stdout",
     "output_type": "stream",
     "text": [
      "745 993\r\n"
     ]
    },
    {
     "data": {
      "text/html": [
       "<div class=\"dni-plaintext\">739785</div>"
      ]
     },
     "metadata": {},
     "output_type": "display_data"
    }
   ],
   "source": [
    "let playRoundOne (start1: int) (start2: int) =\n",
    "    let rec doStep start1 start2 score1 score2 step die first =        \n",
    "        let mutable newDie = die\n",
    "\n",
    "        let mutable throw = newDie\n",
    "        newDie <- newDie % 100 + 1\n",
    "        throw <- throw + newDie\n",
    "        newDie <- newDie % 100 + 1\n",
    "        throw <- throw + newDie\n",
    "        newDie <- newDie % 100 + 1\n",
    "\n",
    "        let pos1 = playerStep start1 throw\n",
    "        let newScore1 = score1 + pos1\n",
    "        // if step < 20 then\n",
    "        //     printfn \"%s %i -> %i  %i\" (if first then \"Player1\" else \"Player2\") start1 pos1 newScore1\n",
    "        if newScore1 >= 1000 then\n",
    "            printfn \"%i %i\" score2 (step*3)\n",
    "            score2 * step * 3\n",
    "        else\n",
    "            doStep start2 pos1 score2 newScore1 (step+1) newDie (not(first))\n",
    "    doStep start1 start2 0 0 1 1 true\n",
    "\n",
    "playRoundOne 4 8  // 739785"
   ]
  },
  {
   "cell_type": "code",
   "execution_count": null,
   "metadata": {
    "dotnet_interactive": {
     "language": "fsharp"
    }
   },
   "outputs": [
    {
     "name": "stdout",
     "output_type": "stream",
     "text": [
      "915 1098\r\n"
     ]
    },
    {
     "data": {
      "text/html": [
       "<div class=\"dni-plaintext\">1004670</div>"
      ]
     },
     "metadata": {},
     "output_type": "display_data"
    }
   ],
   "source": [
    "playRoundOne 9 6  // 1004670"
   ]
  },
  {
   "cell_type": "markdown",
   "metadata": {},
   "source": [
    "--- Part Two ---\n",
    "\n",
    "Now that you're warmed up, it's time to play the real game.\n",
    "\n",
    "A second compartment opens, this time labeled Dirac dice. Out of it falls a single three-sided die.\n",
    "\n",
    "As you experiment with the die, you feel a little strange. An informational brochure in the compartment explains that this is a quantum die: when you roll it, the universe splits into multiple copies, one copy for each possible outcome of the die. In this case, rolling the die always splits the universe into three copies: one where the outcome of the roll was 1, one where it was 2, and one where it was 3.\n",
    "\n",
    "The game is played the same as before, although to prevent things from getting too far out of hand, the game now ends when either player's score reaches at least 21.\n",
    "\n",
    "Using the same starting positions as in the example above, player 1 wins in 444356092776315 universes, while player 2 merely wins in 341960390180808 universes.\n",
    "\n",
    "Using your given starting positions, determine every possible outcome. Find the player that wins in more universes; in how many universes does that player win?\n"
   ]
  },
  {
   "cell_type": "code",
   "execution_count": null,
   "metadata": {
    "dotnet_interactive": {
     "language": "fsharp"
    }
   },
   "outputs": [
    {
     "data": {
      "text/html": [
       "<table><thead><tr><th><i>index</i></th><th>Item1</th><th>Item2</th></tr></thead><tbody><tr><td>0</td><td><div class=\"dni-plaintext\">3</div></td><td><div class=\"dni-plaintext\">1</div></td></tr><tr><td>1</td><td><div class=\"dni-plaintext\">4</div></td><td><div class=\"dni-plaintext\">3</div></td></tr><tr><td>2</td><td><div class=\"dni-plaintext\">5</div></td><td><div class=\"dni-plaintext\">6</div></td></tr><tr><td>3</td><td><div class=\"dni-plaintext\">6</div></td><td><div class=\"dni-plaintext\">7</div></td></tr><tr><td>4</td><td><div class=\"dni-plaintext\">7</div></td><td><div class=\"dni-plaintext\">6</div></td></tr><tr><td>5</td><td><div class=\"dni-plaintext\">8</div></td><td><div class=\"dni-plaintext\">3</div></td></tr><tr><td>6</td><td><div class=\"dni-plaintext\">9</div></td><td><div class=\"dni-plaintext\">1</div></td></tr></tbody></table>"
      ]
     },
     "metadata": {},
     "output_type": "display_data"
    }
   ],
   "source": [
    "// count possible offsets and probabilities for \"steps\" throws\n",
    "let rec simplePossibilities pos steps =\n",
    "    if steps = 0 then\n",
    "        [pos]\n",
    "    else\n",
    "        let pos1 = (pos-1+1) % 10 + 1\n",
    "        let pos2 = (pos-1+2) % 10 + 1\n",
    "        let pos3 = (pos-1+3) % 10 + 1\n",
    "        (simplePossibilities pos1 (steps-1))\n",
    "        @\n",
    "        ( \n",
    "            (simplePossibilities pos2 (steps-1) )\n",
    "            @\n",
    "            (simplePossibilities pos3 (steps-1))\n",
    "        )\n",
    "\n",
    "simplePossibilities 0 3 |> Seq.ofList |> Seq.groupBy id |> Seq.map ( fun (key, items) -> (key, Seq.length items))"
   ]
  },
  {
   "cell_type": "code",
   "execution_count": null,
   "metadata": {},
   "outputs": [
    {
     "data": {
      "text/html": [
       "<table><thead><tr><th><i>index</i></th><th>Item1</th><th>Item2</th><th>Item3</th></tr></thead><tbody><tr><td>0</td><td><div class=\"dni-plaintext\">5</div></td><td><div class=\"dni-plaintext\">105</div></td><td><div class=\"dni-plaintext\">10</div></td></tr><tr><td>1</td><td><div class=\"dni-plaintext\">6</div></td><td><div class=\"dni-plaintext\">106</div></td><td><div class=\"dni-plaintext\">30</div></td></tr><tr><td>2</td><td><div class=\"dni-plaintext\">7</div></td><td><div class=\"dni-plaintext\">107</div></td><td><div class=\"dni-plaintext\">60</div></td></tr><tr><td>3</td><td><div class=\"dni-plaintext\">8</div></td><td><div class=\"dni-plaintext\">108</div></td><td><div class=\"dni-plaintext\">70</div></td></tr><tr><td>4</td><td><div class=\"dni-plaintext\">9</div></td><td><div class=\"dni-plaintext\">109</div></td><td><div class=\"dni-plaintext\">60</div></td></tr><tr><td>5</td><td><div class=\"dni-plaintext\">10</div></td><td><div class=\"dni-plaintext\">110</div></td><td><div class=\"dni-plaintext\">30</div></td></tr><tr><td>6</td><td><div class=\"dni-plaintext\">1</div></td><td><div class=\"dni-plaintext\">101</div></td><td><div class=\"dni-plaintext\">10</div></td></tr></tbody></table>"
      ]
     },
     "metadata": {},
     "output_type": "display_data"
    }
   ],
   "source": [
    "// For given possibility, score and count, calculate new possibilities\n",
    "let expandPossibilities (position:int) (score:int) (count:int64) =\n",
    "    //output of simplePossibilities \n",
    "    seq {\n",
    "        (3, 1)\n",
    "        (4, 3)\n",
    "        (5, 6)\n",
    "        (6, 7)\n",
    "        (7, 6)\n",
    "        (8, 3)\n",
    "        (9, 1)\n",
    "    }\n",
    "    |> Seq.map( fun (offset, cnt) -> \n",
    "        let newPosition = (offset + position - 1) % 10 + 1\n",
    "        (\n",
    "            newPosition,\n",
    "            score + newPosition,\n",
    "            count * int64(cnt)\n",
    "        )\n",
    "    )\n",
    "    \n",
    "expandPossibilities 2 100 10"
   ]
  },
  {
   "cell_type": "code",
   "execution_count": null,
   "metadata": {
    "dotnet_interactive": {
     "language": "fsharp"
    }
   },
   "outputs": [
    {
     "data": {
      "text/html": [
       "<table><thead><tr><th><i>index</i></th><th>Item1</th><th>Item2</th><th>Item3</th></tr></thead><tbody><tr><td>0</td><td><div class=\"dni-plaintext\">1</div></td><td><div class=\"dni-plaintext\">101</div></td><td><div class=\"dni-plaintext\">11</div></td></tr><tr><td>1</td><td><div class=\"dni-plaintext\">2</div></td><td><div class=\"dni-plaintext\">102</div></td><td><div class=\"dni-plaintext\">30</div></td></tr><tr><td>2</td><td><div class=\"dni-plaintext\">3</div></td><td><div class=\"dni-plaintext\">103</div></td><td><div class=\"dni-plaintext\">60</div></td></tr><tr><td>3</td><td><div class=\"dni-plaintext\">4</div></td><td><div class=\"dni-plaintext\">104</div></td><td><div class=\"dni-plaintext\">70</div></td></tr><tr><td>4</td><td><div class=\"dni-plaintext\">5</div></td><td><div class=\"dni-plaintext\">105</div></td><td><div class=\"dni-plaintext\">61</div></td></tr><tr><td>5</td><td><div class=\"dni-plaintext\">6</div></td><td><div class=\"dni-plaintext\">106</div></td><td><div class=\"dni-plaintext\">33</div></td></tr><tr><td>6</td><td><div class=\"dni-plaintext\">7</div></td><td><div class=\"dni-plaintext\">107</div></td><td><div class=\"dni-plaintext\">16</div></td></tr><tr><td>7</td><td><div class=\"dni-plaintext\">8</div></td><td><div class=\"dni-plaintext\">108</div></td><td><div class=\"dni-plaintext\">7</div></td></tr><tr><td>8</td><td><div class=\"dni-plaintext\">9</div></td><td><div class=\"dni-plaintext\">109</div></td><td><div class=\"dni-plaintext\">6</div></td></tr><tr><td>9</td><td><div class=\"dni-plaintext\">10</div></td><td><div class=\"dni-plaintext\">110</div></td><td><div class=\"dni-plaintext\">3</div></td></tr></tbody></table>"
      ]
     },
     "metadata": {},
     "output_type": "display_data"
    }
   ],
   "source": [
    "// Expand all possible positions for the player\n",
    "let expandPlayerOptions (options: seq<int*int*int64>) =\n",
    "    options\n",
    "    |> Seq.map( fun (position, score, count) -> expandPossibilities position score count )\n",
    "    |> Seq.concat\n",
    "    |> Seq.groupBy ( fun (position, score, count ) -> (position, score) )\n",
    "    |> Seq.map ( \n",
    "        fun ((position, score), items) -> \n",
    "            (\n",
    "                position,\n",
    "                score,\n",
    "                ( items |> Seq.sumBy ( fun (_,_,count) -> count ) )\n",
    "            )  \n",
    "    )\n",
    "\n",
    "// expandPlayerOptions (seq { (1,0,1L); (2,0,1L) })\n",
    "expandPlayerOptions (seq { (8,100,10L); (2,100,1L) })"
   ]
  },
  {
   "cell_type": "code",
   "execution_count": null,
   "metadata": {},
   "outputs": [
    {
     "data": {
      "text/html": [
       "<table><thead><tr><th>Item1</th><th>Item2</th></tr></thead><tbody><tr><td><div class=\"dni-plaintext\">5</div></td><td><div class=\"dni-plaintext\">12</div></td></tr></tbody></table>"
      ]
     },
     "metadata": {},
     "output_type": "display_data"
    }
   ],
   "source": [
    "// Split the possibilities between wins and loses\n",
    "let countWins (options: seq<int*int*int64>) (limit: int) =\n",
    "    options\n",
    "    |> Seq.fold (\n",
    "        fun (under, over) (pos, score, count) ->\n",
    "            if score < limit then \n",
    "                (under+count, over)\n",
    "            else\n",
    "                (under, over+count)        \n",
    "        )\n",
    "        (0L, 0L)\n",
    "\n",
    "countWins (seq{ (0, 10, 5L); (0,30, 12L)}) 20\n"
   ]
  },
  {
   "cell_type": "code",
   "execution_count": null,
   "metadata": {
    "dotnet_interactive": {
     "language": "fsharp"
    }
   },
   "outputs": [
    {
     "data": {
      "text/html": [
       "<table><thead><tr><th>Item1</th><th>Item2</th></tr></thead><tbody><tr><td><div class=\"dni-plaintext\">444356092776315</div></td><td><div class=\"dni-plaintext\">341960390180808</div></td></tr></tbody></table>"
      ]
     },
     "metadata": {},
     "output_type": "display_data"
    }
   ],
   "source": [
    "let playGame2 (start1: int) (start2: int) (limit: int) =\n",
    "    let rec round (options1: seq<int*int*int64>) (options2: seq<int*int*int64>) (wins1: int64) (wins2: int64) =\n",
    "        let newOptions1 = expandPlayerOptions options1\n",
    "        let newOptions2 = expandPlayerOptions options2\n",
    "        let (p1Under, p1Over) = countWins newOptions1 limit\n",
    "        let (p2Under, p2Over) = countWins newOptions2 limit\n",
    "        let p2BeforeThrow = (options2 |> Seq.sumBy (fun (_, _, cnt) -> cnt ) )\n",
    "        // player 1 immediately wins, so we multiply his win possibilities by all p2 possibilities\n",
    "        let newWins1 = wins1 + p1Over * p2BeforeThrow\n",
    "        // player 2 goes second, so we multiply his win possibilities only by p1 lose possibilites after the reound\n",
    "        let newWins2 = wins2 + p1Under * p2Over \n",
    "        if p1Under = 0 || p2Under = 0 then\n",
    "            (newWins1, newWins2)\n",
    "        else\n",
    "            round\n",
    "                ( newOptions1 |> Seq.filter ( fun (_, score, _) -> score < limit ))\n",
    "                ( newOptions2 |> Seq.filter ( fun (_, score, _) -> score < limit ))\n",
    "                newWins1\n",
    "                newWins2\n",
    "    \n",
    "    round \n",
    "        (seq{ (start1, 0, 1L) }) \n",
    "        (seq{ (start2, 0, 1L) }) \n",
    "        0L \n",
    "        0L\n",
    "        \n",
    "playGame2 4 8 21   // 444356092776315  341960390180808 \n"
   ]
  },
  {
   "cell_type": "code",
   "execution_count": null,
   "metadata": {
    "dotnet_interactive": {
     "language": "fsharp"
    }
   },
   "outputs": [
    {
     "data": {
      "text/html": [
       "<table><thead><tr><th>Item1</th><th>Item2</th></tr></thead><tbody><tr><td><div class=\"dni-plaintext\">492043106122795</div></td><td><div class=\"dni-plaintext\">267086464416104</div></td></tr></tbody></table>"
      ]
     },
     "metadata": {},
     "output_type": "display_data"
    }
   ],
   "source": [
    "playGame2 9 6 21   // 444356092776315  341960390180808 "
   ]
  }
 ],
 "metadata": {
  "kernelspec": {
   "display_name": ".NET (F#)",
   "language": "F#",
   "name": ".net-fsharp"
  },
  "language_info": {
   "name": "F#"
  }
 },
 "nbformat": 4,
 "nbformat_minor": 2
}
