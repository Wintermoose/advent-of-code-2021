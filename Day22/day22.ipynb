{
 "cells": [
  {
   "cell_type": "markdown",
   "metadata": {},
   "source": [
    "--- Day 22: Reactor Reboot ---\n",
    "\n",
    "Operating at these extreme ocean depths has overloaded the submarine's reactor; it needs to be rebooted.\n",
    "\n",
    "The reactor core is made up of a large 3-dimensional grid made up entirely of cubes, one cube per integer 3-dimensional coordinate (x,y,z). Each cube can be either on or off; at the start of the reboot process, they are all off. (Could it be an old model of a reactor you've seen before?)\n",
    "\n",
    "To reboot the reactor, you just need to set all of the cubes to either on or off by following a list of reboot steps (your puzzle input). Each step specifies a cuboid (the set of all cubes that have coordinates which fall within ranges for x, y, and z) and whether to turn all of the cubes in that cuboid on or off.\n",
    "\n",
    "For example, given these reboot steps:\n",
    "\n",
    "```\n",
    "on x=10..12,y=10..12,z=10..12\n",
    "on x=11..13,y=11..13,z=11..13\n",
    "off x=9..11,y=9..11,z=9..11\n",
    "on x=10..10,y=10..10,z=10..10\n",
    "```\n",
    "\n",
    "The first step (on x=10..12,y=10..12,z=10..12) turns on a 3x3x3 cuboid consisting of 27 cubes:\n",
    "\n",
    "-    10,10,10\n",
    "-    10,10,11\n",
    "-    10,10,12\n",
    "-    10,11,10\n",
    "-    10,11,11\n",
    "-    10,11,12\n",
    "-    10,12,10\n",
    "-    10,12,11\n",
    "-    10,12,12\n",
    "-    11,10,10\n",
    "-    11,10,11\n",
    "-    11,10,12\n",
    "-    11,11,10\n",
    "-    11,11,11\n",
    "-    11,11,12\n",
    "-    11,12,10\n",
    "-    11,12,11\n",
    "-    11,12,12\n",
    "-    12,10,10\n",
    "-    12,10,11\n",
    "-    12,10,12\n",
    "-    12,11,10\n",
    "-    12,11,11\n",
    "-    12,11,12\n",
    "-    12,12,10\n",
    "-    12,12,11\n",
    "-    12,12,12\n",
    "\n",
    "The second step (on x=11..13,y=11..13,z=11..13) turns on a 3x3x3 cuboid that overlaps with the first. As a result, only 19 additional cubes turn on; the rest are already on from the previous step:\n",
    "\n",
    "-    11,11,13\n",
    "-    11,12,13\n",
    "-    11,13,11\n",
    "-    11,13,12\n",
    "-    11,13,13\n",
    "-    12,11,13\n",
    "-    12,12,13\n",
    "-    12,13,11\n",
    "-    12,13,12\n",
    "-    12,13,13\n",
    "-    13,11,11\n",
    "-    13,11,12\n",
    "-    13,11,13\n",
    "-    13,12,11\n",
    "-    13,12,12\n",
    "-    13,12,13\n",
    "-    13,13,11\n",
    "-    13,13,12\n",
    "-    13,13,13\n",
    "\n",
    "The third step (off x=9..11,y=9..11,z=9..11) turns off a 3x3x3 cuboid that overlaps partially with some cubes that are on, ultimately turning off 8 cubes:\n",
    "\n",
    "-    10,10,10\n",
    "-    10,10,11\n",
    "-    10,11,10\n",
    "-    10,11,11\n",
    "-    11,10,10\n",
    "-    11,10,11\n",
    "-    11,11,10\n",
    "-    11,11,11\n",
    "\n",
    "The final step (on x=10..10,y=10..10,z=10..10) turns on a single cube, 10,10,10. After this last step, 39 cubes are on.\n",
    "\n",
    "The initialization procedure only uses cubes that have x, y, and z positions of at least -50 and at most 50. For now, ignore cubes outside this region.\n",
    "\n",
    "Here is a larger example:\n",
    "\n",
    "```\n",
    "on x=-20..26,y=-36..17,z=-47..7\n",
    "on x=-20..33,y=-21..23,z=-26..28\n",
    "on x=-22..28,y=-29..23,z=-38..16\n",
    "on x=-46..7,y=-6..46,z=-50..-1\n",
    "on x=-49..1,y=-3..46,z=-24..28\n",
    "on x=2..47,y=-22..22,z=-23..27\n",
    "on x=-27..23,y=-28..26,z=-21..29\n",
    "on x=-39..5,y=-6..47,z=-3..44\n",
    "on x=-30..21,y=-8..43,z=-13..34\n",
    "on x=-22..26,y=-27..20,z=-29..19\n",
    "off x=-48..-32,y=26..41,z=-47..-37\n",
    "on x=-12..35,y=6..50,z=-50..-2\n",
    "off x=-48..-32,y=-32..-16,z=-15..-5\n",
    "on x=-18..26,y=-33..15,z=-7..46\n",
    "off x=-40..-22,y=-38..-28,z=23..41\n",
    "on x=-16..35,y=-41..10,z=-47..6\n",
    "off x=-32..-23,y=11..30,z=-14..3\n",
    "on x=-49..-5,y=-3..45,z=-29..18\n",
    "off x=18..30,y=-20..-8,z=-3..13\n",
    "on x=-41..9,y=-7..43,z=-33..15\n",
    "on x=-54112..-39298,y=-85059..-49293,z=-27449..7877\n",
    "on x=967..23432,y=45373..81175,z=27513..53682\n",
    "```\n",
    "\n",
    "The last two steps are fully outside the initialization procedure area; all other steps are fully within it. After executing these steps in the initialization procedure region, 590784 cubes are on.\n",
    "\n",
    "Execute the reboot steps. Afterward, considering only cubes in the region x=-50..50,y=-50..50,z=-50..50, how many cubes are on?\n"
   ]
  },
  {
   "cell_type": "code",
   "execution_count": null,
   "metadata": {
    "dotnet_interactive": {
     "language": "fsharp"
    }
   },
   "outputs": [
    {
     "data": {
      "text/html": [
       "<table><thead><tr><th><i>index</i></th><th>Item1</th><th>Item2</th><th>Item3</th><th>Item4</th><th>Item5</th><th>Item6</th><th>Item7</th></tr></thead><tbody><tr><td>0</td><td><div class=\"dni-plaintext\">10</div></td><td><div class=\"dni-plaintext\">12</div></td><td><div class=\"dni-plaintext\">10</div></td><td><div class=\"dni-plaintext\">12</div></td><td><div class=\"dni-plaintext\">10</div></td><td><div class=\"dni-plaintext\">12</div></td><td><div class=\"dni-plaintext\">True</div></td></tr><tr><td>1</td><td><div class=\"dni-plaintext\">11</div></td><td><div class=\"dni-plaintext\">13</div></td><td><div class=\"dni-plaintext\">11</div></td><td><div class=\"dni-plaintext\">13</div></td><td><div class=\"dni-plaintext\">11</div></td><td><div class=\"dni-plaintext\">13</div></td><td><div class=\"dni-plaintext\">True</div></td></tr><tr><td>2</td><td><div class=\"dni-plaintext\">9</div></td><td><div class=\"dni-plaintext\">11</div></td><td><div class=\"dni-plaintext\">9</div></td><td><div class=\"dni-plaintext\">11</div></td><td><div class=\"dni-plaintext\">9</div></td><td><div class=\"dni-plaintext\">11</div></td><td><div class=\"dni-plaintext\">False</div></td></tr><tr><td>3</td><td><div class=\"dni-plaintext\">10</div></td><td><div class=\"dni-plaintext\">10</div></td><td><div class=\"dni-plaintext\">10</div></td><td><div class=\"dni-plaintext\">10</div></td><td><div class=\"dni-plaintext\">10</div></td><td><div class=\"dni-plaintext\">10</div></td><td><div class=\"dni-plaintext\">True</div></td></tr></tbody></table>"
      ]
     },
     "metadata": {},
     "output_type": "display_data"
    }
   ],
   "source": [
    "#load \"../Shared/regexp.fsx\"\n",
    "open RegexpMatch\n",
    "\n",
    "let testInput = \"\"\"\n",
    "on x=10..12,y=10..12,z=10..12\n",
    "on x=11..13,y=11..13,z=11..13\n",
    "off x=9..11,y=9..11,z=9..11\n",
    "on x=10..10,y=10..10,z=10..10\n",
    "\"\"\"\n",
    "\n",
    "let parse (input:string) =\n",
    "    input.Replace(\"\\r\",\"\").Split(\"\\n\")\n",
    "    |> Seq.filter( (<>) \"\" )\n",
    "    |> Seq.map (\n",
    "        function \n",
    "        | Regex @\"(on|off)\\s+x=(-?\\d+)..(-?\\d+),\\s*y=(-?\\d+)..(-?\\d+),\\s*z=(-?\\d+)..(-?\\d+)\" [state; x0; x1; y0; y1; z0; z1] ->\n",
    "            (int x0, int x1, int y0, int y1, int z0, int z1, state=\"on\")\n",
    "        | token -> failwithf \"Unknown row %s\" token\n",
    "    )\n",
    "\n",
    "testInput |> parse"
   ]
  },
  {
   "cell_type": "code",
   "execution_count": null,
   "metadata": {
    "dotnet_interactive": {
     "language": "fsharp"
    }
   },
   "outputs": [
    {
     "data": {
      "text/html": [
       "<table><thead><tr><th><i>index</i></th><th>Item1</th><th>Item2</th><th>Item3</th></tr></thead><tbody><tr><td>0</td><td><div class=\"dni-plaintext\">0</div></td><td><div class=\"dni-plaintext\">0</div></td><td><div class=\"dni-plaintext\">0</div></td></tr><tr><td>1</td><td><div class=\"dni-plaintext\">0</div></td><td><div class=\"dni-plaintext\">0</div></td><td><div class=\"dni-plaintext\">1</div></td></tr><tr><td>2</td><td><div class=\"dni-plaintext\">0</div></td><td><div class=\"dni-plaintext\">0</div></td><td><div class=\"dni-plaintext\">2</div></td></tr><tr><td>3</td><td><div class=\"dni-plaintext\">0</div></td><td><div class=\"dni-plaintext\">1</div></td><td><div class=\"dni-plaintext\">0</div></td></tr><tr><td>4</td><td><div class=\"dni-plaintext\">0</div></td><td><div class=\"dni-plaintext\">1</div></td><td><div class=\"dni-plaintext\">1</div></td></tr><tr><td>5</td><td><div class=\"dni-plaintext\">0</div></td><td><div class=\"dni-plaintext\">1</div></td><td><div class=\"dni-plaintext\">2</div></td></tr><tr><td>6</td><td><div class=\"dni-plaintext\">0</div></td><td><div class=\"dni-plaintext\">2</div></td><td><div class=\"dni-plaintext\">0</div></td></tr><tr><td>7</td><td><div class=\"dni-plaintext\">0</div></td><td><div class=\"dni-plaintext\">2</div></td><td><div class=\"dni-plaintext\">1</div></td></tr><tr><td>8</td><td><div class=\"dni-plaintext\">0</div></td><td><div class=\"dni-plaintext\">2</div></td><td><div class=\"dni-plaintext\">2</div></td></tr><tr><td>9</td><td><div class=\"dni-plaintext\">1</div></td><td><div class=\"dni-plaintext\">0</div></td><td><div class=\"dni-plaintext\">0</div></td></tr><tr><td>10</td><td><div class=\"dni-plaintext\">1</div></td><td><div class=\"dni-plaintext\">0</div></td><td><div class=\"dni-plaintext\">1</div></td></tr><tr><td>11</td><td><div class=\"dni-plaintext\">1</div></td><td><div class=\"dni-plaintext\">0</div></td><td><div class=\"dni-plaintext\">2</div></td></tr><tr><td>12</td><td><div class=\"dni-plaintext\">1</div></td><td><div class=\"dni-plaintext\">1</div></td><td><div class=\"dni-plaintext\">0</div></td></tr><tr><td>13</td><td><div class=\"dni-plaintext\">1</div></td><td><div class=\"dni-plaintext\">1</div></td><td><div class=\"dni-plaintext\">1</div></td></tr><tr><td>14</td><td><div class=\"dni-plaintext\">1</div></td><td><div class=\"dni-plaintext\">1</div></td><td><div class=\"dni-plaintext\">2</div></td></tr><tr><td>15</td><td><div class=\"dni-plaintext\">1</div></td><td><div class=\"dni-plaintext\">2</div></td><td><div class=\"dni-plaintext\">0</div></td></tr><tr><td>16</td><td><div class=\"dni-plaintext\">1</div></td><td><div class=\"dni-plaintext\">2</div></td><td><div class=\"dni-plaintext\">1</div></td></tr><tr><td>17</td><td><div class=\"dni-plaintext\">1</div></td><td><div class=\"dni-plaintext\">2</div></td><td><div class=\"dni-plaintext\">2</div></td></tr><tr><td>18</td><td><div class=\"dni-plaintext\">2</div></td><td><div class=\"dni-plaintext\">0</div></td><td><div class=\"dni-plaintext\">0</div></td></tr><tr><td>19</td><td><div class=\"dni-plaintext\">2</div></td><td><div class=\"dni-plaintext\">0</div></td><td><div class=\"dni-plaintext\">1</div></td></tr><tr><td colspan=\"4\"><i>... (more)</i></td></tr></tbody></table>"
      ]
     },
     "metadata": {},
     "output_type": "display_data"
    }
   ],
   "source": [
    "let drawCuboid (space: Set<int*int*int>) (cuboid: (int*int*int*int*int*int*bool)) =\n",
    "    let mutable result = space\n",
    "    let (x0,x1,y0,y1,z0,z1,state) = cuboid\n",
    "    for z=z0 to z1 do\n",
    "        for y=y0 to y1 do\n",
    "            for x=x0 to x1 do\n",
    "                if state then\n",
    "                    result <- result.Add( (x,y,z) )\n",
    "                else\n",
    "                    result <- result.Remove( (x,y,z) )\n",
    "    result\n",
    "\n",
    "drawCuboid Set.empty (0,2,0,2,0,2,true)"
   ]
  },
  {
   "cell_type": "code",
   "execution_count": null,
   "metadata": {
    "dotnet_interactive": {
     "language": "fsharp"
    }
   },
   "outputs": [
    {
     "data": {
      "text/html": [
       "<div class=\"dni-plaintext\">39</div>"
      ]
     },
     "metadata": {},
     "output_type": "display_data"
    }
   ],
   "source": [
    "let drawStep1 (input: seq<int*int*int*int*int*int*bool>) =\n",
    "    let clip (v:int) = \n",
    "        if v < -50 then -50\n",
    "        elif v > 50 then 50\n",
    "        else v\n",
    "\n",
    "    input\n",
    "    |> Seq.filter( fun (x0,x1,y0,y1,z0,z1,_) -> x0 <= 50 && x1 >= -50 && x0 <= 50 && y1 >= -50 && z0 <= 50 && z1 >= -50 )\n",
    "    |> Seq.map( fun (x0,x1,y0,y1,z0,z1,state) -> (clip x0, clip x1, clip y0, clip y1, clip z0, clip z1, state) )\n",
    "    |> Seq.fold drawCuboid Set.empty\n",
    "    |> Seq.length\n",
    "\n",
    "testInput |> parse |> drawStep1  // 39"
   ]
  },
  {
   "cell_type": "code",
   "execution_count": null,
   "metadata": {
    "dotnet_interactive": {
     "language": "fsharp"
    }
   },
   "outputs": [
    {
     "data": {
      "text/html": [
       "<div class=\"dni-plaintext\">590784</div>"
      ]
     },
     "metadata": {},
     "output_type": "display_data"
    }
   ],
   "source": [
    "let testInput2=\"\"\"\n",
    "on x=-20..26,y=-36..17,z=-47..7\n",
    "on x=-20..33,y=-21..23,z=-26..28\n",
    "on x=-22..28,y=-29..23,z=-38..16\n",
    "on x=-46..7,y=-6..46,z=-50..-1\n",
    "on x=-49..1,y=-3..46,z=-24..28\n",
    "on x=2..47,y=-22..22,z=-23..27\n",
    "on x=-27..23,y=-28..26,z=-21..29\n",
    "on x=-39..5,y=-6..47,z=-3..44\n",
    "on x=-30..21,y=-8..43,z=-13..34\n",
    "on x=-22..26,y=-27..20,z=-29..19\n",
    "off x=-48..-32,y=26..41,z=-47..-37\n",
    "on x=-12..35,y=6..50,z=-50..-2\n",
    "off x=-48..-32,y=-32..-16,z=-15..-5\n",
    "on x=-18..26,y=-33..15,z=-7..46\n",
    "off x=-40..-22,y=-38..-28,z=23..41\n",
    "on x=-16..35,y=-41..10,z=-47..6\n",
    "off x=-32..-23,y=11..30,z=-14..3\n",
    "on x=-49..-5,y=-3..45,z=-29..18\n",
    "off x=18..30,y=-20..-8,z=-3..13\n",
    "on x=-41..9,y=-7..43,z=-33..15\n",
    "on x=-54112..-39298,y=-85059..-49293,z=-27449..7877\n",
    "on x=967..23432,y=45373..81175,z=27513..53682\n",
    "\"\"\"\n",
    "\n",
    "testInput2 |> parse |> drawStep1  // 590784"
   ]
  },
  {
   "cell_type": "code",
   "execution_count": null,
   "metadata": {
    "dotnet_interactive": {
     "language": "fsharp"
    }
   },
   "outputs": [
    {
     "data": {
      "text/html": [
       "<div class=\"dni-plaintext\">642125</div>"
      ]
     },
     "metadata": {},
     "output_type": "display_data"
    }
   ],
   "source": [
    "let task = System.IO.File.ReadAllText \"task.txt\"\n",
    "task |> parse |> drawStep1  // 642125"
   ]
  },
  {
   "cell_type": "markdown",
   "metadata": {},
   "source": [
    "--- Part Two ---\n",
    "\n",
    "Now that the initialization procedure is complete, you can reboot the reactor.\n",
    "\n",
    "Starting with all cubes off, run all of the reboot steps for all cubes in the reactor.\n",
    "\n",
    "Consider the following reboot steps:\n",
    "\n",
    "```\n",
    "on x=-5..47,y=-31..22,z=-19..33\n",
    "on x=-44..5,y=-27..21,z=-14..35\n",
    "on x=-49..-1,y=-11..42,z=-10..38\n",
    "on x=-20..34,y=-40..6,z=-44..1\n",
    "off x=26..39,y=40..50,z=-2..11\n",
    "on x=-41..5,y=-41..6,z=-36..8\n",
    "off x=-43..-33,y=-45..-28,z=7..25\n",
    "on x=-33..15,y=-32..19,z=-34..11\n",
    "off x=35..47,y=-46..-34,z=-11..5\n",
    "on x=-14..36,y=-6..44,z=-16..29\n",
    "on x=-57795..-6158,y=29564..72030,z=20435..90618\n",
    "on x=36731..105352,y=-21140..28532,z=16094..90401\n",
    "on x=30999..107136,y=-53464..15513,z=8553..71215\n",
    "on x=13528..83982,y=-99403..-27377,z=-24141..23996\n",
    "on x=-72682..-12347,y=18159..111354,z=7391..80950\n",
    "on x=-1060..80757,y=-65301..-20884,z=-103788..-16709\n",
    "on x=-83015..-9461,y=-72160..-8347,z=-81239..-26856\n",
    "on x=-52752..22273,y=-49450..9096,z=54442..119054\n",
    "on x=-29982..40483,y=-108474..-28371,z=-24328..38471\n",
    "on x=-4958..62750,y=40422..118853,z=-7672..65583\n",
    "on x=55694..108686,y=-43367..46958,z=-26781..48729\n",
    "on x=-98497..-18186,y=-63569..3412,z=1232..88485\n",
    "on x=-726..56291,y=-62629..13224,z=18033..85226\n",
    "on x=-110886..-34664,y=-81338..-8658,z=8914..63723\n",
    "on x=-55829..24974,y=-16897..54165,z=-121762..-28058\n",
    "on x=-65152..-11147,y=22489..91432,z=-58782..1780\n",
    "on x=-120100..-32970,y=-46592..27473,z=-11695..61039\n",
    "on x=-18631..37533,y=-124565..-50804,z=-35667..28308\n",
    "on x=-57817..18248,y=49321..117703,z=5745..55881\n",
    "on x=14781..98692,y=-1341..70827,z=15753..70151\n",
    "on x=-34419..55919,y=-19626..40991,z=39015..114138\n",
    "on x=-60785..11593,y=-56135..2999,z=-95368..-26915\n",
    "on x=-32178..58085,y=17647..101866,z=-91405..-8878\n",
    "on x=-53655..12091,y=50097..105568,z=-75335..-4862\n",
    "on x=-111166..-40997,y=-71714..2688,z=5609..50954\n",
    "on x=-16602..70118,y=-98693..-44401,z=5197..76897\n",
    "on x=16383..101554,y=4615..83635,z=-44907..18747\n",
    "off x=-95822..-15171,y=-19987..48940,z=10804..104439\n",
    "on x=-89813..-14614,y=16069..88491,z=-3297..45228\n",
    "on x=41075..99376,y=-20427..49978,z=-52012..13762\n",
    "on x=-21330..50085,y=-17944..62733,z=-112280..-30197\n",
    "on x=-16478..35915,y=36008..118594,z=-7885..47086\n",
    "off x=-98156..-27851,y=-49952..43171,z=-99005..-8456\n",
    "off x=2032..69770,y=-71013..4824,z=7471..94418\n",
    "on x=43670..120875,y=-42068..12382,z=-24787..38892\n",
    "off x=37514..111226,y=-45862..25743,z=-16714..54663\n",
    "off x=25699..97951,y=-30668..59918,z=-15349..69697\n",
    "off x=-44271..17935,y=-9516..60759,z=49131..112598\n",
    "on x=-61695..-5813,y=40978..94975,z=8655..80240\n",
    "off x=-101086..-9439,y=-7088..67543,z=33935..83858\n",
    "off x=18020..114017,y=-48931..32606,z=21474..89843\n",
    "off x=-77139..10506,y=-89994..-18797,z=-80..59318\n",
    "off x=8476..79288,y=-75520..11602,z=-96624..-24783\n",
    "on x=-47488..-1262,y=24338..100707,z=16292..72967\n",
    "off x=-84341..13987,y=2429..92914,z=-90671..-1318\n",
    "off x=-37810..49457,y=-71013..-7894,z=-105357..-13188\n",
    "off x=-27365..46395,y=31009..98017,z=15428..76570\n",
    "off x=-70369..-16548,y=22648..78696,z=-1892..86821\n",
    "on x=-53470..21291,y=-120233..-33476,z=-44150..38147\n",
    "off x=-93533..-4276,y=-16170..68771,z=-104985..-24507\n",
    "```\n",
    "\n",
    "After running the above reboot steps, 2758514936282235 cubes are on. (Just for fun, 474140 of those are also in the initialization procedure region.)\n",
    "\n",
    "Starting again with all cubes off, execute all reboot steps. Afterward, considering all cubes, how many cubes are on?\n"
   ]
  },
  {
   "cell_type": "code",
   "execution_count": null,
   "metadata": {
    "dotnet_interactive": {
     "language": "fsharp"
    }
   },
   "outputs": [
    {
     "data": {
      "text/html": [
       "<table><thead><tr><th><i>index</i></th><th>value</th></tr></thead><tbody><tr><td>0</td><td><div class=\"dni-plaintext\">[ ( 11, 12 ), ( 11, 12 ), ( 13, 13 ) ]</div></td></tr><tr><td>1</td><td><div class=\"dni-plaintext\">[ ( 11, 12 ), ( 13, 13 ), ( 11, 12 ) ]</div></td></tr><tr><td>2</td><td><div class=\"dni-plaintext\">[ ( 11, 12 ), ( 13, 13 ), ( 13, 13 ) ]</div></td></tr><tr><td>3</td><td><div class=\"dni-plaintext\">[ ( 13, 13 ), ( 11, 12 ), ( 11, 12 ) ]</div></td></tr><tr><td>4</td><td><div class=\"dni-plaintext\">[ ( 13, 13 ), ( 11, 12 ), ( 13, 13 ) ]</div></td></tr><tr><td>5</td><td><div class=\"dni-plaintext\">[ ( 13, 13 ), ( 13, 13 ), ( 11, 12 ) ]</div></td></tr><tr><td>6</td><td><div class=\"dni-plaintext\">[ ( 13, 13 ), ( 13, 13 ), ( 13, 13 ) ]</div></td></tr></tbody></table>"
      ]
     },
     "metadata": {},
     "output_type": "display_data"
    }
   ],
   "source": [
    "// A - B\n",
    "let subtractCuboids (left: (int*int) array ) (right:(int*int) array) =\n",
    "    let rec splitCoord (coord:int) (parts: seq<((int*int) array) * bool>)=\n",
    "        let (l0, l1) = left[coord]\n",
    "        let (r0, r1) = right[coord]\n",
    "        // printfn \"%i %i     %i %i\" l0 l1 r0 r1\n",
    "        if l0 > r1 || l1 < r0 then\n",
    "            parts \n",
    "            |> Seq.map ( fun (partCoords, _) -> (partCoords, false))\n",
    "        else \n",
    "            let intervals = \n",
    "                // R completely covering\n",
    "                if r0 <= l0 && r1 >= l1 then\n",
    "                    [(l0, l1, true)]\n",
    "                // R completely inside\n",
    "                elif r0 >l0 && r1 < l1 then\n",
    "                    [(l0,r0-1, false); (r0, r1, true); (r1+1,l1,false)]\n",
    "                // R under and over\n",
    "                elif r0 <= l0 then\n",
    "                    [(l0,r1,true); (r1+1,l1,false)]\n",
    "                // R over and above\n",
    "                else \n",
    "                    [(l0,r0-1,false); (r0,l1,true)]\n",
    "            parts \n",
    "            |> Seq.map ( fun (partCoords, partInside) ->\n",
    "                intervals\n",
    "                |> Seq.map ( fun (x0, x1, inside) ->\n",
    "                    ( \n",
    "                        [|\n",
    "                            if coord = 0 then (x0, x1) else partCoords[0]\n",
    "                            if coord = 1 then (x0, x1) else partCoords[1]\n",
    "                            if coord = 2 then (x0, x1) else partCoords[2]\n",
    "                        |]\n",
    "                        ,\n",
    "                        partInside && inside\n",
    "                    )\n",
    "                )\n",
    "            )\n",
    "            |> Seq.concat\n",
    "\n",
    "    let newCubes =\n",
    "        (seq{ ( left, true ) })\n",
    "        |> splitCoord 0\n",
    "        |> splitCoord 1\n",
    "        |> splitCoord 2\n",
    "        |> Seq.cache\n",
    "\n",
    "    if (Seq.tryFind ( fun (coords, inside) -> inside ) newCubes ).IsNone then\n",
    "        seq { left }\n",
    "\n",
    "    else \n",
    "        newCubes\n",
    "        |> Seq.filter ( fun (coords, inside) -> not inside )\n",
    "        |> Seq.map fst\n",
    "\n",
    "// subtractCuboids [|(0,5); (0,5); (0,5)|]  [|(2,10); (2,10); (2,10)|]   // right over and above\n",
    "// subtractCuboids [|(0,5); (0,5); (0,5)|]  [|(-2,10); (2,10); (2,10)|]  // right covering\n",
    "// subtractCuboids [|(0,5); (0,5); (0,5)|]  [|(2,3); (2,10); (2,10)|]  // right within\n",
    "// subtractCuboids [|(0,5); (0,5); (0,5)|]  [|(-2,3); (2,10); (2,10)|]  // right under and over\n",
    "// subtractCuboids [|(0,5); (0,5); (0,5)|]  [|(-2,10); (-2,10); (-2,10)|]   // right covering\n",
    "// subtractCuboids [|(0,5); (0,5); (0,5)|]  [|(2,10); (2,10); (8,10)|]   // outside\n",
    "//subtractCuboids [|(10,12); (10,12); (0,5)|]  [|(2,10); (2,10); (8,10)|]   // outside\n",
    "// subtractCuboids [|(10,12); (10,12); (10,12)|]  [|(11,13); (11,13); (11,13)|] |> mergeCuboids // test 1\n",
    "subtractCuboids [|(11,13); (11,13); (11,13)|] [|(10,12); (10,12); (10,12)|]  // test 2\n",
    "        "
   ]
  },
  {
   "cell_type": "code",
   "execution_count": null,
   "metadata": {
    "dotnet_interactive": {
     "language": "fsharp"
    }
   },
   "outputs": [
    {
     "data": {
      "text/html": [
       "<table><thead><tr><th><i>index</i></th><th>value</th></tr></thead><tbody><tr><td>0</td><td><div class=\"dni-plaintext\">[ ( 8, 10 ), ( 0, 10 ), ( 0, 10 ) ]</div></td></tr><tr><td>1</td><td><div class=\"dni-plaintext\">[ ( 2, 7 ), ( 8, 10 ), ( 2, 10 ) ]</div></td></tr><tr><td>2</td><td><div class=\"dni-plaintext\">[ ( 2, 7 ), ( 2, 7 ), ( 8, 10 ) ]</div></td></tr><tr><td>3</td><td><div class=\"dni-plaintext\">[ ( 2, 7 ), ( 2, 10 ), ( 0, 1 ) ]</div></td></tr><tr><td>4</td><td><div class=\"dni-plaintext\">[ ( 2, 7 ), ( 0, 1 ), ( 0, 10 ) ]</div></td></tr><tr><td>5</td><td><div class=\"dni-plaintext\">[ ( 0, 1 ), ( 0, 10 ), ( 0, 10 ) ]</div></td></tr></tbody></table>"
      ]
     },
     "metadata": {},
     "output_type": "display_data"
    }
   ],
   "source": [
    "let mergeCuboids (input: seq<(int*int) array> ) =\n",
    "    let rec merge (left: (int*int) array) (right: (int*int) array ) =\n",
    "        let coords = seq { 0..2 }\n",
    "        let notMatchingCoords = coords |> Seq.filter( fun i -> left[i]<>right[i] )\n",
    "        if notMatchingCoords |> Seq.length = 1 then\n",
    "            let coord = notMatchingCoords |> Seq.head\n",
    "            let (l0,l1) = left[coord]\n",
    "            let (r0,r1) = right[coord]\n",
    "            let newCoord = \n",
    "                if l1+1=r0 then \n",
    "                    Some (l0, r1)\n",
    "                elif r1+1=l0 then\n",
    "                    Some (r0,l1)\n",
    "                else\n",
    "                    None\n",
    "            if newCoord.IsSome then\n",
    "                Some ( left |> Array.mapi ( fun i value -> if i = coord then newCoord.Value else value ) )\n",
    "            else \n",
    "                None\n",
    "        else\n",
    "            None\n",
    "\n",
    "    let rec mergeOne (merged: List<(int*int) array>) (todo: list<(int*int) array>) modified =\n",
    "        match todo with\n",
    "        | one::rest ->\n",
    "            let mutable found = false\n",
    "            let newMerged = \n",
    "                merged\n",
    "                |> List.map ( fun cube ->\n",
    "                    if found then \n",
    "                        cube\n",
    "                    else\n",
    "                        let result = merge cube one\n",
    "                        if result.IsSome then\n",
    "                            found <- true\n",
    "                            result.Value\n",
    "                        else\n",
    "                            cube\n",
    "\n",
    "                )\n",
    "            if found then\n",
    "                mergeOne newMerged rest true\n",
    "            else\n",
    "                mergeOne (one::merged) rest modified\n",
    "        | [] when modified -> mergeOne [] merged false\n",
    "        | [] -> merged\n",
    "\n",
    "    mergeOne [] (input |> List.ofSeq ) false\n",
    "\n",
    "// subtractCuboids [|(0,5); (0,5); (0,5)|]  [|(2,10); (2,10); (2,10)|]  |> mergeCuboids  // right over and above\n",
    "subtractCuboids [|(0,10); (0,10); (0,10)|]  [|(2,7); (2,7); (2,7)|]  |> mergeCuboids  // bit off center"
   ]
  },
  {
   "cell_type": "code",
   "execution_count": null,
   "metadata": {
    "dotnet_interactive": {
     "language": "fsharp"
    }
   },
   "outputs": [
    {
     "data": {
      "text/html": [
       "<div class=\"dni-plaintext\">True</div>"
      ]
     },
     "metadata": {},
     "output_type": "display_data"
    }
   ],
   "source": [
    "let noOverlap (left: (int*int) array) (right: (int*int) array) =\n",
    "    Seq.exists2 ( fun l r -> \n",
    "            let (l0, l1) = l\n",
    "            let (r0, r1) = r\n",
    "            r0 > l1 || r1 < l0\n",
    "        ) \n",
    "        left \n",
    "        right\n",
    "\n",
    "noOverlap [|(0,5); (0,5); (0,5)|]  [|(6,10); (2,10); (2,10)|]"
   ]
  },
  {
   "cell_type": "code",
   "execution_count": null,
   "metadata": {
    "dotnet_interactive": {
     "language": "fsharp"
    }
   },
   "outputs": [
    {
     "data": {
      "text/html": [
       "<table><thead><tr><th><i>index</i></th><th>value</th></tr></thead><tbody><tr><td>0</td><td><div class=\"dni-plaintext\">[ ( 0, 0 ), ( 2, 2 ), ( 0, 2 ) ]</div></td></tr><tr><td>1</td><td><div class=\"dni-plaintext\">[ ( 0, 0 ), ( 0, 1 ), ( 2, 2 ) ]</div></td></tr><tr><td>2</td><td><div class=\"dni-plaintext\">[ ( 2, 2 ), ( 0, 0 ), ( 0, 2 ) ]</div></td></tr><tr><td>3</td><td><div class=\"dni-plaintext\">[ ( 1, 1 ), ( 0, 0 ), ( 2, 2 ) ]</div></td></tr><tr><td>4</td><td><div class=\"dni-plaintext\">[ ( 2, 2 ), ( 1, 2 ), ( 0, 0 ) ]</div></td></tr><tr><td>5</td><td><div class=\"dni-plaintext\">[ ( 1, 1 ), ( 2, 2 ), ( 0, 0 ) ]</div></td></tr><tr><td>6</td><td><div class=\"dni-plaintext\">[ ( 0, 1 ), ( 0, 1 ), ( 0, 1 ) ]</div></td></tr><tr><td>7</td><td><div class=\"dni-plaintext\">[ ( 1, 4 ), ( 1, 4 ), ( 1, 4 ) ]</div></td></tr></tbody></table>"
      ]
     },
     "metadata": {},
     "output_type": "display_data"
    }
   ],
   "source": [
    "let addCuboidToList (state: seq<(int*int) array> ) (cuboid: (int*int) array ) =\n",
    "    state\n",
    "    |> Seq.fold ( fun fragments existingCuboid -> \n",
    "            fragments\n",
    "            |> List.map( fun fragment ->\n",
    "                if noOverlap fragment existingCuboid then\n",
    "                    [ fragment ]\n",
    "                else\n",
    "                    subtractCuboids fragment existingCuboid |> mergeCuboids\n",
    "            )\n",
    "            |> List.concat\n",
    "        )\n",
    "        [cuboid]\n",
    "    |> Seq.append state\n",
    "    |> mergeCuboids\n",
    "\n",
    "addCuboidToList\n",
    "    (seq {\n",
    "        [|(1,4); (1,4); (1,4)|]\n",
    "        [|(0,1); (0,1); (0,1)|]\n",
    "    })\n",
    "    [|(0,2); (0,2); (0,2)|]  \n"
   ]
  },
  {
   "cell_type": "code",
   "execution_count": null,
   "metadata": {
    "dotnet_interactive": {
     "language": "fsharp"
    }
   },
   "outputs": [
    {
     "data": {
      "text/html": [
       "<table><thead><tr><th><i>index</i></th><th>value</th></tr></thead><tbody><tr><td>0</td><td><div class=\"dni-plaintext\">[ ( 0, 0 ), ( 0, 2 ), ( 0, 2 ) ]</div></td></tr><tr><td>1</td><td><div class=\"dni-plaintext\">[ ( 1, 2 ), ( 0, 0 ), ( 0, 2 ) ]</div></td></tr><tr><td>2</td><td><div class=\"dni-plaintext\">[ ( 1, 2 ), ( 1, 2 ), ( 0, 0 ) ]</div></td></tr></tbody></table>"
      ]
     },
     "metadata": {},
     "output_type": "display_data"
    }
   ],
   "source": [
    "let subtractCuboidFromList (state: seq<(int*int) array> ) (cuboid: (int*int) array ) =\n",
    "    state\n",
    "    |> Seq.map ( fun existingCuboid -> \n",
    "            if noOverlap existingCuboid cuboid then\n",
    "                [ existingCuboid ]\n",
    "            else\n",
    "                subtractCuboids existingCuboid cuboid |> mergeCuboids\n",
    "        )\n",
    "    |> Seq.concat\n",
    "    |> mergeCuboids\n",
    "\n",
    "subtractCuboidFromList\n",
    "    (seq {\n",
    "        [|(0,2); (0,2); (0,2)|]  \n",
    "    })\n",
    "    [|(1,4); (1,4); (1,4)|]"
   ]
  },
  {
   "cell_type": "code",
   "execution_count": null,
   "metadata": {
    "dotnet_interactive": {
     "language": "fsharp"
    }
   },
   "outputs": [
    {
     "data": {
      "text/html": [
       "<div class=\"dni-plaintext\">39</div>"
      ]
     },
     "metadata": {},
     "output_type": "display_data"
    }
   ],
   "source": [
    "let drawStep2 clipped (input: seq<int*int*int*int*int*int*bool>) =\n",
    "    let clip (v:int) = \n",
    "        if v < -50 then -50\n",
    "        elif v > 50 then 50\n",
    "        else v\n",
    "\n",
    "    let processed = \n",
    "        if clipped then\n",
    "            input\n",
    "            |> Seq.filter( fun (x0,x1,y0,y1,z0,z1,_) -> x0 <= 50 && x1 >= -50 && x0 <= 50 && y1 >= -50 && z0 <= 50 && z1 >= -50 )\n",
    "            |> Seq.map( fun (x0,x1,y0,y1,z0,z1,state) -> (clip x0, clip x1, clip y0, clip y1, clip z0, clip z1, state) )\n",
    "        else\n",
    "            input\n",
    "\n",
    "    processed\n",
    "    |> Seq.fold ( fun (cubes:seq<(int*int)array>) newCuboid ->\n",
    "        let (x0,x1,y0,y1,z0,z1,add) = newCuboid\n",
    "        if add then\n",
    "            addCuboidToList cubes [|(x0,x1); (y0,y1); (z0,z1)|]\n",
    "        else \n",
    "            subtractCuboidFromList cubes [|(x0,x1); (y0,y1); (z0,z1)|]\n",
    "        )\n",
    "        []\n",
    "    |> Seq.sumBy (\n",
    "        Array.map (fun (x0,x1) -> int64(x1 - x0 + 1) )\n",
    "        >> Array.reduce (*) \n",
    "    )\n",
    "\n",
    "testInput |> parse |> drawStep2 true "
   ]
  },
  {
   "cell_type": "code",
   "execution_count": null,
   "metadata": {
    "dotnet_interactive": {
     "language": "fsharp"
    }
   },
   "outputs": [
    {
     "data": {
      "text/html": [
       "<div class=\"dni-plaintext\">590784</div>"
      ]
     },
     "metadata": {},
     "output_type": "display_data"
    }
   ],
   "source": [
    "testInput2 |> parse |> drawStep2 true // 590784"
   ]
  },
  {
   "cell_type": "code",
   "execution_count": null,
   "metadata": {
    "dotnet_interactive": {
     "language": "fsharp"
    }
   },
   "outputs": [
    {
     "data": {
      "text/html": [
       "<div class=\"dni-plaintext\">2758514936282235</div>"
      ]
     },
     "metadata": {},
     "output_type": "display_data"
    }
   ],
   "source": [
    "let testInput3 = \"\"\"\n",
    "on x=-5..47,y=-31..22,z=-19..33\n",
    "on x=-44..5,y=-27..21,z=-14..35\n",
    "on x=-49..-1,y=-11..42,z=-10..38\n",
    "on x=-20..34,y=-40..6,z=-44..1\n",
    "off x=26..39,y=40..50,z=-2..11\n",
    "on x=-41..5,y=-41..6,z=-36..8\n",
    "off x=-43..-33,y=-45..-28,z=7..25\n",
    "on x=-33..15,y=-32..19,z=-34..11\n",
    "off x=35..47,y=-46..-34,z=-11..5\n",
    "on x=-14..36,y=-6..44,z=-16..29\n",
    "on x=-57795..-6158,y=29564..72030,z=20435..90618\n",
    "on x=36731..105352,y=-21140..28532,z=16094..90401\n",
    "on x=30999..107136,y=-53464..15513,z=8553..71215\n",
    "on x=13528..83982,y=-99403..-27377,z=-24141..23996\n",
    "on x=-72682..-12347,y=18159..111354,z=7391..80950\n",
    "on x=-1060..80757,y=-65301..-20884,z=-103788..-16709\n",
    "on x=-83015..-9461,y=-72160..-8347,z=-81239..-26856\n",
    "on x=-52752..22273,y=-49450..9096,z=54442..119054\n",
    "on x=-29982..40483,y=-108474..-28371,z=-24328..38471\n",
    "on x=-4958..62750,y=40422..118853,z=-7672..65583\n",
    "on x=55694..108686,y=-43367..46958,z=-26781..48729\n",
    "on x=-98497..-18186,y=-63569..3412,z=1232..88485\n",
    "on x=-726..56291,y=-62629..13224,z=18033..85226\n",
    "on x=-110886..-34664,y=-81338..-8658,z=8914..63723\n",
    "on x=-55829..24974,y=-16897..54165,z=-121762..-28058\n",
    "on x=-65152..-11147,y=22489..91432,z=-58782..1780\n",
    "on x=-120100..-32970,y=-46592..27473,z=-11695..61039\n",
    "on x=-18631..37533,y=-124565..-50804,z=-35667..28308\n",
    "on x=-57817..18248,y=49321..117703,z=5745..55881\n",
    "on x=14781..98692,y=-1341..70827,z=15753..70151\n",
    "on x=-34419..55919,y=-19626..40991,z=39015..114138\n",
    "on x=-60785..11593,y=-56135..2999,z=-95368..-26915\n",
    "on x=-32178..58085,y=17647..101866,z=-91405..-8878\n",
    "on x=-53655..12091,y=50097..105568,z=-75335..-4862\n",
    "on x=-111166..-40997,y=-71714..2688,z=5609..50954\n",
    "on x=-16602..70118,y=-98693..-44401,z=5197..76897\n",
    "on x=16383..101554,y=4615..83635,z=-44907..18747\n",
    "off x=-95822..-15171,y=-19987..48940,z=10804..104439\n",
    "on x=-89813..-14614,y=16069..88491,z=-3297..45228\n",
    "on x=41075..99376,y=-20427..49978,z=-52012..13762\n",
    "on x=-21330..50085,y=-17944..62733,z=-112280..-30197\n",
    "on x=-16478..35915,y=36008..118594,z=-7885..47086\n",
    "off x=-98156..-27851,y=-49952..43171,z=-99005..-8456\n",
    "off x=2032..69770,y=-71013..4824,z=7471..94418\n",
    "on x=43670..120875,y=-42068..12382,z=-24787..38892\n",
    "off x=37514..111226,y=-45862..25743,z=-16714..54663\n",
    "off x=25699..97951,y=-30668..59918,z=-15349..69697\n",
    "off x=-44271..17935,y=-9516..60759,z=49131..112598\n",
    "on x=-61695..-5813,y=40978..94975,z=8655..80240\n",
    "off x=-101086..-9439,y=-7088..67543,z=33935..83858\n",
    "off x=18020..114017,y=-48931..32606,z=21474..89843\n",
    "off x=-77139..10506,y=-89994..-18797,z=-80..59318\n",
    "off x=8476..79288,y=-75520..11602,z=-96624..-24783\n",
    "on x=-47488..-1262,y=24338..100707,z=16292..72967\n",
    "off x=-84341..13987,y=2429..92914,z=-90671..-1318\n",
    "off x=-37810..49457,y=-71013..-7894,z=-105357..-13188\n",
    "off x=-27365..46395,y=31009..98017,z=15428..76570\n",
    "off x=-70369..-16548,y=22648..78696,z=-1892..86821\n",
    "on x=-53470..21291,y=-120233..-33476,z=-44150..38147\n",
    "off x=-93533..-4276,y=-16170..68771,z=-104985..-24507\n",
    "\"\"\"\n",
    "testInput3 |> parse |> drawStep2 false  // 2758514936282235"
   ]
  },
  {
   "cell_type": "code",
   "execution_count": null,
   "metadata": {
    "dotnet_interactive": {
     "language": "fsharp"
    }
   },
   "outputs": [
    {
     "data": {
      "text/html": [
       "<div class=\"dni-plaintext\">1235164413198198</div>"
      ]
     },
     "metadata": {},
     "output_type": "display_data"
    }
   ],
   "source": [
    "task |> parse |> drawStep2 false  // 1235164413198198"
   ]
  },
  {
   "cell_type": "code",
   "execution_count": null,
   "metadata": {
    "dotnet_interactive": {
     "language": "fsharp"
    }
   },
   "outputs": [
    {
     "data": {
      "text/html": [
       "<div class=\"dni-plaintext\">39</div>"
      ]
     },
     "metadata": {},
     "output_type": "display_data"
    }
   ],
   "source": [
    "let drawStep2fast clipped (input: seq<int*int*int*int*int*int*bool>) =\n",
    "    let clip (v:int) = \n",
    "        if v < -50 then -50\n",
    "        elif v > 50 then 50\n",
    "        else v\n",
    "\n",
    "    let processed = \n",
    "        if clipped then\n",
    "            input\n",
    "            |> Seq.filter( fun (x0,x1,y0,y1,z0,z1,_) -> x0 <= 50 && x1 >= -50 && x0 <= 50 && y1 >= -50 && z0 <= 50 && z1 >= -50 )\n",
    "            |> Seq.map( fun (x0,x1,y0,y1,z0,z1,state) -> (clip x0, clip x1, clip y0, clip y1, clip z0, clip z1, state) )\n",
    "        else\n",
    "            input\n",
    "\n",
    "    processed\n",
    "    |> Seq.cache\n",
    "    |> Seq.fold ( fun (cubes:seq<int * int * int * int * int * int * int>) newCuboid ->\n",
    "            let (x0,x1,y0,y1,z0,z1,add) = newCuboid\n",
    "            cubes \n",
    "            |> Seq.filter ( fun (lx0, lx1, ly0, ly1, lz0, lz1, lsign ) -> lx0 <= x1 && lx1 >= x0 && ly0 <= y1 && ly1 >= y0 && lz0 <= z1 && lz1 >= z0  )\n",
    "            |> Seq.map ( fun (lx0, lx1, ly0, ly1, lz0, lz1, lsign ) ->\n",
    "                (\n",
    "                    Math.Max(x0, lx0),\n",
    "                    Math.Min(x1, lx1),\n",
    "                    Math.Max(y0, ly0),\n",
    "                    Math.Min(y1, ly1),\n",
    "                    Math.Max(z0, lz0),\n",
    "                    Math.Min(z1, lz1),\n",
    "                    -lsign\n",
    "                )\n",
    "            )\n",
    "            |> Seq.append cubes\n",
    "            |> Seq.append ( if add then [ (x0, x1, y0, y1, z0, z1, 1)] else [] )\n",
    "            |> Seq.cache\n",
    "        )\n",
    "        []\n",
    "    |> Seq.map ( fun (lx0, lx1, ly0, ly1, lz0, lz1, lsign ) -> int64( int64(lx1-lx0+1)*int64(ly1-ly0+1)*int64(lz1-lz0+1)*int64(lsign) ) )\n",
    "    |> Seq.sum\n",
    "\n",
    "testInput |> parse |> drawStep2fast true "
   ]
  },
  {
   "cell_type": "code",
   "execution_count": null,
   "metadata": {
    "dotnet_interactive": {
     "language": "fsharp"
    }
   },
   "outputs": [
    {
     "data": {
      "text/html": [
       "<div class=\"dni-plaintext\">590784</div>"
      ]
     },
     "metadata": {},
     "output_type": "display_data"
    }
   ],
   "source": [
    "testInput2 |> parse |> drawStep2fast true // 590784"
   ]
  },
  {
   "cell_type": "code",
   "execution_count": null,
   "metadata": {
    "dotnet_interactive": {
     "language": "fsharp"
    }
   },
   "outputs": [
    {
     "data": {
      "text/html": [
       "<div class=\"dni-plaintext\">2758514936282235</div>"
      ]
     },
     "metadata": {},
     "output_type": "display_data"
    }
   ],
   "source": [
    "testInput3 |> parse |> drawStep2fast false  // 2758514936282235"
   ]
  },
  {
   "cell_type": "code",
   "execution_count": null,
   "metadata": {
    "dotnet_interactive": {
     "language": "fsharp"
    }
   },
   "outputs": [
    {
     "data": {
      "text/html": [
       "<div class=\"dni-plaintext\">1235164413198198</div>"
      ]
     },
     "metadata": {},
     "output_type": "display_data"
    }
   ],
   "source": [
    "task |> parse |> drawStep2fast false  // 1235164413198198"
   ]
  }
 ],
 "metadata": {
  "kernelspec": {
   "display_name": ".NET (F#)",
   "language": "F#",
   "name": ".net-fsharp"
  },
  "language_info": {
   "name": "F#"
  }
 },
 "nbformat": 4,
 "nbformat_minor": 2
}
