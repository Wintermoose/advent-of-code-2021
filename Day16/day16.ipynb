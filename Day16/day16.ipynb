{
 "cells": [
  {
   "cell_type": "markdown",
   "metadata": {},
   "source": [
    "--- Day 16: Packet Decoder ---\n",
    "\n",
    "As you leave the cave and reach open waters, you receive a transmission from the Elves back on the ship.\n",
    "\n",
    "The transmission was sent using the Buoyancy Interchange Transmission System (BITS), a method of packing numeric expressions into a binary sequence. Your submarine's computer has saved the transmission in hexadecimal (your puzzle input).\n",
    "\n",
    "The first step of decoding the message is to convert the hexadecimal representation into binary. Each character of hexadecimal corresponds to four bits of binary data:\n",
    "\n",
    "```\n",
    "0 = 0000\n",
    "1 = 0001\n",
    "2 = 0010\n",
    "3 = 0011\n",
    "4 = 0100\n",
    "5 = 0101\n",
    "6 = 0110\n",
    "7 = 0111\n",
    "8 = 1000\n",
    "9 = 1001\n",
    "A = 1010\n",
    "B = 1011\n",
    "C = 1100\n",
    "D = 1101\n",
    "E = 1110\n",
    "F = 1111\n",
    "```\n",
    "\n",
    "The BITS transmission contains a single packet at its outermost layer which itself contains many other packets. The hexadecimal representation of this packet might encode a few extra 0 bits at the end; these are not part of the transmission and should be ignored.\n",
    "\n",
    "Every packet begins with a standard header: the first three bits encode the packet version, and the next three bits encode the packet type ID. These two values are numbers; all numbers encoded in any packet are represented as binary with the most significant bit first. For example, a version encoded as the binary sequence 100 represents the number 4.\n",
    "\n",
    "Packets with type ID 4 represent a literal value. Literal value packets encode a single binary number. To do this, the binary number is padded with leading zeroes until its length is a multiple of four bits, and then it is broken into groups of four bits. Each group is prefixed by a 1 bit except the last group, which is prefixed by a 0 bit. These groups of five bits immediately follow the packet header. For example, the hexadecimal string D2FE28 becomes:\n",
    "\n",
    "```\n",
    "110100101111111000101000\n",
    "VVVTTTAAAAABBBBBCCCCC\n",
    "```\n",
    "\n",
    "Below each bit is a label indicating its purpose:\n",
    "\n",
    "-    The three bits labeled V (110) are the packet version, 6.\n",
    "-    The three bits labeled T (100) are the packet type ID, 4, which means the packet is a literal value.\n",
    "-    The five bits labeled A (10111) start with a 1 (not the last group, keep reading) and contain the first four bits of the number, 0111.\n",
    "-    The five bits labeled B (11110) start with a 1 (not the last group, keep reading) and contain four more bits of the number, 1110.\n",
    "-    The five bits labeled C (00101) start with a 0 (last group, end of packet) and contain the last four bits of the number, 0101.\n",
    "-    The three unlabeled 0 bits at the end are extra due to the hexadecimal representation and should be ignored.\n",
    "\n",
    "So, this packet represents a literal value with binary representation 011111100101, which is 2021 in decimal.\n",
    "\n",
    "Every other type of packet (any packet with a type ID other than 4) represent an operator that performs some calculation on one or more sub-packets contained within. Right now, the specific operations aren't important; focus on parsing the hierarchy of sub-packets.\n",
    "\n",
    "An operator packet contains one or more packets. To indicate which subsequent binary data represents its sub-packets, an operator packet can use one of two modes indicated by the bit immediately after the packet header; this is called the length type ID:\n",
    "\n",
    "-    If the length type ID is 0, then the next 15 bits are a number that represents the total length in bits of the sub-packets contained by this packet.\n",
    "-    If the length type ID is 1, then the next 11 bits are a number that represents the number of sub-packets immediately contained by this packet.\n",
    "\n",
    "Finally, after the length type ID bit and the 15-bit or 11-bit field, the sub-packets appear.\n",
    "\n",
    "For example, here is an operator packet (hexadecimal string 38006F45291200) with length type ID 0 that contains two sub-packets:\n",
    "\n",
    "```\n",
    "00111000000000000110111101000101001010010001001000000000\n",
    "VVVTTTILLLLLLLLLLLLLLLAAAAAAAAAAABBBBBBBBBBBBBBBB\n",
    "```\n",
    "\n",
    "-    The three bits labeled V (001) are the packet version, 1.\n",
    "-    The three bits labeled T (110) are the packet type ID, 6, which means the packet is an operator.\n",
    "-    The bit labeled I (0) is the length type ID, which indicates that the length is a 15-bit number representing the number of bits in the sub-packets.\n",
    "-    The 15 bits labeled L (000000000011011) contain the length of the sub-packets in bits, 27.\n",
    "-    The 11 bits labeled A contain the first sub-packet, a literal value representing the number 10.\n",
    "-    The 16 bits labeled B contain the second sub-packet, a literal value representing the number 20.\n",
    "\n",
    "After reading 11 and 16 bits of sub-packet data, the total length indicated in L (27) is reached, and so parsing of this packet stops.\n",
    "\n",
    "As another example, here is an operator packet (hexadecimal string EE00D40C823060) with length type ID 1 that contains three sub-packets:\n",
    "\n",
    "```\n",
    "11101110000000001101010000001100100000100011000001100000\n",
    "VVVTTTILLLLLLLLLLLAAAAAAAAAAABBBBBBBBBBBCCCCCCCCCCC\n",
    "```\n",
    "\n",
    "-    The three bits labeled V (111) are the packet version, 7.\n",
    "-    The three bits labeled T (011) are the packet type ID, 3, which means the packet is an operator.\n",
    "-    The bit labeled I (1) is the length type ID, which indicates that the length is a 11-bit number representing the number of sub-packets.\n",
    "-    The 11 bits labeled L (00000000011) contain the number of sub-packets, 3.\n",
    "-    The 11 bits labeled A contain the first sub-packet, a literal value representing the number 1.\n",
    "-    The 11 bits labeled B contain the second sub-packet, a literal value representing the number 2.\n",
    "-    The 11 bits labeled C contain the third sub-packet, a literal value representing the number 3.\n",
    "\n",
    "After reading 3 complete sub-packets, the number of sub-packets indicated in L (3) is reached, and so parsing of this packet stops.\n",
    "\n",
    "For now, parse the hierarchy of the packets throughout the transmission and add up all of the version numbers.\n",
    "\n",
    "Here are a few more examples of hexadecimal-encoded transmissions:\n",
    "\n",
    "-    8A004A801A8002F478 represents an operator packet (version 4) which contains an operator packet (version 1) which contains an operator packet (version 5) which contains a literal value (version 6); this packet has a version sum of 16.\n",
    "-    620080001611562C8802118E34 represents an operator packet (version 3) which contains two sub-packets; each sub-packet is an operator packet that contains two literal values. This packet has a version sum of 12.\n",
    "-    C0015000016115A2E0802F182340 has the same structure as the previous example, but the outermost packet uses a different length type ID. This packet has a version sum of 23.\n",
    "-    A0016C880162017C3686B18A3D4780 is an operator packet that contains an operator packet that contains an operator packet that contains five literal values; it has a version sum of 31.\n",
    "\n",
    "Decode the structure of your hexadecimal-encoded BITS transmission; what do you get if you add up the version numbers in all packets?\n"
   ]
  },
  {
   "cell_type": "code",
   "execution_count": null,
   "metadata": {
    "dotnet_interactive": {
     "language": "fsharp"
    }
   },
   "outputs": [],
   "source": [
    "type Packet = {\n",
    "    Version: int;\n",
    "    Type: int;\n",
    "    Value:  int64;\n",
    "    Subpackets: array<Packet>;\n",
    "    Size: int;\n",
    "}"
   ]
  },
  {
   "cell_type": "code",
   "execution_count": null,
   "metadata": {
    "dotnet_interactive": {
     "language": "fsharp"
    }
   },
   "outputs": [
    {
     "data": {
      "text/html": [
       "<table><thead><tr><th><i>index</i></th><th>value</th></tr></thead><tbody><tr><td>0</td><td><div class=\"dni-plaintext\">1</div></td></tr><tr><td>1</td><td><div class=\"dni-plaintext\">1</div></td></tr><tr><td>2</td><td><div class=\"dni-plaintext\">0</div></td></tr><tr><td>3</td><td><div class=\"dni-plaintext\">1</div></td></tr><tr><td>4</td><td><div class=\"dni-plaintext\">0</div></td></tr><tr><td>5</td><td><div class=\"dni-plaintext\">0</div></td></tr><tr><td>6</td><td><div class=\"dni-plaintext\">1</div></td></tr><tr><td>7</td><td><div class=\"dni-plaintext\">0</div></td></tr><tr><td>8</td><td><div class=\"dni-plaintext\">1</div></td></tr><tr><td>9</td><td><div class=\"dni-plaintext\">1</div></td></tr><tr><td>10</td><td><div class=\"dni-plaintext\">1</div></td></tr><tr><td>11</td><td><div class=\"dni-plaintext\">1</div></td></tr><tr><td>12</td><td><div class=\"dni-plaintext\">1</div></td></tr><tr><td>13</td><td><div class=\"dni-plaintext\">1</div></td></tr><tr><td>14</td><td><div class=\"dni-plaintext\">1</div></td></tr><tr><td>15</td><td><div class=\"dni-plaintext\">0</div></td></tr><tr><td>16</td><td><div class=\"dni-plaintext\">0</div></td></tr><tr><td>17</td><td><div class=\"dni-plaintext\">0</div></td></tr><tr><td>18</td><td><div class=\"dni-plaintext\">1</div></td></tr><tr><td>19</td><td><div class=\"dni-plaintext\">0</div></td></tr><tr><td colspan=\"2\"><i>(4 more)</i></td></tr></tbody></table>"
      ]
     },
     "metadata": {},
     "output_type": "display_data"
    }
   ],
   "source": [
    "let asBitStream (input:string) =\n",
    "    input.Replace(\"\\r\", \"\").Replace(\"\\n\", \"\")\n",
    "    |> Seq.map ( fun ch ->\n",
    "        let v = match ch with\n",
    "                | '0' | '1' | '2' | '3' | '4' | '5' | '6' | '7' | '8' | '9' -> int(ch) - 48\n",
    "                | 'A' | 'B' | 'C' | 'D' | 'E' | 'F' -> 10 + int(ch) - 65\n",
    "                | ' ' -> -1\n",
    "                | token -> failwithf \"Unexpected input %c\" token\n",
    "        if v >= 0 then\n",
    "            seq {\n",
    "                yield (v>>>3) &&& 1\n",
    "                yield (v>>>2) &&& 1\n",
    "                yield (v>>>1) &&& 1\n",
    "                yield (v>>>0) &&& 1\n",
    "            }\n",
    "        else \n",
    "            Seq.empty\n",
    "    )\n",
    "    |> Seq.concat\n",
    "    |> Array.ofSeq\n",
    "\n",
    "\"D2FE28\" |> asBitStream"
   ]
  },
  {
   "cell_type": "code",
   "execution_count": null,
   "metadata": {
    "dotnet_interactive": {
     "language": "fsharp"
    }
   },
   "outputs": [],
   "source": [
    "let readBits (bits:int) (input: int[]) =\n",
    "    let mutable result = 0\n",
    "    for i=0 to (bits-1) do\n",
    "        result <- result * 2 + input[i]\n",
    "    result"
   ]
  },
  {
   "cell_type": "code",
   "execution_count": null,
   "metadata": {
    "dotnet_interactive": {
     "language": "fsharp"
    }
   },
   "outputs": [
    {
     "data": {
      "text/html": [
       "<div class=\"dni-plaintext\">6</div>"
      ]
     },
     "metadata": {},
     "output_type": "display_data"
    }
   ],
   "source": [
    "\"D2FE28\" |> asBitStream |> readBits 3"
   ]
  },
  {
   "cell_type": "code",
   "execution_count": null,
   "metadata": {
    "dotnet_interactive": {
     "language": "fsharp"
    }
   },
   "outputs": [
    {
     "data": {
      "text/html": [
       "<table><thead><tr><th>Item1</th><th>Item2</th></tr></thead><tbody><tr><td><div class=\"dni-plaintext\">2021</div></td><td><div class=\"dni-plaintext\">15</div></td></tr></tbody></table>"
      ]
     },
     "metadata": {},
     "output_type": "display_data"
    }
   ],
   "source": [
    "let parseLiteral (input: int[]) =\n",
    "    let mutable result = 0L\n",
    "    let mutable size = 0\n",
    "    let mutable last = false\n",
    "    while not last do\n",
    "        let marker = input[size]\n",
    "        last <- if marker=1 then false else true\n",
    "        let part = readBits 4 input[size+1..]\n",
    "        size <- size + 5\n",
    "        result <- result * 16L + int64(part)\n",
    "    (result, size)\n",
    "\n",
    "\"D2FE28\" |> asBitStream |> (fun f -> parseLiteral f[6..])"
   ]
  },
  {
   "cell_type": "code",
   "execution_count": null,
   "metadata": {
    "dotnet_interactive": {
     "language": "fsharp"
    }
   },
   "outputs": [
    {
     "data": {
      "text/html": [
       "<table><thead><tr><th>Version</th><th>Type</th><th>Value</th><th>Subpackets</th><th>Size</th></tr></thead><tbody><tr><td><div class=\"dni-plaintext\">6</div></td><td><div class=\"dni-plaintext\">4</div></td><td><div class=\"dni-plaintext\">2021</div></td><td><div class=\"dni-plaintext\">[  ]</div></td><td><div class=\"dni-plaintext\">21</div></td></tr></tbody></table>"
      ]
     },
     "metadata": {},
     "output_type": "display_data"
    }
   ],
   "source": [
    "let rec parseBitStream (input: int[]) =\n",
    "    let version = readBits 3 input\n",
    "    let packetType = readBits 3 input[3..]\n",
    "    if packetType = 4 then \n",
    "        let (literal, size) = parseLiteral input[6..]\n",
    "        {\n",
    "            Version = int version;\n",
    "            Type = int packetType;\n",
    "            Size = size + 6;\n",
    "            Value = literal;\n",
    "            Subpackets = Array.empty;\n",
    "        }\n",
    "    else\n",
    "        let id = input[6]\n",
    "        let mutable size = 7\n",
    "        let mutable subpackets = Array.empty\n",
    "        if id = 1 then\n",
    "            let count = readBits 11 input[7..]\n",
    "            size <- size + 11\n",
    "            subpackets <- seq {\n",
    "                for i=1 to count do \n",
    "                    let subpacket = parseBitStream input[size..]\n",
    "                    // printfn \"%A\" subpacket\n",
    "                    size <- size + subpacket.Size\n",
    "                    yield subpacket\n",
    "            }\n",
    "            |> Array.ofSeq\n",
    "        else\n",
    "            let mutable paramSize = readBits 15 input[7..]\n",
    "            size <- size + 15\n",
    "            subpackets <- seq {\n",
    "                while paramSize>0 do\n",
    "                    let subpacket = parseBitStream input[size..]\n",
    "                    paramSize <- paramSize - subpacket.Size\n",
    "                    size <- size + subpacket.Size\n",
    "                    // printfn \"%A\" subpacket\n",
    "                    yield subpacket\n",
    "            }\n",
    "            |> Array.ofSeq\n",
    "\n",
    "        {\n",
    "            Version = int version;\n",
    "            Type = int packetType;\n",
    "            Size = size;\n",
    "            Value = 0;\n",
    "            Subpackets = subpackets\n",
    "            }\n",
    "\n",
    "\"D2FE28\" |> asBitStream |> parseBitStream"
   ]
  },
  {
   "cell_type": "code",
   "execution_count": null,
   "metadata": {
    "dotnet_interactive": {
     "language": "fsharp"
    }
   },
   "outputs": [
    {
     "data": {
      "text/html": [
       "<table><thead><tr><th>Version</th><th>Type</th><th>Value</th><th>Subpackets</th><th>Size</th></tr></thead><tbody><tr><td><div class=\"dni-plaintext\">1</div></td><td><div class=\"dni-plaintext\">6</div></td><td><div class=\"dni-plaintext\">0</div></td><td><div class=\"dni-plaintext\">[ { { Version = 6\n",
       "  Type = 4\n",
       "  Value = 10L\n",
       "  Subpackets = [||]\n",
       "  Size = 11 }: Version: 6, Type: 4, Value: 10, Subpackets: [  ], Size: 11 }, { { Version = 2\n",
       "  Type = 4\n",
       "  Value = 20L\n",
       "  Subpackets = [||]\n",
       "  Size = 16 }: Version: 2, Type: 4, Value: 20, Subpackets: [  ], Size: 16 } ]</div></td><td><div class=\"dni-plaintext\">49</div></td></tr></tbody></table>"
      ]
     },
     "metadata": {},
     "output_type": "display_data"
    }
   ],
   "source": [
    "\"38006F45291200\" |> asBitStream |> parseBitStream"
   ]
  },
  {
   "cell_type": "code",
   "execution_count": null,
   "metadata": {
    "dotnet_interactive": {
     "language": "fsharp"
    }
   },
   "outputs": [
    {
     "data": {
      "text/html": [
       "<table><thead><tr><th>Version</th><th>Type</th><th>Value</th><th>Subpackets</th><th>Size</th></tr></thead><tbody><tr><td><div class=\"dni-plaintext\">7</div></td><td><div class=\"dni-plaintext\">3</div></td><td><div class=\"dni-plaintext\">0</div></td><td><div class=\"dni-plaintext\">[ { { Version = 2\n",
       "  Type = 4\n",
       "  Value = 1L\n",
       "  Subpackets = [||]\n",
       "  Size = 11 }: Version: 2, Type: 4, Value: 1, Subpackets: [  ], Size: 11 }, { { Version = 4\n",
       "  Type = 4\n",
       "  Value = 2L\n",
       "  Subpackets = [||]\n",
       "  Size = 11 }: Version: 4, Type: 4, Value: 2, Subpackets: [  ], Size: 11 }, { { Version = 1\n",
       "  Type = 4\n",
       "  Value = 3L\n",
       "  Subpackets = [||]\n",
       "  Size = 11 }: Version: 1, Type: 4, Value: 3, Subpackets: [  ], Size: 11 } ]</div></td><td><div class=\"dni-plaintext\">51</div></td></tr></tbody></table>"
      ]
     },
     "metadata": {},
     "output_type": "display_data"
    }
   ],
   "source": [
    "\"EE00D40C823060\" |> asBitStream |> parseBitStream"
   ]
  },
  {
   "cell_type": "code",
   "execution_count": null,
   "metadata": {
    "dotnet_interactive": {
     "language": "fsharp"
    }
   },
   "outputs": [
    {
     "data": {
      "text/html": [
       "<table><thead><tr><th>Version</th><th>Type</th><th>Value</th><th>Subpackets</th><th>Size</th></tr></thead><tbody><tr><td><div class=\"dni-plaintext\">4</div></td><td><div class=\"dni-plaintext\">2</div></td><td><div class=\"dni-plaintext\">0</div></td><td><div class=\"dni-plaintext\">[ { { Version = 1\n",
       "  Type = 2\n",
       "  Value = 0L\n",
       "  Subpackets = [|{ Version = 5\n",
       "                   Type = 2\n",
       "                   Value = 0L\n",
       "                   Subpackets = [|{ Version = 6\n",
       "                                    Type = 4\n",
       "                                    Value = 15L\n",
       "                                    Subpackets = [||]\n",
       "                                    Size = 11 }|]\n",
       "                   Size = 33 }|]\n",
       "  Size = 51 }: Version: 1, Type: 2, Value: 0, Subpackets: [ { { Version = 5\n",
       "  Type = 2\n",
       "  Value = 0L\n",
       "  Subpackets = [|{ Version = 6\n",
       "                   Type = 4\n",
       "                   Value = 15L\n",
       "                   Subpackets = [||]\n",
       "                   Size = 11 }|]\n",
       "  Size = 33 }: Version: 5, Type: 2, Value: 0, Subpackets: [ { { Version = 6\n",
       "  Type = 4\n",
       "  Value = 15L\n",
       "  Subpackets = [||]\n",
       "  Size = 11 }: Version: 6, Type: 4, Value: 15, Subpackets: [  ], Size: 11 } ], Size: 33 } ], Size: 51 } ]</div></td><td><div class=\"dni-plaintext\">69</div></td></tr></tbody></table>"
      ]
     },
     "metadata": {},
     "output_type": "display_data"
    }
   ],
   "source": [
    "\"8A004A801A8002F478\" |> asBitStream |> parseBitStream"
   ]
  },
  {
   "cell_type": "code",
   "execution_count": null,
   "metadata": {
    "dotnet_interactive": {
     "language": "fsharp"
    }
   },
   "outputs": [
    {
     "data": {
      "text/html": [
       "<div class=\"dni-plaintext\">16</div>"
      ]
     },
     "metadata": {},
     "output_type": "display_data"
    }
   ],
   "source": [
    "let rec sumVersions (packet: Packet) =\n",
    "    packet.Version + (packet.Subpackets |> Seq.sumBy sumVersions)\n",
    "\n",
    "\"8A004A801A8002F478\" |> asBitStream |> parseBitStream |> sumVersions"
   ]
  },
  {
   "cell_type": "code",
   "execution_count": null,
   "metadata": {
    "dotnet_interactive": {
     "language": "fsharp"
    }
   },
   "outputs": [
    {
     "data": {
      "text/html": [
       "<div class=\"dni-plaintext\">12</div>"
      ]
     },
     "metadata": {},
     "output_type": "display_data"
    }
   ],
   "source": [
    "\"620080001611562C8802118E34\" |> asBitStream |> parseBitStream |> sumVersions"
   ]
  },
  {
   "cell_type": "code",
   "execution_count": null,
   "metadata": {
    "dotnet_interactive": {
     "language": "fsharp"
    }
   },
   "outputs": [
    {
     "data": {
      "text/html": [
       "<div class=\"dni-plaintext\">23</div>"
      ]
     },
     "metadata": {},
     "output_type": "display_data"
    }
   ],
   "source": [
    "\"C0015000016115A2E0802F182340\" |> asBitStream |> parseBitStream |> sumVersions"
   ]
  },
  {
   "cell_type": "code",
   "execution_count": null,
   "metadata": {
    "dotnet_interactive": {
     "language": "fsharp"
    }
   },
   "outputs": [
    {
     "data": {
      "text/html": [
       "<div class=\"dni-plaintext\">31</div>"
      ]
     },
     "metadata": {},
     "output_type": "display_data"
    }
   ],
   "source": [
    "\"A0016C880162017C3686B18A3D4780\" |> asBitStream |> parseBitStream |> sumVersions"
   ]
  },
  {
   "cell_type": "code",
   "execution_count": null,
   "metadata": {
    "dotnet_interactive": {
     "language": "fsharp"
    }
   },
   "outputs": [
    {
     "data": {
      "text/html": [
       "<div class=\"dni-plaintext\">906</div>"
      ]
     },
     "metadata": {},
     "output_type": "display_data"
    }
   ],
   "source": [
    "let task = System.IO.File.ReadAllText \"task.txt\"\n",
    "task |> asBitStream |> parseBitStream |> sumVersions"
   ]
  },
  {
   "cell_type": "markdown",
   "metadata": {},
   "source": [
    "--- Part Two ---\n",
    "\n",
    "Now that you have the structure of your transmission decoded, you can calculate the value of the expression it represents.\n",
    "\n",
    "Literal values (type ID 4) represent a single number as described above. The remaining type IDs are more interesting:\n",
    "\n",
    "-    Packets with type ID 0 are sum packets - their value is the sum of the values of their sub-packets. If they only have a single sub-packet, their value is the value of the sub-packet.\n",
    "-    Packets with type ID 1 are product packets - their value is the result of multiplying together the values of their sub-packets. If they only have a single sub-packet, their value is the value of the sub-packet.\n",
    "-    Packets with type ID 2 are minimum packets - their value is the minimum of the values of their sub-packets.\n",
    "-    Packets with type ID 3 are maximum packets - their value is the maximum of the values of their sub-packets.\n",
    "-    Packets with type ID 5 are greater than packets - their value is 1 if the value of the first sub-packet is greater than the value of the second sub-packet; otherwise, their value is 0. These packets always have exactly two sub-packets.\n",
    "-    Packets with type ID 6 are less than packets - their value is 1 if the value of the first sub-packet is less than the value of the second sub-packet; otherwise, their value is 0. These packets always have exactly two sub-packets.\n",
    "-    Packets with type ID 7 are equal to packets - their value is 1 if the value of the first sub-packet is equal to the value of the second sub-packet; otherwise, their value is 0. These packets always have exactly two sub-packets.\n",
    "\n",
    "Using these rules, you can now work out the value of the outermost packet in your BITS transmission.\n",
    "\n",
    "For example:\n",
    "\n",
    "-    C200B40A82 finds the sum of 1 and 2, resulting in the value 3.\n",
    "-    04005AC33890 finds the product of 6 and 9, resulting in the value 54.\n",
    "-    880086C3E88112 finds the minimum of 7, 8, and 9, resulting in the value 7.\n",
    "-    CE00C43D881120 finds the maximum of 7, 8, and 9, resulting in the value 9.\n",
    "-    D8005AC2A8F0 produces 1, because 5 is less than 15.\n",
    "-    F600BC2D8F produces 0, because 5 is not greater than 15.\n",
    "-    9C005AC2F8F0 produces 0, because 5 is not equal to 15.\n",
    "-    9C0141080250320F1802104A08 produces 1, because 1 + 3 = 2 * 2.\n",
    "\n",
    "What do you get if you evaluate the expression represented by your hexadecimal-encoded BITS transmission?\n"
   ]
  },
  {
   "cell_type": "code",
   "execution_count": null,
   "metadata": {
    "dotnet_interactive": {
     "language": "fsharp"
    }
   },
   "outputs": [
    {
     "data": {
      "text/html": [
       "<div class=\"dni-plaintext\">3</div>"
      ]
     },
     "metadata": {},
     "output_type": "display_data"
    }
   ],
   "source": [
    "let rec evaluate (input: Packet) = \n",
    "    match input.Type with\n",
    "    | 0 -> input.Subpackets |> Seq.sumBy evaluate\n",
    "    | 1 -> input.Subpackets |> Seq.map evaluate |> Seq.reduce (*)\n",
    "    | 2 -> input.Subpackets |> Seq.map evaluate |> Seq.min\n",
    "    | 3 -> input.Subpackets |> Seq.map evaluate |> Seq.max\n",
    "    | 4 -> input.Value\n",
    "    | 5 -> if (evaluate input.Subpackets[0] ) > (evaluate input.Subpackets[1]) then 1 else 0\n",
    "    | 6 -> if (evaluate input.Subpackets[0] ) < (evaluate input.Subpackets[1]) then 1 else 0\n",
    "    | 7 -> if (evaluate input.Subpackets[0] ) = (evaluate input.Subpackets[1]) then 1 else 0\n",
    "    | _ -> failwithf \"Unexpected packet %A\" input\n",
    "\n",
    "\"C200B40A82\" |> asBitStream |> parseBitStream |> evaluate  // expect 3"
   ]
  },
  {
   "cell_type": "code",
   "execution_count": null,
   "metadata": {
    "dotnet_interactive": {
     "language": "fsharp"
    }
   },
   "outputs": [
    {
     "data": {
      "text/html": [
       "<div class=\"dni-plaintext\">54</div>"
      ]
     },
     "metadata": {},
     "output_type": "display_data"
    }
   ],
   "source": [
    "\"04005AC33890\" |> asBitStream |> parseBitStream |> evaluate  // expect 54"
   ]
  },
  {
   "cell_type": "code",
   "execution_count": null,
   "metadata": {
    "dotnet_interactive": {
     "language": "fsharp"
    }
   },
   "outputs": [
    {
     "data": {
      "text/html": [
       "<div class=\"dni-plaintext\">7</div>"
      ]
     },
     "metadata": {},
     "output_type": "display_data"
    }
   ],
   "source": [
    "\"880086C3E88112\" |> asBitStream |> parseBitStream |> evaluate  // expect 7"
   ]
  },
  {
   "cell_type": "code",
   "execution_count": null,
   "metadata": {
    "dotnet_interactive": {
     "language": "fsharp"
    }
   },
   "outputs": [
    {
     "data": {
      "text/html": [
       "<div class=\"dni-plaintext\">9</div>"
      ]
     },
     "metadata": {},
     "output_type": "display_data"
    }
   ],
   "source": [
    "\"CE00C43D881120\" |> asBitStream |> parseBitStream |> evaluate  // expect 9"
   ]
  },
  {
   "cell_type": "code",
   "execution_count": null,
   "metadata": {
    "dotnet_interactive": {
     "language": "fsharp"
    }
   },
   "outputs": [
    {
     "data": {
      "text/html": [
       "<div class=\"dni-plaintext\">1</div>"
      ]
     },
     "metadata": {},
     "output_type": "display_data"
    }
   ],
   "source": [
    "\"D8005AC2A8F0\" |> asBitStream |> parseBitStream |> evaluate  // expect 1"
   ]
  },
  {
   "cell_type": "code",
   "execution_count": null,
   "metadata": {
    "dotnet_interactive": {
     "language": "fsharp"
    }
   },
   "outputs": [
    {
     "data": {
      "text/html": [
       "<div class=\"dni-plaintext\">0</div>"
      ]
     },
     "metadata": {},
     "output_type": "display_data"
    }
   ],
   "source": [
    "\"F600BC2D8F\" |> asBitStream |> parseBitStream |> evaluate  // expect 0"
   ]
  },
  {
   "cell_type": "code",
   "execution_count": null,
   "metadata": {
    "dotnet_interactive": {
     "language": "fsharp"
    }
   },
   "outputs": [
    {
     "data": {
      "text/html": [
       "<div class=\"dni-plaintext\">0</div>"
      ]
     },
     "metadata": {},
     "output_type": "display_data"
    }
   ],
   "source": [
    "\"9C005AC2F8F0\" |> asBitStream |> parseBitStream |> evaluate  // expect 0"
   ]
  },
  {
   "cell_type": "code",
   "execution_count": null,
   "metadata": {
    "dotnet_interactive": {
     "language": "fsharp"
    }
   },
   "outputs": [
    {
     "data": {
      "text/html": [
       "<div class=\"dni-plaintext\">1</div>"
      ]
     },
     "metadata": {},
     "output_type": "display_data"
    }
   ],
   "source": [
    "\"9C0141080250320F1802104A08\" |> asBitStream |> parseBitStream |> evaluate  // expect 1"
   ]
  },
  {
   "cell_type": "code",
   "execution_count": null,
   "metadata": {
    "dotnet_interactive": {
     "language": "fsharp"
    }
   },
   "outputs": [
    {
     "data": {
      "text/html": [
       "<div class=\"dni-plaintext\">819324480368</div>"
      ]
     },
     "metadata": {},
     "output_type": "display_data"
    }
   ],
   "source": [
    "task |> asBitStream |> parseBitStream |> evaluate  "
   ]
  }
 ],
 "metadata": {
  "kernelspec": {
   "display_name": ".NET (F#)",
   "language": "F#",
   "name": ".net-fsharp"
  },
  "language_info": {
   "name": "F#"
  }
 },
 "nbformat": 4,
 "nbformat_minor": 2
}
