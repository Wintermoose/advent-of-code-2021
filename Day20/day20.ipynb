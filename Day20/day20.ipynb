{
 "cells": [
  {
   "cell_type": "markdown",
   "metadata": {},
   "source": [
    "--- Day 20: Trench Map ---\n",
    "\n",
    "With the scanners fully deployed, you turn their attention to mapping the floor of the ocean trench.\n",
    "\n",
    "When you get back the image from the scanners, it seems to just be random noise. Perhaps you can combine an image enhancement algorithm and the input image (your puzzle input) to clean it up a little.\n",
    "\n",
    "For example:\n",
    "\n",
    "```\n",
    "..#.#..#####.#.#.#.###.##.....###.##.#..###.####..#####..#....#..#..##..##\n",
    "#..######.###...####..#..#####..##..#.#####...##.#.#..#.##..#.#......#.###\n",
    ".######.###.####...#.##.##..#..#..#####.....#.#....###..#.##......#.....#.\n",
    ".#..#..##..#...##.######.####.####.#.#...#.......#..#.#.#...####.##.#.....\n",
    ".#..#...##.#.##..#...##.#.##..###.#......#.#.......#.#.#.####.###.##...#..\n",
    "...####.#..#..#.##.#....##..#.####....##...##..#...#......#.#.......#.....\n",
    "..##..####..#...#.#.#...##..#.#..###..#####........#..####......#..#\n",
    "```\n",
    "\n",
    "```\n",
    "#..#.\n",
    "#....\n",
    "##..#\n",
    "..#..\n",
    "..###\n",
    "```\n",
    "\n",
    "The first section is the image enhancement algorithm. It is normally given on a single line, but it has been wrapped to multiple lines in this example for legibility. The second section is the input image, a two-dimensional grid of light pixels (#) and dark pixels (.).\n",
    "\n",
    "The image enhancement algorithm describes how to enhance an image by simultaneously converting all pixels in the input image into an output image. Each pixel of the output image is determined by looking at a 3x3 square of pixels centered on the corresponding input image pixel. So, to determine the value of the pixel at (5,10) in the output image, nine pixels from the input image need to be considered: (4,9), (4,10), (4,11), (5,9), (5,10), (5,11), (6,9), (6,10), and (6,11). These nine input pixels are combined into a single binary number that is used as an index in the image enhancement algorithm string.\n",
    "\n",
    "For example, to determine the output pixel that corresponds to the very middle pixel of the input image, the nine pixels marked by [...] would need to be considered:\n",
    "\n",
    "```\n",
    "# . . # .\n",
    "#[. . .].\n",
    "#[# . .]#\n",
    ".[. # .].\n",
    ". . # # #\n",
    "```\n",
    "\n",
    "Starting from the top-left and reading across each row, these pixels are ..., then #.., then .#.; combining these forms ...#...#.. By turning dark pixels (.) into 0 and light pixels (#) into 1, the binary number 000100010 can be formed, which is 34 in decimal.\n",
    "\n",
    "The image enhancement algorithm string is exactly 512 characters long, enough to match every possible 9-bit binary number. The first few characters of the string (numbered starting from zero) are as follows:\n",
    "\n",
    "```\n",
    "0         10        20        30  34    40        50        60        70\n",
    "|         |         |         |   |     |         |         |         |\n",
    "..#.#..#####.#.#.#.###.##.....###.##.#..###.####..#####..#....#..#..##..##\n",
    "```\n",
    "\n",
    "In the middle of this first group of characters, the character at index 34 can be found: #. So, the output pixel in the center of the output image should be #, a light pixel.\n",
    "\n",
    "This process can then be repeated to calculate every pixel of the output image.\n",
    "\n",
    "Through advances in imaging technology, the images being operated on here are infinite in size. Every pixel of the infinite output image needs to be calculated exactly based on the relevant pixels of the input image. The small input image you have is only a small region of the actual infinite input image; the rest of the input image consists of dark pixels (.). For the purposes of the example, to save on space, only a portion of the infinite-sized input and output images will be shown.\n",
    "\n",
    "The starting input image, therefore, looks something like this, with more dark pixels (.) extending forever in every direction not shown here:\n",
    "\n",
    "```\n",
    "...............\n",
    "...............\n",
    "...............\n",
    "...............\n",
    "...............\n",
    ".....#..#......\n",
    ".....#.........\n",
    ".....##..#.....\n",
    ".......#.......\n",
    ".......###.....\n",
    "...............\n",
    "...............\n",
    "...............\n",
    "...............\n",
    "...............\n",
    "```\n",
    "\n",
    "By applying the image enhancement algorithm to every pixel simultaneously, the following output image can be obtained:\n",
    "\n",
    "```\n",
    "...............\n",
    "...............\n",
    "...............\n",
    "...............\n",
    ".....##.##.....\n",
    "....#..#.#.....\n",
    "....##.#..#....\n",
    "....####..#....\n",
    ".....#..##.....\n",
    "......##..#....\n",
    ".......#.#.....\n",
    "...............\n",
    "...............\n",
    "...............\n",
    "...............\n",
    "```\n",
    "\n",
    "Through further advances in imaging technology, the above output image can also be used as an input image! This allows it to be enhanced a second time:\n",
    "\n",
    "```\n",
    "...............\n",
    "...............\n",
    "...............\n",
    "..........#....\n",
    "....#..#.#.....\n",
    "...#.#...###...\n",
    "...#...##.#....\n",
    "...#.....#.#...\n",
    "....#.#####....\n",
    ".....#.#####...\n",
    "......##.##....\n",
    ".......###.....\n",
    "...............\n",
    "...............\n",
    "...............\n",
    "```\n",
    "\n",
    "Truly incredible - now the small details are really starting to come through. After enhancing the original input image twice, 35 pixels are lit.\n",
    "\n",
    "Start with the original input image and apply the image enhancement algorithm twice, being careful to account for the infinite size of the images. How many pixels are lit in the resulting image?\n"
   ]
  },
  {
   "cell_type": "code",
   "execution_count": null,
   "metadata": {
    "dotnet_interactive": {
     "language": "fsharp"
    }
   },
   "outputs": [
    {
     "data": {
      "text/html": [
       "<table><thead><tr><th>Item1</th><th>Item2</th></tr></thead><tbody><tr><td><div class=\"dni-plaintext\">[ False, False, True, False, True, False, False, True, True, True, True, True, False, True, False, True, False, True, False, True ... (492 more) ]</div></td><td><div class=\"dni-plaintext\">[ True, False, False, True, False, True, False, False, False, False, True, True, False, False, True, False, False, True, False, False ... (more) ]</div></td></tr></tbody></table>"
      ]
     },
     "metadata": {},
     "output_type": "display_data"
    }
   ],
   "source": [
    "let testInput = \"\"\"\n",
    "..#.#..#####.#.#.#.###.##.....###.##.#..###.####..#####..#....#..#..##..##\n",
    "#..######.###...####..#..#####..##..#.#####...##.#.#..#.##..#.#......#.###\n",
    ".######.###.####...#.##.##..#..#..#####.....#.#....###..#.##......#.....#.\n",
    ".#..#..##..#...##.######.####.####.#.#...#.......#..#.#.#...####.##.#.....\n",
    ".#..#...##.#.##..#...##.#.##..###.#......#.#.......#.#.#.####.###.##...#..\n",
    "...####.#..#..#.##.#....##..#.####....##...##..#...#......#.#.......#.....\n",
    "..##..####..#...#.#.#...##..#.#..###..#####........#..####......#..#\n",
    "\n",
    "#..#.\n",
    "#....\n",
    "##..#\n",
    "..#..\n",
    "..###\n",
    "\"\"\"\n",
    "\n",
    "let parse (input:string) = \n",
    "    let parts = input.Replace(\"\\r\", \"\").Split(\"\\n\\n\");\n",
    "    let rules = \n",
    "        parts[0].Replace(\"\\n\", \"\").Trim().ToCharArray()\n",
    "        |> Array.map ( fun ch -> ch = '#')\n",
    "\n",
    "    let image =\n",
    "        parts[1].Split(\"\\n\")\n",
    "        |> Seq.filter( (<>) \"\" )\n",
    "        |> Seq.map (fun row ->\n",
    "            row.ToCharArray() |> Array.map ( fun ch -> ch = '#')\n",
    "        )\n",
    "        |> array2D\n",
    "\n",
    "    (rules, image)\n",
    "\n",
    "testInput |> parse"
   ]
  },
  {
   "cell_type": "code",
   "execution_count": null,
   "metadata": {
    "dotnet_interactive": {
     "language": "fsharp"
    }
   },
   "outputs": [
    {
     "data": {
      "text/plain": [
       "#..#.\n",
       "#....\n",
       "##..#\n",
       "..#..\n",
       "..###\n"
      ]
     },
     "metadata": {},
     "output_type": "display_data"
    }
   ],
   "source": [
    "let mapToString (map: bool[,]) =\n",
    "    let mutable s = \"\"\n",
    "    for r=0 to map.GetLength(0)-1 do\n",
    "        for c = 0 to map.GetLength(1)-1 do\n",
    "            s <- s + (if map[r,c]=true then \"#\" else \".\" ) \n",
    "        s <- s + \"\\n\"\n",
    "    s\n",
    "\n",
    "testInput |> parse |> snd |> mapToString"
   ]
  },
  {
   "cell_type": "code",
   "execution_count": null,
   "metadata": {
    "dotnet_interactive": {
     "language": "fsharp"
    }
   },
   "outputs": [
    {
     "data": {
      "text/plain": [
       ".##.##.\n",
       "#..#.#.\n",
       "##.#..#\n",
       "####..#\n",
       ".#..##.\n",
       "..##..#\n",
       "...#.#.\n"
      ]
     },
     "metadata": {},
     "output_type": "display_data"
    }
   ],
   "source": [
    "let runStep (emptyIs: bool) (rules: bool[]) (map: bool[,]) =\n",
    "    let newMap = Array2D.zeroCreate<bool> (map.GetLength(0)+2) (map.GetLength(1)+2)\n",
    "    let emptyVal = if emptyIs then 1 else 0\n",
    "\n",
    "    let safeGet row col =\n",
    "        if row<0 || col<0 || row>=map.GetLength(0) || col>=map.GetLength(1) then\n",
    "            emptyVal\n",
    "        elif map[row,col] then\n",
    "            1\n",
    "        else\n",
    "            0\n",
    "\n",
    "    for row=0 to map.GetLength(0)+1 do\n",
    "//    for row=0 to 0 do\n",
    "        // new map (r,c) corresponds to old maps (r-1, c-1) due to the resize\n",
    "        let mutable r0 = (safeGet (row-2) -2) * 2 + ( safeGet (row-2) -1 )\n",
    "        let mutable r1 = (safeGet (row-1) -2) * 2 + ( safeGet (row-1) -1 )\n",
    "        let mutable r2 = (safeGet (row-0) -2) * 2 + ( safeGet (row-0) -1 )\n",
    "        for col=0 to map.GetLength(1)+1 do\n",
    "            r0 <- ( 2 * r0 + (safeGet (row-2) col) ) &&& 7\n",
    "            r1 <- ( 2 * r1 + (safeGet (row-1) col) ) &&& 7\n",
    "            r2 <- ( 2 * r2 + (safeGet (row-0) col) ) &&& 7\n",
    "            let ruleIndex = (r0 <<< 6) ||| (r1 <<< 3) ||| r2\n",
    "            // if (row=0 && col<5) then printfn \"%i %i %i %i\" r0 r1 r2 ruleIndex\n",
    "            newMap[row,col] <- rules[ruleIndex]\n",
    "    \n",
    "    newMap\n",
    "\n",
    "\n",
    "testInput |> parse ||> runStep false |> mapToString"
   ]
  },
  {
   "cell_type": "code",
   "execution_count": null,
   "metadata": {
    "dotnet_interactive": {
     "language": "fsharp"
    }
   },
   "outputs": [
    {
     "data": {
      "text/plain": [
       ".......#.\n",
       ".#..#.#..\n",
       "#.#...###\n",
       "#...##.#.\n",
       "#.....#.#\n",
       ".#.#####.\n",
       "..#.#####\n",
       "...##.##.\n",
       "....###..\n"
      ]
     },
     "metadata": {},
     "output_type": "display_data"
    }
   ],
   "source": [
    "let enhanceMap (iterations: int) (rules: bool[]) (map:bool[,]) =\n",
    "    let rec impl iteration emptyIs map =\n",
    "        // printfn \"%A\" emptyIs\n",
    "        if iteration=0 then\n",
    "            map\n",
    "        else            \n",
    "            let emptyRuleIndex = if emptyIs then 511 else 0\n",
    "            impl (iteration-1) rules[emptyRuleIndex] (runStep emptyIs rules map)\n",
    "\n",
    "    impl iterations false map\n",
    "\n",
    "testInput |> parse ||> enhanceMap 2 |> mapToString"
   ]
  },
  {
   "cell_type": "code",
   "execution_count": null,
   "metadata": {
    "dotnet_interactive": {
     "language": "fsharp"
    }
   },
   "outputs": [
    {
     "data": {
      "text/html": [
       "<div class=\"dni-plaintext\">35</div>"
      ]
     },
     "metadata": {},
     "output_type": "display_data"
    }
   ],
   "source": [
    "let countLitPixels (map:bool[,]) =\n",
    "    let mutable count = 0\n",
    "    map\n",
    "    |> Array2D.iter (fun pixel ->\n",
    "        if pixel then count <- count+1\n",
    "    )\n",
    "    count\n",
    "\n",
    "testInput |> parse ||> enhanceMap 2 |> countLitPixels"
   ]
  },
  {
   "cell_type": "code",
   "execution_count": null,
   "metadata": {
    "dotnet_interactive": {
     "language": "fsharp"
    }
   },
   "outputs": [
    {
     "data": {
      "text/html": [
       "<div class=\"dni-plaintext\">5179</div>"
      ]
     },
     "metadata": {},
     "output_type": "display_data"
    }
   ],
   "source": [
    "let task = System.IO.File.ReadAllText \"task.txt\"\n",
    "// System.IO.File.WriteAllText (\"res.txt\", (task |> parse ||> enhanceMap 2 |> mapToString))\n",
    "task |> parse ||> enhanceMap 2 |> countLitPixels   // 5179 "
   ]
  },
  {
   "cell_type": "markdown",
   "metadata": {},
   "source": [
    "--- Part Two ---\n",
    "\n",
    "You still can't quite make out the details in the image. Maybe you just didn't enhance it enough.\n",
    "\n",
    "If you enhance the starting input image in the above example a total of 50 times, 3351 pixels are lit in the final output image.\n",
    "\n",
    "Start again with the original input image and apply the image enhancement algorithm 50 times. How many pixels are lit in the resulting image?\n"
   ]
  },
  {
   "cell_type": "code",
   "execution_count": null,
   "metadata": {
    "dotnet_interactive": {
     "language": "fsharp"
    }
   },
   "outputs": [
    {
     "data": {
      "text/html": [
       "<div class=\"dni-plaintext\">3351</div>"
      ]
     },
     "metadata": {},
     "output_type": "display_data"
    }
   ],
   "source": [
    "testInput |> parse ||> enhanceMap 50 |> countLitPixels  // 3351"
   ]
  },
  {
   "cell_type": "code",
   "execution_count": null,
   "metadata": {
    "dotnet_interactive": {
     "language": "fsharp"
    }
   },
   "outputs": [
    {
     "data": {
      "text/html": [
       "<div class=\"dni-plaintext\">16112</div>"
      ]
     },
     "metadata": {},
     "output_type": "display_data"
    }
   ],
   "source": [
    "task |> parse ||> enhanceMap 50 |> countLitPixels   // 5179 "
   ]
  }
 ],
 "metadata": {
  "kernelspec": {
   "display_name": ".NET (F#)",
   "language": "F#",
   "name": ".net-fsharp"
  },
  "language_info": {
   "name": "F#"
  }
 },
 "nbformat": 4,
 "nbformat_minor": 2
}
