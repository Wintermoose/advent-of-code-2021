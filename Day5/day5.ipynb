{
 "cells": [
  {
   "cell_type": "markdown",
   "metadata": {},
   "source": [
    "--- Day 5: Hydrothermal Venture ---\n",
    "\n",
    "You come across a field of hydrothermal vents on the ocean floor! These vents constantly produce large, opaque clouds, so it would be best to avoid them if possible.\n",
    "\n",
    "They tend to form in lines; the submarine helpfully produces a list of nearby lines of vents (your puzzle input) for you to review. For example:\n",
    "\n",
    "```\n",
    "0,9 -> 5,9\n",
    "8,0 -> 0,8\n",
    "9,4 -> 3,4\n",
    "2,2 -> 2,1\n",
    "7,0 -> 7,4\n",
    "6,4 -> 2,0\n",
    "0,9 -> 2,9\n",
    "3,4 -> 1,4\n",
    "0,0 -> 8,8\n",
    "5,5 -> 8,2\n",
    "```\n",
    "\n",
    "Each line of vents is given as a line segment in the format x1,y1 -> x2,y2 where x1,y1 are the coordinates of one end the line segment and x2,y2 are the coordinates of the other end. These line segments include the points at both ends. In other words:\n",
    "\n",
    "\n",
    "-    An entry like 9,7 -> 7,7 covers points 9,7, 8,7, and 7,7.\n",
    "-    An entry like 1,1 -> 1,3 covers points 1,1, 1,2, and 1,3.\n",
    "\n",
    "For now, only consider horizontal and vertical lines: lines where either x1 = x2 or y1 = y2.\n",
    "\n",
    "So, the horizontal and vertical lines from the above list would produce the following diagram:\n",
    "\n",
    "```\n",
    ".......1..\n",
    "..1....1..\n",
    "..1....1..\n",
    ".......1..\n",
    ".112111211\n",
    "..........\n",
    "..........\n",
    "..........\n",
    "..........\n",
    "222111....\n",
    "```\n",
    "\n",
    "In this diagram, the top left corner is 0,0 and the bottom right corner is 9,9. Each position is shown as the number of lines which cover that point or . if no line covers that point. The top-left pair of 1s, for example, comes from 2,2 -> 2,1; the very bottom row is formed by the overlapping lines 0,9 -> 5,9 and 0,9 -> 2,9.\n",
    "\n",
    "To avoid the most dangerous areas, you need to determine the number of points where at least two lines overlap. In the above example, this is anywhere in the diagram with a 2 or larger - a total of 5 points.\n",
    "\n",
    "Consider only horizontal and vertical lines. At how many points do at least two lines overlap?\n"
   ]
  },
  {
   "cell_type": "code",
   "execution_count": null,
   "metadata": {
    "dotnet_interactive": {
     "language": "fsharp"
    }
   },
   "outputs": [],
   "source": [
    "let testInput = \"\"\"\n",
    "0,9 -> 5,9\n",
    "8,0 -> 0,8\n",
    "9,4 -> 3,4\n",
    "2,2 -> 2,1\n",
    "7,0 -> 7,4\n",
    "6,4 -> 2,0\n",
    "0,9 -> 2,9\n",
    "3,4 -> 1,4\n",
    "0,0 -> 8,8\n",
    "5,5 -> 8,2\n",
    "\"\"\""
   ]
  },
  {
   "cell_type": "code",
   "execution_count": null,
   "metadata": {
    "dotnet_interactive": {
     "language": "fsharp"
    }
   },
   "outputs": [
    {
     "data": {
      "text/html": [
       "<table><thead><tr><th><i>index</i></th><th>X0</th><th>Y0</th><th>X1</th><th>Y1</th></tr></thead><tbody><tr><td>0</td><td><div class=\"dni-plaintext\">0</div></td><td><div class=\"dni-plaintext\">9</div></td><td><div class=\"dni-plaintext\">5</div></td><td><div class=\"dni-plaintext\">9</div></td></tr><tr><td>1</td><td><div class=\"dni-plaintext\">8</div></td><td><div class=\"dni-plaintext\">0</div></td><td><div class=\"dni-plaintext\">0</div></td><td><div class=\"dni-plaintext\">8</div></td></tr><tr><td>2</td><td><div class=\"dni-plaintext\">9</div></td><td><div class=\"dni-plaintext\">4</div></td><td><div class=\"dni-plaintext\">3</div></td><td><div class=\"dni-plaintext\">4</div></td></tr><tr><td>3</td><td><div class=\"dni-plaintext\">2</div></td><td><div class=\"dni-plaintext\">2</div></td><td><div class=\"dni-plaintext\">2</div></td><td><div class=\"dni-plaintext\">1</div></td></tr><tr><td>4</td><td><div class=\"dni-plaintext\">7</div></td><td><div class=\"dni-plaintext\">0</div></td><td><div class=\"dni-plaintext\">7</div></td><td><div class=\"dni-plaintext\">4</div></td></tr><tr><td>5</td><td><div class=\"dni-plaintext\">6</div></td><td><div class=\"dni-plaintext\">4</div></td><td><div class=\"dni-plaintext\">2</div></td><td><div class=\"dni-plaintext\">0</div></td></tr><tr><td>6</td><td><div class=\"dni-plaintext\">0</div></td><td><div class=\"dni-plaintext\">9</div></td><td><div class=\"dni-plaintext\">2</div></td><td><div class=\"dni-plaintext\">9</div></td></tr><tr><td>7</td><td><div class=\"dni-plaintext\">3</div></td><td><div class=\"dni-plaintext\">4</div></td><td><div class=\"dni-plaintext\">1</div></td><td><div class=\"dni-plaintext\">4</div></td></tr><tr><td>8</td><td><div class=\"dni-plaintext\">0</div></td><td><div class=\"dni-plaintext\">0</div></td><td><div class=\"dni-plaintext\">8</div></td><td><div class=\"dni-plaintext\">8</div></td></tr><tr><td>9</td><td><div class=\"dni-plaintext\">5</div></td><td><div class=\"dni-plaintext\">5</div></td><td><div class=\"dni-plaintext\">8</div></td><td><div class=\"dni-plaintext\">2</div></td></tr></tbody></table>"
      ]
     },
     "metadata": {},
     "output_type": "display_data"
    }
   ],
   "source": [
    "#load \"../Shared/regexp.fsx\"\n",
    "open RegexpMatch\n",
    "\n",
    "type Line = {\n",
    "    X0: int\n",
    "    Y0: int\n",
    "    X1: int\n",
    "    Y1: int\n",
    "}\n",
    "\n",
    "let parse (input: string) = \n",
    "    input.Replace(\"\\r\", \"\").Split(\"\\n\")\n",
    "    |> Seq.filter (fun r -> r <> \"\")\n",
    "    |> Seq.map (\n",
    "            function\n",
    "            | Regex @\"(\\d+),(\\d+)\\s*->\\s*(\\d+),(\\d+)\" [x0; y0; x1; y1] -> { X0 = int x0; Y0 = int y0; X1 = int x1; Y1 = int y1}\n",
    "            | token -> failwithf \"Unexpected row %s\" token\n",
    "        )\n",
    "\n",
    "testInput |> parse"
   ]
  },
  {
   "cell_type": "code",
   "execution_count": null,
   "metadata": {
    "dotnet_interactive": {
     "language": "fsharp"
    }
   },
   "outputs": [
    {
     "data": {
      "text/html": [
       "<table><thead><tr><th><i>index</i></th><th>value</th></tr></thead><tbody><tr><td>0</td><td><div class=\"dni-plaintext\">0</div></td></tr><tr><td>1</td><td><div class=\"dni-plaintext\">0</div></td></tr><tr><td>2</td><td><div class=\"dni-plaintext\">0</div></td></tr><tr><td>3</td><td><div class=\"dni-plaintext\">0</div></td></tr><tr><td>4</td><td><div class=\"dni-plaintext\">0</div></td></tr><tr><td>5</td><td><div class=\"dni-plaintext\">0</div></td></tr><tr><td>6</td><td><div class=\"dni-plaintext\">0</div></td></tr><tr><td>7</td><td><div class=\"dni-plaintext\">0</div></td></tr><tr><td>8</td><td><div class=\"dni-plaintext\">0</div></td></tr><tr><td>9</td><td><div class=\"dni-plaintext\">0</div></td></tr><tr><td>10</td><td><div class=\"dni-plaintext\">0</div></td></tr><tr><td>11</td><td><div class=\"dni-plaintext\">0</div></td></tr><tr><td>12</td><td><div class=\"dni-plaintext\">0</div></td></tr><tr><td>13</td><td><div class=\"dni-plaintext\">0</div></td></tr><tr><td>14</td><td><div class=\"dni-plaintext\">0</div></td></tr><tr><td>15</td><td><div class=\"dni-plaintext\">0</div></td></tr><tr><td>16</td><td><div class=\"dni-plaintext\">0</div></td></tr><tr><td>17</td><td><div class=\"dni-plaintext\">0</div></td></tr><tr><td>18</td><td><div class=\"dni-plaintext\">0</div></td></tr><tr><td>19</td><td><div class=\"dni-plaintext\">0</div></td></tr><tr><td colspan=\"2\"><i>(80 more)</i></td></tr></tbody></table>"
      ]
     },
     "metadata": {},
     "output_type": "display_data"
    }
   ],
   "source": [
    "let createMap (lines: seq<Line>) =\n",
    "    let width = \n",
    "        lines \n",
    "        |> Seq.map ( fun line -> Math.Max(line.X0, line.X1) )\n",
    "        |> Seq.max\n",
    "    let height =\n",
    "        lines \n",
    "        |> Seq.map ( fun line -> Math.Max(line.Y0, line.Y1) )\n",
    "        |> Seq.max\n",
    "    Array2D.zeroCreate<int> (width+1) (height+1)\n",
    "\n",
    "testInput |> parse |> createMap"
   ]
  },
  {
   "cell_type": "code",
   "execution_count": null,
   "metadata": {
    "dotnet_interactive": {
     "language": "fsharp"
    }
   },
   "outputs": [
    {
     "name": "stdout",
     "output_type": "stream",
     "text": [
      "    .    .    .    .    .    .    .    .    .    .\n",
      "    .    .    .    .    .    .    .    .    .    .\n",
      "    .    .    .    .    .    .    .    .    .    .\n",
      "    .    .    .    .    .    .    .    .    .    .\n",
      "    .    .    .    .    .    .    .    .    .    .\n",
      "    .    .    .    .    .    .    .    .    .    .\n",
      "    .    .    .    .    .    .    .    .    .    .\n",
      "    .    .    .    .    .    .    .    .    .    .\n",
      "    .    .    .    .    .    .    .    .    .    .\n",
      "    .    .    .    .    .    .    .    .    .    .\n"
     ]
    },
    {
     "data": {
      "text/html": [
       "<div class=\"dni-plaintext\">0</div>"
      ]
     },
     "metadata": {},
     "output_type": "display_data"
    }
   ],
   "source": [
    "let showMap (map: int [,]) =\n",
    "    let width = map.GetLength(0)\n",
    "    let height = map.GetLength(1)\n",
    "    for y = 0 to height-1 do\n",
    "        let mutable row = \"\"\n",
    "        for x = 0 to width-1 do            \n",
    "            row <- row + if map.[x,y]=0 then \"    .\" else  (sprintf \" %4i\" map.[x,y] )\n",
    "        printf \"%s\\n\" row\n",
    "    0\n",
    "\n",
    "testInput |> parse |> createMap |> showMap"
   ]
  },
  {
   "cell_type": "code",
   "execution_count": null,
   "metadata": {
    "dotnet_interactive": {
     "language": "fsharp"
    }
   },
   "outputs": [
    {
     "name": "stdout",
     "output_type": "stream",
     "text": [
      "    .    .    .    .    .    .    .    .    .    1\n",
      "    .    .    .    .    .    .    .    .    .    1\n",
      "    .    .    .    .    .    .    .    .    .    1\n",
      "    .    .    .    .    .    .    .    .    .    1\n",
      "    .    .    .    .    .    .    .    .    .    1\n",
      "    .    .    .    .    .    .    .    .    .    1\n",
      "    .    .    .    .    .    .    .    .    .    1\n",
      "    .    .    .    .    .    .    .    .    .    1\n",
      "    .    .    .    .    .    .    .    .    .    1\n",
      "    .    .    .    .    .    .    .    .    .    1\n"
     ]
    },
    {
     "data": {
      "text/html": [
       "<div class=\"dni-plaintext\">0</div>"
      ]
     },
     "metadata": {},
     "output_type": "display_data"
    }
   ],
   "source": [
    "let drawLine (map: int[,]) (line: Line) =\n",
    "    let stepX = Math.Sign( line.X1 - line.X0 )\n",
    "    let stepY = Math.Sign( line.Y1 - line.Y0 )\n",
    "    let mutable x = line.X0\n",
    "    let mutable y = line.Y0\n",
    "    while  x <> line.X1 || y <> line.Y1 do\n",
    "        map.[x,y] <- map.[x,y] + 1\n",
    "        x <- x + stepX\n",
    "        y <- y + stepY\n",
    "    map.[x,y] <- map.[x,y] + 1\n",
    "    map\n",
    "\n",
    "drawLine (Array2D.zeroCreate<int> 10 10) { X0 = 9; Y0 = 9; X1 = 9; Y1 = 0 } |> showMap\n",
    "// testInput |> parse |> createMap |> (fun f -> drawLine f { X0 = 0; Y0 = 0; X1 = 10; Y1 = 10 } )"
   ]
  },
  {
   "cell_type": "code",
   "execution_count": null,
   "metadata": {
    "dotnet_interactive": {
     "language": "fsharp"
    }
   },
   "outputs": [
    {
     "name": "stdout",
     "output_type": "stream",
     "text": [
      "    .    .    .    .    .    .    .    1    .    .\n",
      "    .    .    1    .    .    .    .    1    .    .\n",
      "    .    .    1    .    .    .    .    1    .    .\n",
      "    .    .    .    .    .    .    .    1    .    .\n",
      "    .    1    1    2    1    1    1    2    1    1\n",
      "    .    .    .    .    .    .    .    .    .    .\n",
      "    .    .    .    .    .    .    .    .    .    .\n",
      "    .    .    .    .    .    .    .    .    .    .\n",
      "    .    .    .    .    .    .    .    .    .    .\n",
      "    2    2    2    1    1    1    .    .    .    .\n"
     ]
    },
    {
     "data": {
      "text/html": [
       "<div class=\"dni-plaintext\">0</div>"
      ]
     },
     "metadata": {},
     "output_type": "display_data"
    }
   ],
   "source": [
    "let drawStraightLines (lines: seq<Line>) = \n",
    "    let map = createMap lines\n",
    "    lines\n",
    "    |> Seq.filter ( fun line -> line.X0 = line.X1 || line.Y0 = line.Y1 )\n",
    "    |> Seq.fold (\n",
    "            fun map line -> drawLine map line \n",
    "        )\n",
    "        ( createMap lines )\n",
    "\n",
    "testInput |> parse |> drawStraightLines |> showMap"
   ]
  },
  {
   "cell_type": "code",
   "execution_count": null,
   "metadata": {
    "dotnet_interactive": {
     "language": "fsharp"
    }
   },
   "outputs": [
    {
     "data": {
      "text/html": [
       "<div class=\"dni-plaintext\">5</div>"
      ]
     },
     "metadata": {},
     "output_type": "display_data"
    }
   ],
   "source": [
    "let countDanger (map: int[,]) =\n",
    "    let mutable counter = 0\n",
    "    map\n",
    "    |> Array2D.iter ( \n",
    "        fun v -> \n",
    "            if v > 1 then\n",
    "                counter <- counter + 1\n",
    "        )\n",
    "    counter \n",
    "\n",
    "testInput |> parse |> drawStraightLines |> countDanger    "
   ]
  },
  {
   "cell_type": "code",
   "execution_count": null,
   "metadata": {
    "dotnet_interactive": {
     "language": "fsharp"
    }
   },
   "outputs": [
    {
     "data": {
      "text/html": [
       "<div class=\"dni-plaintext\">5124</div>"
      ]
     },
     "metadata": {},
     "output_type": "display_data"
    }
   ],
   "source": [
    "let task = System.IO.File.ReadAllText \"task.txt\"\n",
    "\n",
    "task |> parse |> drawStraightLines |> countDanger"
   ]
  },
  {
   "cell_type": "markdown",
   "metadata": {},
   "source": [
    "--- Part Two ---\n",
    "\n",
    "Unfortunately, considering only horizontal and vertical lines doesn't give you the full picture; you need to also consider diagonal lines.\n",
    "\n",
    "Because of the limits of the hydrothermal vent mapping system, the lines in your list will only ever be horizontal, vertical, or a diagonal line at exactly 45 degrees. In other words:\n",
    "\n",
    "-    An entry like 1,1 -> 3,3 covers points 1,1, 2,2, and 3,3.\n",
    "-    An entry like 9,7 -> 7,9 covers points 9,7, 8,8, and 7,9.\n",
    "\n",
    "Considering all lines from the above example would now produce the following diagram:\n",
    "\n",
    "```\n",
    "1.1....11.\n",
    ".111...2..\n",
    "..2.1.111.\n",
    "...1.2.2..\n",
    ".112313211\n",
    "...1.2....\n",
    "..1...1...\n",
    ".1.....1..\n",
    "1.......1.\n",
    "222111....\n",
    "```\n",
    "\n",
    "You still need to determine the number of points where at least two lines overlap. In the above example, this is still anywhere in the diagram with a 2 or larger - now a total of 12 points.\n",
    "\n",
    "Consider all of the lines. At how many points do at least two lines overlap?\n"
   ]
  },
  {
   "cell_type": "code",
   "execution_count": null,
   "metadata": {
    "dotnet_interactive": {
     "language": "fsharp"
    }
   },
   "outputs": [
    {
     "name": "stdout",
     "output_type": "stream",
     "text": [
      "    1    .    1    .    .    .    .    1    1    .\n",
      "    .    1    1    1    .    .    .    2    .    .\n",
      "    .    .    2    .    1    .    1    1    1    .\n",
      "    .    .    .    1    .    2    .    2    .    .\n",
      "    .    1    1    2    3    1    3    2    1    1\n",
      "    .    .    .    1    .    2    .    .    .    .\n",
      "    .    .    1    .    .    .    1    .    .    .\n",
      "    .    1    .    .    .    .    .    1    .    .\n",
      "    1    .    .    .    .    .    .    .    1    .\n",
      "    2    2    2    1    1    1    .    .    .    .\n"
     ]
    },
    {
     "data": {
      "text/html": [
       "<div class=\"dni-plaintext\">0</div>"
      ]
     },
     "metadata": {},
     "output_type": "display_data"
    }
   ],
   "source": [
    "let drawLines (lines: seq<Line>) = \n",
    "    let map = createMap lines\n",
    "    lines\n",
    "    |> Seq.fold (\n",
    "            fun map line -> drawLine map line \n",
    "        )\n",
    "        ( createMap lines )\n",
    "\n",
    "testInput |> parse |> drawLines |> showMap"
   ]
  },
  {
   "cell_type": "code",
   "execution_count": null,
   "metadata": {
    "dotnet_interactive": {
     "language": "fsharp"
    }
   },
   "outputs": [
    {
     "data": {
      "text/html": [
       "<div class=\"dni-plaintext\">12</div>"
      ]
     },
     "metadata": {},
     "output_type": "display_data"
    }
   ],
   "source": [
    "testInput |> parse |> drawLines |> countDanger"
   ]
  },
  {
   "cell_type": "code",
   "execution_count": null,
   "metadata": {
    "dotnet_interactive": {
     "language": "fsharp"
    }
   },
   "outputs": [
    {
     "data": {
      "text/html": [
       "<div class=\"dni-plaintext\">19771</div>"
      ]
     },
     "metadata": {},
     "output_type": "display_data"
    }
   ],
   "source": [
    "task |> parse |> drawLines |> countDanger"
   ]
  }
 ],
 "metadata": {
  "kernelspec": {
   "display_name": ".NET (F#)",
   "language": "F#",
   "name": ".net-fsharp"
  },
  "language_info": {
   "name": "F#"
  }
 },
 "nbformat": 4,
 "nbformat_minor": 2
}
