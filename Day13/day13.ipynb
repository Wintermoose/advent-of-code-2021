{
 "cells": [
  {
   "cell_type": "markdown",
   "metadata": {},
   "source": [
    "--- Day 13: Transparent Origami ---\n",
    "\n",
    "You reach another volcanically active part of the cave. It would be nice if you could do some kind of thermal imaging so you could tell ahead of time which caves are too hot to safely enter.\n",
    "\n",
    "Fortunately, the submarine seems to be equipped with a thermal camera! When you activate it, you are greeted with:\n",
    "\n",
    "Congratulations on your purchase! To activate this infrared thermal imaging\n",
    "camera system, please enter the code found on page 1 of the manual.\n",
    "\n",
    "Apparently, the Elves have never used this feature. To your surprise, you manage to find the manual; as you go to open it, page 1 falls out. It's a large sheet of transparent paper! The transparent paper is marked with random dots and includes instructions on how to fold it up (your puzzle input). For example:\n",
    "\n",
    "```\n",
    "6,10\n",
    "0,14\n",
    "9,10\n",
    "0,3\n",
    "10,4\n",
    "4,11\n",
    "6,0\n",
    "6,12\n",
    "4,1\n",
    "0,13\n",
    "10,12\n",
    "3,4\n",
    "3,0\n",
    "8,4\n",
    "1,10\n",
    "2,14\n",
    "8,10\n",
    "9,0\n",
    "```\n",
    "\n",
    "```\n",
    "fold along y=7\n",
    "fold along x=5\n",
    "```\n",
    "\n",
    "The first section is a list of dots on the transparent paper. 0,0 represents the top-left coordinate. The first value, x, increases to the right. The second value, y, increases downward. So, the coordinate 3,0 is to the right of 0,0, and the coordinate 0,7 is below 0,0. The coordinates in this example form the following pattern, where # is a dot on the paper and . is an empty, unmarked position:\n",
    "\n",
    "```\n",
    "...#..#..#.\n",
    "....#......\n",
    "...........\n",
    "#..........\n",
    "...#....#.#\n",
    "...........\n",
    "...........\n",
    "...........\n",
    "...........\n",
    "...........\n",
    ".#....#.##.\n",
    "....#......\n",
    "......#...#\n",
    "#..........\n",
    "#.#........\n",
    "```\n",
    "\n",
    "Then, there is a list of fold instructions. Each instruction indicates a line on the transparent paper and wants you to fold the paper up (for horizontal y=... lines) or left (for vertical x=... lines). In this example, the first fold instruction is fold along y=7, which designates the line formed by all of the positions where y is 7 (marked here with -):\n",
    "\n",
    "```\n",
    "...#..#..#.\n",
    "....#......\n",
    "...........\n",
    "#..........\n",
    "...#....#.#\n",
    "...........\n",
    "...........\n",
    "-----------\n",
    "...........\n",
    "...........\n",
    ".#....#.##.\n",
    "....#......\n",
    "......#...#\n",
    "#..........\n",
    "#.#........\n",
    "```\n",
    "\n",
    "Because this is a horizontal line, fold the bottom half up. Some of the dots might end up overlapping after the fold is complete, but dots will never appear exactly on a fold line. The result of doing this fold looks like this:\n",
    "\n",
    "```\n",
    "#.##..#..#.\n",
    "#...#......\n",
    "......#...#\n",
    "#...#......\n",
    ".#.#..#.###\n",
    "...........\n",
    "...........\n",
    "```\n",
    "\n",
    "Now, only 17 dots are visible.\n",
    "\n",
    "Notice, for example, the two dots in the bottom left corner before the transparent paper is folded; after the fold is complete, those dots appear in the top left corner (at 0,0 and 0,1). Because the paper is transparent, the dot just below them in the result (at 0,3) remains visible, as it can be seen through the transparent paper.\n",
    "\n",
    "Also notice that some dots can end up overlapping; in this case, the dots merge together and become a single dot.\n",
    "\n",
    "The second fold instruction is fold along x=5, which indicates this line:\n",
    "\n",
    "```\n",
    "#.##.|#..#.\n",
    "#...#|.....\n",
    ".....|#...#\n",
    "#...#|.....\n",
    ".#.#.|#.###\n",
    ".....|.....\n",
    ".....|.....\n",
    "```\n",
    "\n",
    "Because this is a vertical line, fold left:\n",
    "\n",
    "```\n",
    "#####\n",
    "#...#\n",
    "#...#\n",
    "#...#\n",
    "#####\n",
    ".....\n",
    ".....\n",
    "```\n",
    "\n",
    "The instructions made a square!\n",
    "\n",
    "The transparent paper is pretty big, so for now, focus on just completing the first fold. After the first fold in the example above, 17 dots are visible - dots that end up overlapping after the fold is completed count as a single dot.\n",
    "\n",
    "How many dots are visible after completing just the first fold instruction on your transparent paper?\n"
   ]
  },
  {
   "cell_type": "code",
   "execution_count": null,
   "metadata": {
    "dotnet_interactive": {
     "language": "fsharp"
    }
   },
   "outputs": [
    {
     "data": {
      "text/html": [
       "<table><thead><tr><th>Item1</th><th>Item2</th></tr></thead><tbody><tr><td><div class=\"dni-plaintext\">[ False, False, False, True, False, False, True, False, False, True, False, False, False, False, False, True, False, False, False, False ... (more) ]</div></td><td><div class=\"dni-plaintext\">[ ( False, 7 ), ( True, 5 ) ]</div></td></tr></tbody></table>"
      ]
     },
     "metadata": {},
     "output_type": "display_data"
    }
   ],
   "source": [
    "#load \"../Shared/regexp.fsx\"\n",
    "open RegexpMatch\n",
    "\n",
    "let testInput = \"\"\"\n",
    "6,10\n",
    "0,14\n",
    "9,10\n",
    "0,3\n",
    "10,4\n",
    "4,11\n",
    "6,0\n",
    "6,12\n",
    "4,1\n",
    "0,13\n",
    "10,12\n",
    "3,4\n",
    "3,0\n",
    "8,4\n",
    "1,10\n",
    "2,14\n",
    "8,10\n",
    "9,0\n",
    "\n",
    "fold along y=7\n",
    "fold along x=5\n",
    "\"\"\"\n",
    "\n",
    "type Instructions = bool[,] * seq<bool * int>\n",
    "\n",
    "let parse (input:string) =\n",
    "    let parts = input.Replace(\"\\r\", \"\").Split(\"\\n\\n\")\n",
    "\n",
    "    let coords =\n",
    "        parts.[0].Split(\"\\n\")\n",
    "        |> Seq.filter ( (<>) \"\" )\n",
    "        |> Seq.map (\n",
    "            function\n",
    "            | Regex @\"(\\d+)\\s?,\\s?(\\d+)\" [x; y] -> (int x, int y)\n",
    "            | token -> failwithf \"Unspected input '%s'\" token\n",
    "        )\n",
    "\n",
    "    let width = coords |> Seq.map fst |> Seq.max\n",
    "    let height = coords |>Seq.map snd |> Seq.max\n",
    "    let map = Array2D.zeroCreate<bool> (height+1) (width+1)\n",
    "\n",
    "    coords\n",
    "    |> Seq.iter (fun (x,y) -> \n",
    "        map[y,x] <- true\n",
    "    )\n",
    "\n",
    "    let folds =\n",
    "        parts.[1].Split(\"\\n\")\n",
    "        |> Seq.filter( (<>) \"\" )\n",
    "        |> Seq.map(\n",
    "            function\n",
    "            | Regex @\"fold along (x|y)\\s?=\\s?(\\d+)\" [axis; amount] -> (axis = \"x\", int amount)\n",
    "            | token -> failwithf \"Unepexcted input '%s'\" token\n",
    "        )\n",
    "\n",
    "    (map, folds)\n",
    "\n",
    "testInput |> parse"
   ]
  },
  {
   "cell_type": "code",
   "execution_count": null,
   "metadata": {
    "dotnet_interactive": {
     "language": "fsharp"
    }
   },
   "outputs": [
    {
     "name": "stdout",
     "output_type": "stream",
     "text": [
      "...#..#..#.\r\n",
      "....#......\r\n",
      "...........\r\n",
      "#..........\r\n",
      "...#....#.#\r\n",
      "...........\r\n",
      "...........\r\n",
      "...........\r\n",
      "...........\r\n",
      "...........\r\n",
      ".#....#.##.\r\n",
      "....#......\r\n",
      "......#...#\r\n",
      "#..........\r\n",
      "#.#........\r\n"
     ]
    }
   ],
   "source": [
    "let printMap (map: bool[,]) =\n",
    "    for row = 0 to (map.GetLength(0) - 1 ) do\n",
    "        let mutable s = \"\"\n",
    "        for col = 0 to (map.GetLength(1) - 1 ) do\n",
    "            s <- s + (if map[row,col] then \"#\" else \".\" )\n",
    "        printfn \"%s\" s\n",
    "\n",
    "testInput |> parse |> fst |> printMap"
   ]
  },
  {
   "cell_type": "code",
   "execution_count": null,
   "metadata": {
    "dotnet_interactive": {
     "language": "fsharp"
    }
   },
   "outputs": [
    {
     "name": "stdout",
     "output_type": "stream",
     "text": [
      ".#.##\r\n",
      "....#\r\n",
      ".....\r\n",
      "#....\r\n",
      "#.##.\r\n",
      ".....\r\n",
      ".....\r\n",
      ".....\r\n",
      ".....\r\n",
      ".....\r\n",
      ".##.#\r\n",
      "....#\r\n",
      "#...#\r\n",
      "#....\r\n",
      "#.#..\r\n"
     ]
    }
   ],
   "source": [
    "let foldX (where:int) (map:bool[,])  =\n",
    "    let width = where\n",
    "    let height = map.GetLength(0)\n",
    "    let newMap = Array2D.zeroCreate<bool> height width \n",
    "    let maxW = Math.Min(width*2, map.GetLength(1)-1)\n",
    "    for row=0 to (height-1) do\n",
    "        for col=0 to (width-1) do\n",
    "            newMap[row, col] <- map[row, col]\n",
    "        for col=width+1 to maxW do\n",
    "            newMap[row, width*2-col] <- map[row, col] || newMap[row, width*2-col]\n",
    "\n",
    "    newMap            \n",
    "\n",
    "testInput |> parse |> fst |> foldX 5 |> printMap\n"
   ]
  },
  {
   "cell_type": "code",
   "execution_count": null,
   "metadata": {
    "dotnet_interactive": {
     "language": "fsharp"
    }
   },
   "outputs": [
    {
     "name": "stdout",
     "output_type": "stream",
     "text": [
      "#.##..#..#.\r\n",
      "#...#......\r\n",
      "......#...#\r\n",
      "#...#......\r\n",
      ".#.#..#.###\r\n",
      "...........\r\n",
      "...........\r\n"
     ]
    }
   ],
   "source": [
    "let foldY (where:int) (map: bool[,]) =\n",
    "    let width = map.GetLength(1)\n",
    "    let height = where\n",
    "    let newMap = Array2D.zeroCreate<bool> height width\n",
    "    let maxH = Math.Min(height*2, map.GetLength(0) - 1 )\n",
    "    for row=0 to (height-1) do\n",
    "        for col=0 to (width-1) do\n",
    "            newMap[row, col] <- map[row, col]\n",
    "    for row=(height+1) to maxH do\n",
    "        let targetRow = height*2 - row\n",
    "        for col=0 to (width-1) do\n",
    "            newMap[targetRow, col] <- map[row, col] || newMap[targetRow, col]\n",
    "\n",
    "    newMap\n",
    "\n",
    "testInput |> parse |> fst |> foldY 7 |> printMap"
   ]
  },
  {
   "cell_type": "code",
   "execution_count": null,
   "metadata": {
    "dotnet_interactive": {
     "language": "fsharp"
    }
   },
   "outputs": [
    {
     "name": "stdout",
     "output_type": "stream",
     "text": [
      "#####\r\n",
      "#...#\r\n",
      "#...#\r\n",
      "#...#\r\n",
      "#####\r\n",
      ".....\r\n",
      ".....\r\n"
     ]
    }
   ],
   "source": [
    "testInput |> parse |> fst |> foldY 7 |> foldX 5 |> printMap"
   ]
  },
  {
   "cell_type": "code",
   "execution_count": null,
   "metadata": {
    "dotnet_interactive": {
     "language": "fsharp"
    }
   },
   "outputs": [
    {
     "data": {
      "text/html": [
       "<div class=\"dni-plaintext\">16</div>"
      ]
     },
     "metadata": {},
     "output_type": "display_data"
    }
   ],
   "source": [
    "let countDots (map: bool[,]) =\n",
    "    let mutable result = 0\n",
    "\n",
    "    map\n",
    "    |> Array2D.iter ( fun value -> \n",
    "        if value then\n",
    "            result <- result + 1\n",
    "    )\n",
    "    result\n",
    "\n",
    "testInput |> parse |> fst |> foldY 7 |> foldX 5 |>  countDots"
   ]
  },
  {
   "cell_type": "code",
   "execution_count": null,
   "metadata": {
    "dotnet_interactive": {
     "language": "fsharp"
    }
   },
   "outputs": [
    {
     "data": {
      "text/html": [
       "<div class=\"dni-plaintext\">807</div>"
      ]
     },
     "metadata": {},
     "output_type": "display_data"
    }
   ],
   "source": [
    "let task = System.IO.File.ReadAllText \"task.txt\"\n",
    "\n",
    "task |> parse |> ( fun (map, folds) -> \n",
    "    let folds2 = folds |> Array.ofSeq \n",
    "    if fst folds2[0] then\n",
    "        map |> foldX (snd folds2[0])\n",
    "    else\n",
    "        map |> foldY (snd folds2[0])\n",
    ") |> countDots"
   ]
  },
  {
   "cell_type": "markdown",
   "metadata": {},
   "source": [
    "--- Part Two ---\n",
    "\n",
    "Finish folding the transparent paper according to the instructions. The manual says the code is always eight capital letters.\n",
    "\n",
    "What code do you use to activate the infrared thermal imaging camera system?\n"
   ]
  },
  {
   "cell_type": "code",
   "execution_count": null,
   "metadata": {
    "dotnet_interactive": {
     "language": "fsharp"
    }
   },
   "outputs": [
    {
     "name": "stdout",
     "output_type": "stream",
     "text": [
      "#####\r\n",
      "#...#\r\n",
      "#...#\r\n",
      "#...#\r\n",
      "#####\r\n",
      ".....\r\n",
      ".....\r\n"
     ]
    }
   ],
   "source": [
    "let foldAll (map: bool[,]) (folds:seq<bool * int>) =\n",
    "    folds\n",
    "    |> Seq.fold (fun map (isX, where) ->\n",
    "            if isX then\n",
    "                foldX where map\n",
    "            else\n",
    "                foldY where map\n",
    "        )\n",
    "        map\n",
    "\n",
    "testInput |> parse ||> foldAll |> printMap"
   ]
  },
  {
   "cell_type": "code",
   "execution_count": null,
   "metadata": {
    "dotnet_interactive": {
     "language": "fsharp"
    }
   },
   "outputs": [
    {
     "name": "stdout",
     "output_type": "stream",
     "text": [
      "#.....##..#..#.####..##..#..#.####...##.\r\n",
      "#....#..#.#..#.#....#..#.#..#.#.......#.\r\n",
      "#....#....####.###..#....#..#.###.....#.\r\n",
      "#....#.##.#..#.#....#.##.#..#.#.......#.\r\n",
      "#....#..#.#..#.#....#..#.#..#.#....#..#.\r\n",
      "####..###.#..#.####..###..##..####..##..\r\n"
     ]
    }
   ],
   "source": [
    "task |> parse ||> foldAll |> printMap"
   ]
  }
 ],
 "metadata": {
  "kernelspec": {
   "display_name": ".NET (F#)",
   "language": "F#",
   "name": ".net-fsharp"
  },
  "language_info": {
   "name": "F#"
  }
 },
 "nbformat": 4,
 "nbformat_minor": 2
}
