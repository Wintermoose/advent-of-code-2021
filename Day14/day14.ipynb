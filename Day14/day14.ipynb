{
 "cells": [
  {
   "cell_type": "markdown",
   "metadata": {},
   "source": [
    "--- Day 14: Extended Polymerization ---\n",
    "\n",
    "The incredible pressures at this depth are starting to put a strain on your submarine. The submarine has polymerization equipment that would produce suitable materials to reinforce the submarine, and the nearby volcanically-active caves should even have the necessary input elements in sufficient quantities.\n",
    "\n",
    "The submarine manual contains instructions for finding the optimal polymer formula; specifically, it offers a polymer template and a list of pair insertion rules (your puzzle input). You just need to work out what polymer would result after repeating the pair insertion process a few times.\n",
    "\n",
    "For example:\n",
    "\n",
    "```\n",
    "NNCB\n",
    "\n",
    "CH -> B\n",
    "HH -> N\n",
    "CB -> H\n",
    "NH -> C\n",
    "HB -> C\n",
    "HC -> B\n",
    "HN -> C\n",
    "NN -> C\n",
    "BH -> H\n",
    "NC -> B\n",
    "NB -> B\n",
    "BN -> B\n",
    "BB -> N\n",
    "BC -> B\n",
    "CC -> N\n",
    "CN -> C\n",
    "```\n",
    "\n",
    "The first line is the polymer template - this is the starting point of the process.\n",
    "\n",
    "The following section defines the pair insertion rules. A rule like AB -> C means that when elements A and B are immediately adjacent, element C should be inserted between them. These insertions all happen simultaneously.\n",
    "\n",
    "So, starting with the polymer template NNCB, the first step simultaneously considers all three pairs:\n",
    "\n",
    "-    The first pair (NN) matches the rule NN -> C, so element C is inserted between the first N and the second N.\n",
    "-    The second pair (NC) matches the rule NC -> B, so element B is inserted between the N and the C.\n",
    "-    The third pair (CB) matches the rule CB -> H, so element H is inserted between the C and the B.\n",
    "\n",
    "Note that these pairs overlap: the second element of one pair is the first element of the next pair. Also, because all pairs are considered simultaneously, inserted elements are not considered to be part of a pair until the next step.\n",
    "\n",
    "After the first step of this process, the polymer becomes NCNBCHB.\n",
    "\n",
    "Here are the results of a few steps using the above rules:\n",
    "\n",
    "```\n",
    "Template:     NNCB\n",
    "After step 1: NCNBCHB\n",
    "After step 2: NBCCNBBBCBHCB\n",
    "After step 3: NBBBCNCCNBBNBNBBCHBHHBCHB\n",
    "After step 4: NBBNBNBBCCNBCNCCNBBNBBNBBBNBBNBBCBHCBHHNHCBBCBHCB\n",
    "```\n",
    "\n",
    "This polymer grows quickly. After step 5, it has length 97; After step 10, it has length 3073. After step 10, B occurs 1749 times, C occurs 298 times, H occurs 161 times, and N occurs 865 times; taking the quantity of the most common element (B, 1749) and subtracting the quantity of the least common element (H, 161) produces 1749 - 161 = 1588.\n",
    "\n",
    "Apply 10 steps of pair insertion to the polymer template and find the most and least common elements in the result. What do you get if you take the quantity of the most common element and subtract the quantity of the least common element?\n"
   ]
  },
  {
   "cell_type": "code",
   "execution_count": null,
   "metadata": {
    "dotnet_interactive": {
     "language": "fsharp"
    }
   },
   "outputs": [
    {
     "data": {
      "text/html": [
       "<table><thead><tr><th>Item1</th><th>Item2</th></tr></thead><tbody><tr><td><div class=\"dni-plaintext\">NNCB</div></td><td><div class=\"dni-plaintext\">[ { [BB, N]: Key: BB, Value: N }, { [BC, B]: Key: BC, Value: B }, { [BH, H]: Key: BH, Value: H }, { [BN, B]: Key: BN, Value: B }, { [CB, H]: Key: CB, Value: H }, { [CC, N]: Key: CC, Value: N }, { [CH, B]: Key: CH, Value: B }, { [CN, C]: Key: CN, Value: C }, { [HB, C]: Key: HB, Value: C }, { [HC, B]: Key: HC, Value: B }, { [HH, N]: Key: HH, Value: N }, { [HN, C]: Key: HN, Value: C }, { [NB, B]: Key: NB, Value: B }, { [NC, B]: Key: NC, Value: B }, { [NH, C]: Key: NH, Value: C }, { [NN, C]: Key: NN, Value: C } ]</div></td></tr></tbody></table>"
      ]
     },
     "metadata": {},
     "output_type": "display_data"
    }
   ],
   "source": [
    "#load \"../Shared/regexp.fsx\"\n",
    "open RegexpMatch\n",
    "\n",
    "let testInput = \"\"\"\n",
    "NNCB\n",
    "\n",
    "CH -> B\n",
    "HH -> N\n",
    "CB -> H\n",
    "NH -> C\n",
    "HB -> C\n",
    "HC -> B\n",
    "HN -> C\n",
    "NN -> C\n",
    "BH -> H\n",
    "NC -> B\n",
    "NB -> B\n",
    "BN -> B\n",
    "BB -> N\n",
    "BC -> B\n",
    "CC -> N\n",
    "CN -> C\n",
    "\"\"\"\n",
    "\n",
    "let parse (input:string) =\n",
    "    let parts = input.Replace(\"\\r\", \"\").Split(\"\\n\\n\")\n",
    "    let template = \n",
    "        parts[0].Split(\"\\n\")\n",
    "        |> Seq.filter ( (<>) \"\" )\n",
    "        |> Seq.head\n",
    "\n",
    "    let rules =\n",
    "        parts[1].Split(\"\\n\")\n",
    "        |> Seq.filter ( (<>) \"\" )\n",
    "        |> Seq.map (\n",
    "            function\n",
    "            | Regex @\"(\\w+)\\s*->\\s*(\\w)\" [pair; split] -> (pair, split)\n",
    "            | token -> failwithf \"Unknown input %s \" token\n",
    "            )\n",
    "        |> Map.ofSeq\n",
    "\n",
    "    (template, rules)\n",
    "\n",
    "testInput |> parse"
   ]
  },
  {
   "cell_type": "code",
   "execution_count": null,
   "metadata": {
    "dotnet_interactive": {
     "language": "fsharp"
    }
   },
   "outputs": [
    {
     "data": {
      "text/html": [
       "<table><thead><tr><th><i>index</i></th><th>value</th></tr></thead><tbody><tr><td>0</td><td>NN</td></tr><tr><td>1</td><td>NC</td></tr><tr><td>2</td><td>CB</td></tr><tr><td>3</td><td>B </td></tr></tbody></table>"
      ]
     },
     "metadata": {},
     "output_type": "display_data"
    }
   ],
   "source": [
    "let splitTemplate (input:string) =\n",
    "    (input + \" \").ToCharArray()\n",
    "    |> Seq.windowed 2\n",
    "    |> Seq.map System.String\n",
    "\n",
    "testInput |> parse |> fst |> splitTemplate"
   ]
  },
  {
   "cell_type": "code",
   "execution_count": null,
   "metadata": {
    "dotnet_interactive": {
     "language": "fsharp"
    }
   },
   "outputs": [
    {
     "data": {
      "text/html": [
       "<table><thead><tr><th><i>index</i></th><th>Item1</th><th>Item2</th></tr></thead><tbody><tr><td>0</td><td>NB</td><td><div class=\"dni-plaintext\">4</div></td></tr><tr><td>1</td><td>BB</td><td><div class=\"dni-plaintext\">4</div></td></tr><tr><td>2</td><td>BC</td><td><div class=\"dni-plaintext\">3</div></td></tr><tr><td>3</td><td>CN</td><td><div class=\"dni-plaintext\">2</div></td></tr><tr><td>4</td><td>NC</td><td><div class=\"dni-plaintext\">1</div></td></tr><tr><td>5</td><td>CC</td><td><div class=\"dni-plaintext\">1</div></td></tr><tr><td>6</td><td>BN</td><td><div class=\"dni-plaintext\">2</div></td></tr><tr><td>7</td><td>CH</td><td><div class=\"dni-plaintext\">2</div></td></tr><tr><td>8</td><td>HB</td><td><div class=\"dni-plaintext\">3</div></td></tr><tr><td>9</td><td>BH</td><td><div class=\"dni-plaintext\">1</div></td></tr><tr><td>10</td><td>HH</td><td><div class=\"dni-plaintext\">1</div></td></tr><tr><td>11</td><td>B </td><td><div class=\"dni-plaintext\">1</div></td></tr></tbody></table>"
      ]
     },
     "metadata": {},
     "output_type": "display_data"
    }
   ],
   "source": [
    "let runPolymerization (steps: int) (template:string) (rules:Map<string, string>) =\n",
    "    let rec runStep (count: int) (state:seq<string * int64>) =\n",
    "        if count=0 then \n",
    "            state\n",
    "        else\n",
    "            state\n",
    "            |> Seq.map ( fun (pair, count) ->\n",
    "                        if Map.containsKey pair rules then\n",
    "                            let insert = rules[pair]\n",
    "                            [\n",
    "                                (pair.Substring(0,1) + insert, count)\n",
    "                                (insert + pair.Substring(1,1), count)\n",
    "                            ]\n",
    "                        else\n",
    "                            [pair, count]\n",
    "                    )\n",
    "            |> Seq.concat\n",
    "            |> Seq.groupBy fst\n",
    "            |> Seq.map (fun (key, pairs) -> \n",
    "                (key, pairs |> (Seq.sumBy snd) )\n",
    "            )\n",
    "            |> runStep (count-1)\n",
    "\n",
    "    template\n",
    "    |> splitTemplate\n",
    "    |> Seq.map (fun key -> (key,1L))\n",
    "    |> runStep steps\n",
    "\n",
    "testInput |> parse ||> runPolymerization 3"
   ]
  },
  {
   "cell_type": "code",
   "execution_count": null,
   "metadata": {
    "dotnet_interactive": {
     "language": "fsharp"
    }
   },
   "outputs": [
    {
     "data": {
      "text/html": [
       "<div class=\"dni-plaintext\">1588</div>"
      ]
     },
     "metadata": {},
     "output_type": "display_data"
    }
   ],
   "source": [
    "let evaluateQuantities (state: seq<string * int64>) =\n",
    "    let ordered = \n",
    "        state\n",
    "        |> Seq.map( fun (pair, count) ->\n",
    "            [\n",
    "                (pair[0], count)\n",
    "            ]\n",
    "        )\n",
    "        |> Seq.concat\n",
    "        |> Seq.groupBy fst\n",
    "        |> Seq.map ( fun (key, items) -> \n",
    "            (key, items |> Seq.sumBy snd )\n",
    "        )\n",
    "        |> Array.ofSeq\n",
    "        |> Array.sortBy snd\n",
    "\n",
    "    (snd ordered[ordered.Length-1] ) - (snd ordered[0])\n",
    "\n",
    "testInput |> parse ||> runPolymerization 10 |> evaluateQuantities"
   ]
  },
  {
   "cell_type": "code",
   "execution_count": null,
   "metadata": {
    "dotnet_interactive": {
     "language": "fsharp"
    }
   },
   "outputs": [
    {
     "data": {
      "text/html": [
       "<div class=\"dni-plaintext\">4244</div>"
      ]
     },
     "metadata": {},
     "output_type": "display_data"
    }
   ],
   "source": [
    "let task = System.IO.File.ReadAllText \"task.txt\"\n",
    "task |> parse ||> runPolymerization 10 |> evaluateQuantities"
   ]
  },
  {
   "cell_type": "markdown",
   "metadata": {},
   "source": [
    "--- Part Two ---\n",
    "\n",
    "The resulting polymer isn't nearly strong enough to reinforce the submarine. You'll need to run more steps of the pair insertion process; a total of 40 steps should do it.\n",
    "\n",
    "In the above example, the most common element is B (occurring 2192039569602 times) and the least common element is H (occurring 3849876073 times); subtracting these produces 2188189693529.\n",
    "\n",
    "Apply 40 steps of pair insertion to the polymer template and find the most and least common elements in the result. What do you get if you take the quantity of the most common element and subtract the quantity of the least common element?\n"
   ]
  },
  {
   "cell_type": "code",
   "execution_count": null,
   "metadata": {
    "dotnet_interactive": {
     "language": "fsharp"
    }
   },
   "outputs": [
    {
     "data": {
      "text/html": [
       "<div class=\"dni-plaintext\">2188189693529</div>"
      ]
     },
     "metadata": {},
     "output_type": "display_data"
    }
   ],
   "source": [
    "testInput |> parse ||> runPolymerization 40 |> evaluateQuantities"
   ]
  },
  {
   "cell_type": "code",
   "execution_count": null,
   "metadata": {
    "dotnet_interactive": {
     "language": "fsharp"
    }
   },
   "outputs": [
    {
     "data": {
      "text/html": [
       "<div class=\"dni-plaintext\">4807056953866</div>"
      ]
     },
     "metadata": {},
     "output_type": "display_data"
    }
   ],
   "source": [
    "task |> parse ||> runPolymerization 40 |> evaluateQuantities"
   ]
  }
 ],
 "metadata": {
  "kernelspec": {
   "display_name": ".NET (F#)",
   "language": "F#",
   "name": ".net-fsharp"
  },
  "language_info": {
   "name": "F#"
  }
 },
 "nbformat": 4,
 "nbformat_minor": 2
}
