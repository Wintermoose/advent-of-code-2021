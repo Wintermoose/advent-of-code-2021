{
 "cells": [
  {
   "cell_type": "markdown",
   "metadata": {},
   "source": [
    "--- Day 7: The Treachery of Whales ---\n",
    "\n",
    "A giant whale has decided your submarine is its next meal, and it's much faster than you are. There's nowhere to run!\n",
    "\n",
    "Suddenly, a swarm of crabs (each in its own tiny submarine - it's too deep for them otherwise) zooms in to rescue you! They seem to be preparing to blast a hole in the ocean floor; sensors indicate a massive underground cave system just beyond where they're aiming!\n",
    "\n",
    "The crab submarines all need to be aligned before they'll have enough power to blast a large enough hole for your submarine to get through. However, it doesn't look like they'll be aligned before the whale catches you! Maybe you can help?\n",
    "\n",
    "There's one major catch - crab submarines can only move horizontally.\n",
    "\n",
    "You quickly make a list of the horizontal position of each crab (your puzzle input). Crab submarines have limited fuel, so you need to find a way to make all of their horizontal positions match while requiring them to spend as little fuel as possible.\n",
    "\n",
    "For example, consider the following horizontal positions:\n",
    "\n",
    "```\n",
    "16,1,2,0,4,2,7,1,2,14\n",
    "```\n",
    "\n",
    "This means there's a crab with horizontal position 16, a crab with horizontal position 1, and so on.\n",
    "\n",
    "Each change of 1 step in horizontal position of a single crab costs 1 fuel. You could choose any horizontal position to align them all on, but the one that costs the least fuel is horizontal position 2:\n",
    "\n",
    "```\n",
    "    Move from 16 to 2: 14 fuel\n",
    "    Move from 1 to 2: 1 fuel\n",
    "    Move from 2 to 2: 0 fuel\n",
    "    Move from 0 to 2: 2 fuel\n",
    "    Move from 4 to 2: 2 fuel\n",
    "    Move from 2 to 2: 0 fuel\n",
    "    Move from 7 to 2: 5 fuel\n",
    "    Move from 1 to 2: 1 fuel\n",
    "    Move from 2 to 2: 0 fuel\n",
    "    Move from 14 to 2: 12 fuel\n",
    "```\n",
    "\n",
    "This costs a total of 37 fuel. This is the cheapest possible outcome; more expensive outcomes include aligning at position 1 (41 fuel), position 3 (39 fuel), or position 10 (71 fuel).\n",
    "\n",
    "Determine the horizontal position that the crabs can align to using the least fuel possible. How much fuel must they spend to align to that position?\n"
   ]
  },
  {
   "cell_type": "code",
   "execution_count": null,
   "metadata": {
    "dotnet_interactive": {
     "language": "fsharp"
    }
   },
   "outputs": [
    {
     "data": {
      "text/html": [
       "<table><thead><tr><th><i>index</i></th><th>value</th></tr></thead><tbody><tr><td>0</td><td><div class=\"dni-plaintext\">16</div></td></tr><tr><td>1</td><td><div class=\"dni-plaintext\">1</div></td></tr><tr><td>2</td><td><div class=\"dni-plaintext\">2</div></td></tr><tr><td>3</td><td><div class=\"dni-plaintext\">0</div></td></tr><tr><td>4</td><td><div class=\"dni-plaintext\">4</div></td></tr><tr><td>5</td><td><div class=\"dni-plaintext\">2</div></td></tr><tr><td>6</td><td><div class=\"dni-plaintext\">7</div></td></tr><tr><td>7</td><td><div class=\"dni-plaintext\">1</div></td></tr><tr><td>8</td><td><div class=\"dni-plaintext\">2</div></td></tr><tr><td>9</td><td><div class=\"dni-plaintext\">14</div></td></tr></tbody></table>"
      ]
     },
     "metadata": {},
     "output_type": "display_data"
    }
   ],
   "source": [
    "let testInput = \"16,1,2,0,4,2,7,1,2,14\"\n",
    "\n",
    "let parse (input: string ) = \n",
    "    input.Split(\",\") \n",
    "    |> Seq.map int\n",
    "\n",
    "testInput |> parse"
   ]
  },
  {
   "cell_type": "code",
   "execution_count": null,
   "metadata": {
    "dotnet_interactive": {
     "language": "fsharp"
    }
   },
   "outputs": [
    {
     "data": {
      "text/html": [
       "<div class=\"dni-plaintext\">37</div>"
      ]
     },
     "metadata": {},
     "output_type": "display_data"
    }
   ],
   "source": [
    "let sumMoveCost (pos: int) (crabs: seq<int> ) =\n",
    "    crabs \n",
    "    |> Seq.sumBy( fun crab -> Math.Abs(crab - pos ))\n",
    "\n",
    "testInput |> parse |> sumMoveCost 2"
   ]
  },
  {
   "cell_type": "code",
   "execution_count": null,
   "metadata": {
    "dotnet_interactive": {
     "language": "fsharp"
    }
   },
   "outputs": [
    {
     "data": {
      "text/html": [
       "<table><thead><tr><th>Item1</th><th>Item2</th></tr></thead><tbody><tr><td><div class=\"dni-plaintext\">2</div></td><td><div class=\"dni-plaintext\">37</div></td></tr></tbody></table>"
      ]
     },
     "metadata": {},
     "output_type": "display_data"
    }
   ],
   "source": [
    "let findOptimalPos (crabs: seq<int> ) =\n",
    "    let max = Seq.max crabs\n",
    "    let mutable bestFuel = 1000000\n",
    "    let mutable bestPos = 0\n",
    "    for pos = 1 to max do\n",
    "        let fuel = sumMoveCost pos crabs\n",
    "        if fuel < bestFuel then\n",
    "            bestFuel <- fuel\n",
    "            bestPos <- pos\n",
    "\n",
    "    (bestPos,bestFuel)\n",
    "\n",
    "testInput |> parse |> findOptimalPos"
   ]
  },
  {
   "cell_type": "code",
   "execution_count": null,
   "metadata": {
    "dotnet_interactive": {
     "language": "fsharp"
    }
   },
   "outputs": [
    {
     "data": {
      "text/html": [
       "<table><thead><tr><th>Item1</th><th>Item2</th></tr></thead><tbody><tr><td><div class=\"dni-plaintext\">371</div></td><td><div class=\"dni-plaintext\">341558</div></td></tr></tbody></table>"
      ]
     },
     "metadata": {},
     "output_type": "display_data"
    }
   ],
   "source": [
    "let task = System.IO.File.ReadAllText \"task.txt\"\n",
    "task |> parse |> findOptimalPos"
   ]
  },
  {
   "cell_type": "markdown",
   "metadata": {},
   "source": [
    "--- Part Two ---\n",
    "\n",
    "The crabs don't seem interested in your proposed solution. Perhaps you misunderstand crab engineering?\n",
    "\n",
    "As it turns out, crab submarine engines don't burn fuel at a constant rate. Instead, each change of 1 step in horizontal position costs 1 more unit of fuel than the last: the first step costs 1, the second step costs 2, the third step costs 3, and so on.\n",
    "\n",
    "As each crab moves, moving further becomes more expensive. This changes the best horizontal position to align them all on; in the example above, this becomes 5:\n",
    "\n",
    "```\n",
    "    Move from 16 to 5: 66 fuel\n",
    "    Move from 1 to 5: 10 fuel\n",
    "    Move from 2 to 5: 6 fuel\n",
    "    Move from 0 to 5: 15 fuel\n",
    "    Move from 4 to 5: 1 fuel\n",
    "    Move from 2 to 5: 6 fuel\n",
    "    Move from 7 to 5: 3 fuel\n",
    "    Move from 1 to 5: 10 fuel\n",
    "    Move from 2 to 5: 6 fuel\n",
    "    Move from 14 to 5: 45 fuel\n",
    "```\n",
    "\n",
    "This costs a total of 168 fuel. This is the new cheapest possible outcome; the old alignment position (2) now costs 206 fuel instead.\n",
    "\n",
    "Determine the horizontal position that the crabs can align to using the least fuel possible so they can make you an escape route! How much fuel must they spend to align to that position?\n"
   ]
  },
  {
   "cell_type": "code",
   "execution_count": null,
   "metadata": {
    "dotnet_interactive": {
     "language": "fsharp"
    }
   },
   "outputs": [
    {
     "data": {
      "text/html": [
       "<div class=\"dni-plaintext\">206</div>"
      ]
     },
     "metadata": {},
     "output_type": "display_data"
    }
   ],
   "source": [
    "let sumMoveCostCummulative (pos: int64) (crabs: seq<int> ) =\n",
    "    crabs \n",
    "    |> Seq.sumBy( fun crab -> \n",
    "        let distance = int64 (Math.Abs(int64 crab - pos));\n",
    "        distance * ( distance + 1L) / 2L\n",
    "    )\n",
    "\n",
    "testInput |> parse |> sumMoveCostCummulative 2"
   ]
  },
  {
   "cell_type": "code",
   "execution_count": null,
   "metadata": {
    "dotnet_interactive": {
     "language": "fsharp"
    }
   },
   "outputs": [
    {
     "data": {
      "text/html": [
       "<table><thead><tr><th>Item1</th><th>Item2</th></tr></thead><tbody><tr><td><div class=\"dni-plaintext\">5</div></td><td><div class=\"dni-plaintext\">168</div></td></tr></tbody></table>"
      ]
     },
     "metadata": {},
     "output_type": "display_data"
    }
   ],
   "source": [
    "let findOptimalPosCummulative (crabs: seq<int> ) =\n",
    "    let max = Seq.max crabs\n",
    "    let mutable bestFuel = 0L\n",
    "    let mutable bestPos = 0L\n",
    "    for pos = 1 to max do\n",
    "        let fuel = sumMoveCostCummulative (int64 pos) crabs\n",
    "        if bestFuel = 0L || fuel < bestFuel then\n",
    "            bestFuel <- fuel\n",
    "            bestPos <- pos\n",
    "\n",
    "    (bestPos,bestFuel)\n",
    "\n",
    "testInput |> parse |> findOptimalPosCummulative"
   ]
  },
  {
   "cell_type": "code",
   "execution_count": null,
   "metadata": {},
   "outputs": [
    {
     "data": {
      "text/html": [
       "<table><thead><tr><th>Item1</th><th>Item2</th></tr></thead><tbody><tr><td><div class=\"dni-plaintext\">484</div></td><td><div class=\"dni-plaintext\">93214037</div></td></tr></tbody></table>"
      ]
     },
     "metadata": {},
     "output_type": "display_data"
    }
   ],
   "source": [
    "task |> parse |> findOptimalPosCummulative"
   ]
  }
 ],
 "metadata": {
  "kernelspec": {
   "display_name": ".NET (F#)",
   "language": "F#",
   "name": ".net-fsharp"
  },
  "language_info": {
   "name": "F#"
  }
 },
 "nbformat": 4,
 "nbformat_minor": 2
}
