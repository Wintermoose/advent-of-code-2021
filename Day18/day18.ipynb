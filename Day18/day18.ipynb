{
 "cells": [
  {
   "cell_type": "markdown",
   "metadata": {},
   "source": [
    "--- Day 18: Snailfish ---\n",
    "\n",
    "You descend into the ocean trench and encounter some snailfish. They say they saw the sleigh keys! They'll even tell you which direction the keys went if you help one of the smaller snailfish with his math homework.\n",
    "\n",
    "Snailfish numbers aren't like regular numbers. Instead, every snailfish number is a pair - an ordered list of two elements. Each element of the pair can be either a regular number or another pair.\n",
    "\n",
    "Pairs are written as [x,y], where x and y are the elements within the pair. Here are some example snailfish numbers, one snailfish number per line:\n",
    "\n",
    "```\n",
    "[1,2]\n",
    "[[1,2],3]\n",
    "[9,[8,7]]\n",
    "[[1,9],[8,5]]\n",
    "[[[[1,2],[3,4]],[[5,6],[7,8]]],9]\n",
    "[[[9,[3,8]],[[0,9],6]],[[[3,7],[4,9]],3]]\n",
    "[[[[1,3],[5,3]],[[1,3],[8,7]]],[[[4,9],[6,9]],[[8,2],[7,3]]]]\n",
    "```\n",
    "\n",
    "This snailfish homework is about addition. To add two snailfish numbers, form a pair from the left and right parameters of the addition operator. For example, [1,2] + [[3,4],5] becomes [[1,2],[[3,4],5]].\n",
    "\n",
    "There's only one problem: snailfish numbers must always be reduced, and the process of adding two snailfish numbers can result in snailfish numbers that need to be reduced.\n",
    "\n",
    "To reduce a snailfish number, you must repeatedly do the first action in this list that applies to the snailfish number:\n",
    "\n",
    "-    If any pair is nested inside four pairs, the leftmost such pair explodes.\n",
    "-    If any regular number is 10 or greater, the leftmost such regular number splits.\n",
    "\n",
    "Once no action in the above list applies, the snailfish number is reduced.\n",
    "\n",
    "During reduction, at most one action applies, after which the process returns to the top of the list of actions. For example, if split produces a pair that meets the explode criteria, that pair explodes before other splits occur.\n",
    "\n",
    "To explode a pair, the pair's left value is added to the first regular number to the left of the exploding pair (if any), and the pair's right value is added to the first regular number to the right of the exploding pair (if any). Exploding pairs will always consist of two regular numbers. Then, the entire exploding pair is replaced with the regular number 0.\n",
    "\n",
    "Here are some examples of a single explode action:\n",
    "\n",
    "-    [[[[[9,8],1],2],3],4] becomes [[[[0,9],2],3],4] (the 9 has no regular number to its left, so it is not added to any regular number).\n",
    "-    [7,[6,[5,[4,[3,2]]]]] becomes [7,[6,[5,[7,0]]]] (the 2 has no regular number to its right, and so it is not added to any regular number).\n",
    "-    [[6,[5,[4,[3,2]]]],1] becomes [[6,[5,[7,0]]],3].\n",
    "-    [[3,[2,[1,[7,3]]]],[6,[5,[4,[3,2]]]]] becomes [[3,[2,[8,0]]],[9,[5,[4,[3,2]]]]] (the pair [3,2] is unaffected because the pair [7,3] is further to the left; [3,2] would explode on the next action).\n",
    "-    [[3,[2,[8,0]]],[9,[5,[4,[3,2]]]]] becomes [[3,[2,[8,0]]],[9,[5,[7,0]]]].\n",
    "\n",
    "To split a regular number, replace it with a pair; the left element of the pair should be the regular number divided by two and rounded down, while the right element of the pair should be the regular number divided by two and rounded up. For example, 10 becomes [5,5], 11 becomes [5,6], 12 becomes [6,6], and so on.\n",
    "\n",
    "Here is the process of finding the reduced result of [[[[4,3],4],4],[7,[[8,4],9]]] + [1,1]:\n",
    "\n",
    "- after addition: [[[[[4,3],4],4],[7,[[8,4],9]]],[1,1]]\n",
    "- after explode:  [[[[0,7],4],[7,[[8,4],9]]],[1,1]]\n",
    "- after explode:  [[[[0,7],4],[15,[0,13]]],[1,1]]\n",
    "- after split:    [[[[0,7],4],[[7,8],[0,13]]],[1,1]]\n",
    "- after split:    [[[[0,7],4],[[7,8],[0,[6,7]]]],[1,1]]\n",
    "- after explode:  [[[[0,7],4],[[7,8],[6,0]]],[8,1]]\n",
    "\n",
    "Once no reduce actions apply, the snailfish number that remains is the actual result of the addition operation: [[[[0,7],4],[[7,8],[6,0]]],[8,1]].\n",
    "\n",
    "The homework assignment involves adding up a list of snailfish numbers (your puzzle input). The snailfish numbers are each listed on a separate line. Add the first snailfish number and the second, then add that result and the third, then add that result and the fourth, and so on until all numbers in the list have been used once.\n",
    "\n",
    "For example, the final sum of this list is [[[[1,1],[2,2]],[3,3]],[4,4]]:\n",
    "\n",
    "```\n",
    "[1,1]\n",
    "[2,2]\n",
    "[3,3]\n",
    "[4,4]\n",
    "```\n",
    "\n",
    "The final sum of this list is [[[[3,0],[5,3]],[4,4]],[5,5]]:\n",
    "\n",
    "```\n",
    "[1,1]\n",
    "[2,2]\n",
    "[3,3]\n",
    "[4,4]\n",
    "[5,5]\n",
    "```\n",
    "\n",
    "The final sum of this list is [[[[5,0],[7,4]],[5,5]],[6,6]]:\n",
    "\n",
    "```\n",
    "[1,1]\n",
    "[2,2]\n",
    "[3,3]\n",
    "[4,4]\n",
    "[5,5]\n",
    "[6,6]\n",
    "```\n",
    "\n",
    "Here's a slightly larger example:\n",
    "\n",
    "```\n",
    "[[[0,[4,5]],[0,0]],[[[4,5],[2,6]],[9,5]]]\n",
    "[7,[[[3,7],[4,3]],[[6,3],[8,8]]]]\n",
    "[[2,[[0,8],[3,4]]],[[[6,7],1],[7,[1,6]]]]\n",
    "[[[[2,4],7],[6,[0,5]]],[[[6,8],[2,8]],[[2,1],[4,5]]]]\n",
    "[7,[5,[[3,8],[1,4]]]]\n",
    "[[2,[2,2]],[8,[8,1]]]\n",
    "[2,9]\n",
    "[1,[[[9,3],9],[[9,0],[0,7]]]]\n",
    "[[[5,[7,4]],7],1]\n",
    "[[[[4,2],2],6],[8,7]]\n",
    "```\n",
    "\n",
    "The final sum [[[[8,7],[7,7]],[[8,6],[7,7]]],[[[0,7],[6,6]],[8,7]]] is found after adding up the above snailfish numbers:\n",
    "\n",
    "```\n",
    "  [[[0,[4,5]],[0,0]],[[[4,5],[2,6]],[9,5]]]\n",
    "+ [7,[[[3,7],[4,3]],[[6,3],[8,8]]]]\n",
    "= [[[[4,0],[5,4]],[[7,7],[6,0]]],[[8,[7,7]],[[7,9],[5,0]]]]\n",
    "\n",
    "  [[[[4,0],[5,4]],[[7,7],[6,0]]],[[8,[7,7]],[[7,9],[5,0]]]]\n",
    "+ [[2,[[0,8],[3,4]]],[[[6,7],1],[7,[1,6]]]]\n",
    "= [[[[6,7],[6,7]],[[7,7],[0,7]]],[[[8,7],[7,7]],[[8,8],[8,0]]]]\n",
    "\n",
    "  [[[[6,7],[6,7]],[[7,7],[0,7]]],[[[8,7],[7,7]],[[8,8],[8,0]]]]\n",
    "+ [[[[2,4],7],[6,[0,5]]],[[[6,8],[2,8]],[[2,1],[4,5]]]]\n",
    "= [[[[7,0],[7,7]],[[7,7],[7,8]]],[[[7,7],[8,8]],[[7,7],[8,7]]]]\n",
    "\n",
    "  [[[[7,0],[7,7]],[[7,7],[7,8]]],[[[7,7],[8,8]],[[7,7],[8,7]]]]\n",
    "+ [7,[5,[[3,8],[1,4]]]]\n",
    "= [[[[7,7],[7,8]],[[9,5],[8,7]]],[[[6,8],[0,8]],[[9,9],[9,0]]]]\n",
    "\n",
    "  [[[[7,7],[7,8]],[[9,5],[8,7]]],[[[6,8],[0,8]],[[9,9],[9,0]]]]\n",
    "+ [[2,[2,2]],[8,[8,1]]]\n",
    "= [[[[6,6],[6,6]],[[6,0],[6,7]]],[[[7,7],[8,9]],[8,[8,1]]]]\n",
    "\n",
    "  [[[[6,6],[6,6]],[[6,0],[6,7]]],[[[7,7],[8,9]],[8,[8,1]]]]\n",
    "+ [2,9]\n",
    "= [[[[6,6],[7,7]],[[0,7],[7,7]]],[[[5,5],[5,6]],9]]\n",
    "\n",
    "  [[[[6,6],[7,7]],[[0,7],[7,7]]],[[[5,5],[5,6]],9]]\n",
    "+ [1,[[[9,3],9],[[9,0],[0,7]]]]\n",
    "= [[[[7,8],[6,7]],[[6,8],[0,8]]],[[[7,7],[5,0]],[[5,5],[5,6]]]]\n",
    "\n",
    "  [[[[7,8],[6,7]],[[6,8],[0,8]]],[[[7,7],[5,0]],[[5,5],[5,6]]]]\n",
    "+ [[[5,[7,4]],7],1]\n",
    "= [[[[7,7],[7,7]],[[8,7],[8,7]]],[[[7,0],[7,7]],9]]\n",
    "\n",
    "  [[[[7,7],[7,7]],[[8,7],[8,7]]],[[[7,0],[7,7]],9]]\n",
    "+ [[[[4,2],2],6],[8,7]]\n",
    "= [[[[8,7],[7,7]],[[8,6],[7,7]]],[[[0,7],[6,6]],[8,7]]]\n",
    "```\n",
    "\n",
    "To check whether it's the right answer, the snailfish teacher only checks the magnitude of the final sum. The magnitude of a pair is 3 times the magnitude of its left element plus 2 times the magnitude of its right element. The magnitude of a regular number is just that number.\n",
    "\n",
    "For example, the magnitude of [9,1] is 3*9 + 2*1 = 29; the magnitude of [1,9] is 3*1 + 2*9 = 21. Magnitude calculations are recursive: the magnitude of [[9,1],[1,9]] is 3*29 + 2*21 = 129.\n",
    "\n",
    "Here are a few more magnitude examples:\n",
    "\n",
    "-    [[1,2],[[3,4],5]] becomes 143.\n",
    "-    [[[[0,7],4],[[7,8],[6,0]]],[8,1]] becomes 1384.\n",
    "-    [[[[1,1],[2,2]],[3,3]],[4,4]] becomes 445.\n",
    "-    [[[[3,0],[5,3]],[4,4]],[5,5]] becomes 791.\n",
    "-    [[[[5,0],[7,4]],[5,5]],[6,6]] becomes 1137.\n",
    "-    [[[[8,7],[7,7]],[[8,6],[7,7]]],[[[0,7],[6,6]],[8,7]]] becomes 3488.\n",
    "\n",
    "So, given this example homework assignment:\n",
    "\n",
    "```\n",
    "[[[0,[5,8]],[[1,7],[9,6]]],[[4,[1,2]],[[1,4],2]]]\n",
    "[[[5,[2,8]],4],[5,[[9,9],0]]]\n",
    "[6,[[[6,2],[5,6]],[[7,6],[4,7]]]]\n",
    "[[[6,[0,7]],[0,9]],[4,[9,[9,0]]]]\n",
    "[[[7,[6,4]],[3,[1,3]]],[[[5,5],1],9]]\n",
    "[[6,[[7,3],[3,2]]],[[[3,8],[5,7]],4]]\n",
    "[[[[5,4],[7,7]],8],[[8,3],8]]\n",
    "[[9,3],[[9,9],[6,[4,9]]]]\n",
    "[[2,[[7,7],7]],[[5,8],[[9,3],[0,2]]]]\n",
    "[[[[5,2],5],[8,[3,7]]],[[5,[7,5]],[4,4]]]\n",
    "```\n",
    "\n",
    "The final sum is:\n",
    "\n",
    "```\n",
    "[[[[6,6],[7,6]],[[7,7],[7,0]]],[[[7,7],[7,7]],[[7,8],[9,9]]]]\n",
    "```\n",
    "\n",
    "The magnitude of this final sum is 4140.\n",
    "\n",
    "Add up all of the snailfish numbers from the homework assignment in the order they appear. What is the magnitude of the final sum?\n"
   ]
  },
  {
   "cell_type": "code",
   "execution_count": null,
   "metadata": {
    "dotnet_interactive": {
     "language": "fsharp"
    }
   },
   "outputs": [
    {
     "data": {
      "text/html": [
       "<table><thead><tr><th>left</th><th>right</th></tr></thead><tbody><tr><td><div class=\"dni-plaintext\">{ Simple 1: value: 1 }</div></td><td><div class=\"dni-plaintext\">{ Simple 2: value: 2 }</div></td></tr></tbody></table>"
      ]
     },
     "metadata": {},
     "output_type": "display_data"
    }
   ],
   "source": [
    "type Number = Simple of value:int | Pair of left: Number * right: Number\n",
    "let parseNumber (input:string) =\n",
    "    let rec parseTerm (buffer: char[]): Number * char[] =\n",
    "        match buffer[0] with\n",
    "        | '[' -> \n",
    "                let (n1, rest1) = parseTerm buffer[1..]\n",
    "                if rest1[0]<>',' then\n",
    "                    failwithf \"Unexpected input '%c', expected ','\" rest1[0]\n",
    "                let (n2, rest2) = parseTerm rest1[1..]\n",
    "                if rest2[0]<>']' then\n",
    "                    failwithf \"Unexpected input '%c', expected ']'\" rest2[0]\n",
    "                (Pair(n1, n2), rest2[1..])\n",
    "        | '0' | '1' | '2' | '3' | '4' | '5' | '6' | '7' | '8' | '9' ->\n",
    "                (Simple( int(buffer[0]) - 48), buffer[1..])\n",
    "        | token -> failwithf \"Unexpected input '%c', expected '[' or a digit\" token\n",
    "\n",
    "    parseTerm (input.ToCharArray()) |> fst\n",
    "\n",
    "parseNumber \"[1,2]\"\n"
   ]
  },
  {
   "cell_type": "code",
   "execution_count": null,
   "metadata": {
    "dotnet_interactive": {
     "language": "fsharp"
    }
   },
   "outputs": [
    {
     "data": {
      "text/html": [
       "<table><thead><tr><th>left</th><th>right</th></tr></thead><tbody><tr><td><div class=\"dni-plaintext\">{ Pair (Simple 1, Simple 2): left: { Simple 1: value: 1 }, right: { Simple 2: value: 2 } }</div></td><td><div class=\"dni-plaintext\">{ Simple 3: value: 3 }</div></td></tr></tbody></table>"
      ]
     },
     "metadata": {},
     "output_type": "display_data"
    }
   ],
   "source": [
    "parseNumber \"[[1,2],3]\""
   ]
  },
  {
   "cell_type": "code",
   "execution_count": null,
   "metadata": {
    "dotnet_interactive": {
     "language": "fsharp"
    }
   },
   "outputs": [
    {
     "data": {
      "text/html": [
       "<table><thead><tr><th>left</th><th>right</th></tr></thead><tbody><tr><td><div class=\"dni-plaintext\">{ Pair\n",
       "  (Pair (Pair (Simple 1, Simple 3), Pair (Simple 5, Simple 3)),\n",
       "   Pair (Pair (Simple 1, Simple 3), Pair (Simple 8, Simple 7))): left: { Pair (Pair (Simple 1, Simple 3), Pair (Simple 5, Simple 3)): left: { Pair (Simple 1, Simple 3): left: { Simple 1: value: 1 }, right: { Simple 3: value: 3 } }, right: { Pair (Simple 5, Simple 3): left: { Simple 5: value: 5 }, right: { Simple 3: value: 3 } } }, right: { Pair (Pair (Simple 1, Simple 3), Pair (Simple 8, Simple 7)): left: { Pair (Simple 1, Simple 3): left: { Simple 1: value: 1 }, right: { Simple 3: value: 3 } }, right: { Pair (Simple 8, Simple 7): left: { Simple 8: value: 8 }, right: { Simple 7: value: 7 } } } }</div></td><td><div class=\"dni-plaintext\">{ Pair\n",
       "  (Pair (Pair (Simple 4, Simple 9), Pair (Simple 6, Simple 9)),\n",
       "   Pair (Pair (Simple 8, Simple 2), Pair (Simple 7, Simple 3))): left: { Pair (Pair (Simple 4, Simple 9), Pair (Simple 6, Simple 9)): left: { Pair (Simple 4, Simple 9): left: { Simple 4: value: 4 }, right: { Simple 9: value: 9 } }, right: { Pair (Simple 6, Simple 9): left: { Simple 6: value: 6 }, right: { Simple 9: value: 9 } } }, right: { Pair (Pair (Simple 8, Simple 2), Pair (Simple 7, Simple 3)): left: { Pair (Simple 8, Simple 2): left: { Simple 8: value: 8 }, right: { Simple 2: value: 2 } }, right: { Pair (Simple 7, Simple 3): left: { Simple 7: value: 7 }, right: { Simple 3: value: 3 } } } }</div></td></tr></tbody></table>"
      ]
     },
     "metadata": {},
     "output_type": "display_data"
    }
   ],
   "source": [
    "parseNumber \"[[[[1,3],[5,3]],[[1,3],[8,7]]],[[[4,9],[6,9]],[[8,2],[7,3]]]]\""
   ]
  },
  {
   "cell_type": "code",
   "execution_count": null,
   "metadata": {
    "dotnet_interactive": {
     "language": "fsharp"
    }
   },
   "outputs": [
    {
     "data": {
      "text/plain": [
       "[[[[1,3],[5,3]],[[1,3],[8,7]]],[[[4,9],[6,9]],[[8,2],[7,3]]]]"
      ]
     },
     "metadata": {},
     "output_type": "display_data"
    }
   ],
   "source": [
    "let rec numberToString (input:Number) =\n",
    "    match input with\n",
    "    | Simple(value) -> value.ToString()\n",
    "    | Pair(left, right) -> \"[\" + (numberToString left) + \",\" + (numberToString right) + \"]\"\n",
    "\n",
    "parseNumber \"[[[[1,3],[5,3]],[[1,3],[8,7]]],[[[4,9],[6,9]],[[8,2],[7,3]]]]\" |> numberToString\n"
   ]
  },
  {
   "cell_type": "code",
   "execution_count": null,
   "metadata": {
    "dotnet_interactive": {
     "language": "fsharp"
    }
   },
   "outputs": [],
   "source": [
    "let explodeNumber (input: Number): (Number*bool) =\n",
    "    let rec doExplode (input:Number) (depth: int) =\n",
    "        match input with\n",
    "        | Simple(value) -> (input, None, None, false)\n",
    "        \n",
    "        | Pair(left, right) -> \n",
    "            if depth = 4 then\n",
    "                match (left, right) with\n",
    "                | (Simple(l), Simple(r)) -> (Simple(0), Some l, Some r, true)\n",
    "                | _ -> failwithf \"Unexpected deep pair %A\" input\n",
    "            else            \n",
    "                let (leftResult, spreadToLeft1, spreadToRight1, foundLeft) = doExplode left (depth+1)\n",
    "                if foundLeft then\n",
    "                    ( \n",
    "                        Pair(leftResult, addToLeft right spreadToRight1), \n",
    "                        spreadToLeft1, \n",
    "                        None, \n",
    "                        true \n",
    "                    )\n",
    "                else\n",
    "                    let (rightResult, spreadToLeft2, spreadToRight2, foundRight) = doExplode right (depth+1)\n",
    "                    if foundRight then\n",
    "                        (\n",
    "                            Pair(addToRight left spreadToLeft2, rightResult), \n",
    "                            None, \n",
    "                            spreadToRight2, \n",
    "                            true)\n",
    "                    else\n",
    "                        (\n",
    "                            input,\n",
    "                            None, \n",
    "                            None, \n",
    "                            false\n",
    "                        )\n",
    "\n",
    "    and addToRight (tree:Number) (add:option<int>) =\n",
    "        if add.IsSome then\n",
    "            match tree with\n",
    "            | Simple(value) -> Simple(value + add.Value)\n",
    "            | Pair(left, right) -> Pair(left, addToRight right add)\n",
    "        else\n",
    "            tree\n",
    "\n",
    "    and addToLeft (tree: Number) (add:option<int>) =\n",
    "        if add.IsSome then\n",
    "            match tree with\n",
    "            | Simple(value) -> Simple(value + add.Value)\n",
    "            | Pair(left, right) -> Pair(addToLeft left add, right)\n",
    "        else\n",
    "            tree\n",
    "\n",
    "    let (result, _, _, found ) = doExplode input 0\n",
    "    (result, found)"
   ]
  },
  {
   "cell_type": "code",
   "execution_count": null,
   "metadata": {
    "dotnet_interactive": {
     "language": "fsharp"
    }
   },
   "outputs": [
    {
     "data": {
      "text/plain": [
       "[[[[0,9],2],3],4]"
      ]
     },
     "metadata": {},
     "output_type": "display_data"
    }
   ],
   "source": [
    "\"[[[[[9,8],1],2],3],4]\" |> parseNumber |> explodeNumber |> fst |> numberToString  // [[[[0,9],2],3],4]"
   ]
  },
  {
   "cell_type": "code",
   "execution_count": null,
   "metadata": {
    "dotnet_interactive": {
     "language": "fsharp"
    }
   },
   "outputs": [
    {
     "data": {
      "text/plain": [
       "[7,[6,[5,[7,0]]]]"
      ]
     },
     "metadata": {},
     "output_type": "display_data"
    }
   ],
   "source": [
    "\"[7,[6,[5,[4,[3,2]]]]]\" |> parseNumber |> explodeNumber |> fst |> numberToString  // [7,[6,[5,[7,0]]]]"
   ]
  },
  {
   "cell_type": "code",
   "execution_count": null,
   "metadata": {
    "dotnet_interactive": {
     "language": "fsharp"
    }
   },
   "outputs": [
    {
     "data": {
      "text/plain": [
       "[[6,[5,[7,0]]],3]"
      ]
     },
     "metadata": {},
     "output_type": "display_data"
    }
   ],
   "source": [
    "\"[[6,[5,[4,[3,2]]]],1]\" |> parseNumber |> explodeNumber |> fst |> numberToString  // [[6,[5,[7,0]]],3]"
   ]
  },
  {
   "cell_type": "code",
   "execution_count": null,
   "metadata": {
    "dotnet_interactive": {
     "language": "fsharp"
    }
   },
   "outputs": [
    {
     "data": {
      "text/plain": [
       "[[3,[2,[8,0]]],[9,[5,[4,[3,2]]]]]"
      ]
     },
     "metadata": {},
     "output_type": "display_data"
    }
   ],
   "source": [
    "\"[[3,[2,[1,[7,3]]]],[6,[5,[4,[3,2]]]]]\"  |> parseNumber |> explodeNumber |> fst |> numberToString  // [[3,[2,[8,0]]],[9,[5,[4,[3,2]]]]]"
   ]
  },
  {
   "cell_type": "code",
   "execution_count": null,
   "metadata": {
    "dotnet_interactive": {
     "language": "fsharp"
    }
   },
   "outputs": [
    {
     "data": {
      "text/plain": [
       "[[3,[2,[8,0]]],[9,[5,[7,0]]]]"
      ]
     },
     "metadata": {},
     "output_type": "display_data"
    }
   ],
   "source": [
    "\"[[3,[2,[8,0]]],[9,[5,[4,[3,2]]]]]\" |> parseNumber |> explodeNumber |> fst |> numberToString // [[3,[2,[8,0]]],[9,[5,[7,0]]]]"
   ]
  },
  {
   "cell_type": "code",
   "execution_count": null,
   "metadata": {
    "dotnet_interactive": {
     "language": "fsharp"
    }
   },
   "outputs": [
    {
     "data": {
      "text/plain": [
       "[5,6]"
      ]
     },
     "metadata": {},
     "output_type": "display_data"
    }
   ],
   "source": [
    "let splitNumber (input: Number) =\n",
    "    let rec splitDo (input:Number) =\n",
    "        match input with\n",
    "        | Simple(value) when value > 9 ->\n",
    "            let left = value/2;\n",
    "            let right = value - left;\n",
    "            (Pair(Simple(left), Simple(right)), true)\n",
    "        | Simple(value) -> (Simple(value), false)\n",
    "        | Pair(left, right) ->\n",
    "            let (newLeft, foundLeft) = splitDo left\n",
    "            if foundLeft then\n",
    "                (Pair(newLeft, right), true)\n",
    "            else\n",
    "                let (newRight, foundRight) = splitDo right\n",
    "                (Pair(newLeft, newRight), foundRight)\n",
    "\n",
    "    splitDo input\n",
    "\n",
    "Simple(11) |> splitNumber |> fst |>  numberToString"
   ]
  },
  {
   "cell_type": "code",
   "execution_count": null,
   "metadata": {
    "dotnet_interactive": {
     "language": "fsharp"
    }
   },
   "outputs": [
    {
     "data": {
      "text/plain": [
       "[[[[0,7],4],[[7,8],[0,13]]],[1,1]]"
      ]
     },
     "metadata": {},
     "output_type": "display_data"
    }
   ],
   "source": [
    "\"[[[[0,7],4],[7,[[8,4],9]]],[1,1]]\" |> parseNumber |> explodeNumber |> fst|> splitNumber |> fst |> numberToString // [[[[0,7],4],[[7,8],[0,13]]],[1,1]]"
   ]
  },
  {
   "cell_type": "code",
   "execution_count": null,
   "metadata": {
    "dotnet_interactive": {
     "language": "fsharp"
    }
   },
   "outputs": [],
   "source": [
    "let rec simplifyNumber (input: Number) =\n",
    "    let (exploded, explodeTriggered) = explodeNumber input\n",
    "    if explodeTriggered then \n",
    "        // printfn \"EX %A\" (exploded |> numberToString)\n",
    "        simplifyNumber exploded\n",
    "    else\n",
    "        let (split, splitTriggered) = splitNumber exploded\n",
    "        if splitTriggered then \n",
    "            // printfn \"SP %A\" (split |> numberToString)\n",
    "            simplifyNumber split\n",
    "        else\n",
    "            exploded\n",
    "    "
   ]
  },
  {
   "cell_type": "code",
   "execution_count": null,
   "metadata": {
    "dotnet_interactive": {
     "language": "fsharp"
    }
   },
   "outputs": [
    {
     "data": {
      "text/plain": [
       "[[[[0,7],4],[[7,8],[6,0]]],[8,1]]"
      ]
     },
     "metadata": {},
     "output_type": "display_data"
    }
   ],
   "source": [
    "\"[[[[[4,3],4],4],[7,[[8,4],9]]],[1,1]]\" |> parseNumber |> simplifyNumber |> numberToString  // [[[[0,7],4],[[7,8],[6,0]]],[8,1]]"
   ]
  },
  {
   "cell_type": "code",
   "execution_count": null,
   "metadata": {
    "dotnet_interactive": {
     "language": "fsharp"
    }
   },
   "outputs": [],
   "source": [
    "let addNumbers (left: Number) (right: Number) =\n",
    "    Pair(left, right)\n",
    "    |> simplifyNumber "
   ]
  },
  {
   "cell_type": "code",
   "execution_count": null,
   "metadata": {
    "dotnet_interactive": {
     "language": "fsharp"
    }
   },
   "outputs": [
    {
     "data": {
      "text/plain": [
       "[[[[0,7],4],[[7,8],[6,0]]],[8,1]]"
      ]
     },
     "metadata": {},
     "output_type": "display_data"
    }
   ],
   "source": [
    "\"[[[[4,3],4],4],[7,[[8,4],9]]]\" |> parseNumber |> addNumbers <| (\"[1,1]\" |> parseNumber) |> numberToString"
   ]
  },
  {
   "cell_type": "code",
   "execution_count": null,
   "metadata": {
    "dotnet_interactive": {
     "language": "fsharp"
    }
   },
   "outputs": [
    {
     "data": {
      "text/plain": [
       "[[[[1,1],[2,2]],[3,3]],[4,4]]"
      ]
     },
     "metadata": {},
     "output_type": "display_data"
    }
   ],
   "source": [
    "let testInput1 = \"\"\"\n",
    "[1,1]\n",
    "[2,2]\n",
    "[3,3]\n",
    "[4,4]\n",
    "\"\"\"\n",
    "\n",
    "let parse(input:string) = \n",
    "    input.Replace(\"\\r\", \"\").Split(\"\\n\")\n",
    "    |> Seq.filter( (<>) \"\")\n",
    "    |> Seq.map parseNumber\n",
    "\n",
    "testInput1 |> parse |> Seq.reduce addNumbers |> numberToString  // [[[[1,1],[2,2]],[3,3]],[4,4]]"
   ]
  },
  {
   "cell_type": "code",
   "execution_count": null,
   "metadata": {
    "dotnet_interactive": {
     "language": "fsharp"
    }
   },
   "outputs": [
    {
     "data": {
      "text/plain": [
       "[[[[3,0],[5,3]],[4,4]],[5,5]]"
      ]
     },
     "metadata": {},
     "output_type": "display_data"
    }
   ],
   "source": [
    "let testInput2 = \"\"\"\n",
    "[1,1]\n",
    "[2,2]\n",
    "[3,3]\n",
    "[4,4]\n",
    "[5,5]\n",
    "\"\"\"\n",
    "\n",
    "testInput2 |> parse |> Seq.reduce addNumbers |> numberToString  // [[[[3,0],[5,3]],[4,4]],[5,5]]"
   ]
  },
  {
   "cell_type": "code",
   "execution_count": null,
   "metadata": {
    "dotnet_interactive": {
     "language": "fsharp"
    }
   },
   "outputs": [
    {
     "data": {
      "text/plain": [
       "[[[[5,0],[7,4]],[5,5]],[6,6]]"
      ]
     },
     "metadata": {},
     "output_type": "display_data"
    }
   ],
   "source": [
    "let testInput3 = \"\"\"\n",
    "[1,1]\n",
    "[2,2]\n",
    "[3,3]\n",
    "[4,4]\n",
    "[5,5]\n",
    "[6,6]\n",
    "\"\"\"\n",
    "\n",
    "testInput3 |> parse |> Seq.reduce addNumbers |> numberToString  // [[[[5,0],[7,4]],[5,5]],[6,6]]"
   ]
  },
  {
   "cell_type": "code",
   "execution_count": null,
   "metadata": {
    "dotnet_interactive": {
     "language": "fsharp"
    }
   },
   "outputs": [
    {
     "data": {
      "text/plain": [
       "[[[[8,7],[7,7]],[[8,6],[7,7]]],[[[0,7],[6,6]],[8,7]]]"
      ]
     },
     "metadata": {},
     "output_type": "display_data"
    }
   ],
   "source": [
    "let testInput4 = \"\"\"\n",
    "[[[0,[4,5]],[0,0]],[[[4,5],[2,6]],[9,5]]]\n",
    "[7,[[[3,7],[4,3]],[[6,3],[8,8]]]]\n",
    "[[2,[[0,8],[3,4]]],[[[6,7],1],[7,[1,6]]]]\n",
    "[[[[2,4],7],[6,[0,5]]],[[[6,8],[2,8]],[[2,1],[4,5]]]]\n",
    "[7,[5,[[3,8],[1,4]]]]\n",
    "[[2,[2,2]],[8,[8,1]]]\n",
    "[2,9]\n",
    "[1,[[[9,3],9],[[9,0],[0,7]]]]\n",
    "[[[5,[7,4]],7],1]\n",
    "[[[[4,2],2],6],[8,7]]\n",
    "\"\"\"\n",
    "\n",
    "testInput4 |> parse |> Seq.reduce addNumbers |> numberToString  // [[[[8,7],[7,7]],[[8,6],[7,7]]],[[[0,7],[6,6]],[8,7]]"
   ]
  },
  {
   "cell_type": "code",
   "execution_count": null,
   "metadata": {
    "dotnet_interactive": {
     "language": "fsharp"
    }
   },
   "outputs": [],
   "source": [
    "let rec calculateMagnitude (input:Number) = \n",
    "    match input with\n",
    "    | Simple(value) -> value\n",
    "    | Pair(left, right) -> 3 * (calculateMagnitude left) + 2 * (calculateMagnitude right)"
   ]
  },
  {
   "cell_type": "code",
   "execution_count": null,
   "metadata": {
    "dotnet_interactive": {
     "language": "fsharp"
    }
   },
   "outputs": [
    {
     "data": {
      "text/html": [
       "<div class=\"dni-plaintext\">3488</div>"
      ]
     },
     "metadata": {},
     "output_type": "display_data"
    }
   ],
   "source": [
    "\"[[[[8,7],[7,7]],[[8,6],[7,7]]],[[[0,7],[6,6]],[8,7]]]\" |> parseNumber |> calculateMagnitude // 3488"
   ]
  },
  {
   "cell_type": "code",
   "execution_count": null,
   "metadata": {
    "dotnet_interactive": {
     "language": "fsharp"
    }
   },
   "outputs": [
    {
     "data": {
      "text/html": [
       "<div class=\"dni-plaintext\">4140</div>"
      ]
     },
     "metadata": {},
     "output_type": "display_data"
    }
   ],
   "source": [
    "let testInput5 = \"\"\"\n",
    "[[[0,[5,8]],[[1,7],[9,6]]],[[4,[1,2]],[[1,4],2]]]\n",
    "[[[5,[2,8]],4],[5,[[9,9],0]]]\n",
    "[6,[[[6,2],[5,6]],[[7,6],[4,7]]]]\n",
    "[[[6,[0,7]],[0,9]],[4,[9,[9,0]]]]\n",
    "[[[7,[6,4]],[3,[1,3]]],[[[5,5],1],9]]\n",
    "[[6,[[7,3],[3,2]]],[[[3,8],[5,7]],4]]\n",
    "[[[[5,4],[7,7]],8],[[8,3],8]]\n",
    "[[9,3],[[9,9],[6,[4,9]]]]\n",
    "[[2,[[7,7],7]],[[5,8],[[9,3],[0,2]]]]\n",
    "[[[[5,2],5],[8,[3,7]]],[[5,[7,5]],[4,4]]]\n",
    "\"\"\"\n",
    "\n",
    "testInput5 |> parse |> Seq.reduce addNumbers |> calculateMagnitude  // 4140"
   ]
  },
  {
   "cell_type": "code",
   "execution_count": null,
   "metadata": {
    "dotnet_interactive": {
     "language": "fsharp"
    }
   },
   "outputs": [
    {
     "data": {
      "text/html": [
       "<div class=\"dni-plaintext\">4132</div>"
      ]
     },
     "metadata": {},
     "output_type": "display_data"
    }
   ],
   "source": [
    "let task = System.IO.File.ReadAllText \"task.txt\"\n",
    "\n",
    "task |> parse |> Seq.reduce addNumbers |> calculateMagnitude"
   ]
  },
  {
   "cell_type": "markdown",
   "metadata": {},
   "source": [
    "--- Part Two ---\n",
    "\n",
    "You notice a second question on the back of the homework assignment:\n",
    "\n",
    "What is the largest magnitude you can get from adding only two of the snailfish numbers?\n",
    "\n",
    "Note that snailfish addition is not commutative - that is, x + y and y + x can produce different results.\n",
    "\n",
    "Again considering the last example homework assignment above:\n",
    "\n",
    "```\n",
    "[[[0,[5,8]],[[1,7],[9,6]]],[[4,[1,2]],[[1,4],2]]]\n",
    "[[[5,[2,8]],4],[5,[[9,9],0]]]\n",
    "[6,[[[6,2],[5,6]],[[7,6],[4,7]]]]\n",
    "[[[6,[0,7]],[0,9]],[4,[9,[9,0]]]]\n",
    "[[[7,[6,4]],[3,[1,3]]],[[[5,5],1],9]]\n",
    "[[6,[[7,3],[3,2]]],[[[3,8],[5,7]],4]]\n",
    "[[[[5,4],[7,7]],8],[[8,3],8]]\n",
    "[[9,3],[[9,9],[6,[4,9]]]]\n",
    "[[2,[[7,7],7]],[[5,8],[[9,3],[0,2]]]]\n",
    "[[[[5,2],5],[8,[3,7]]],[[5,[7,5]],[4,4]]]\n",
    "```\n",
    "\n",
    "The largest magnitude of the sum of any two snailfish numbers in this list is 3993. This is the magnitude of [[2,[[7,7],7]],[[5,8],[[9,3],[0,2]]]] + [[[0,[5,8]],[[1,7],[9,6]]],[[4,[1,2]],[[1,4],2]]], which reduces to [[[[7,8],[6,6]],[[6,0],[7,7]]],[[[7,8],[8,8]],[[7,9],[0,6]]]].\n",
    "\n",
    "What is the largest magnitude of any sum of two different snailfish numbers from the homework assignment?\n"
   ]
  },
  {
   "cell_type": "code",
   "execution_count": null,
   "metadata": {
    "dotnet_interactive": {
     "language": "fsharp"
    }
   },
   "outputs": [
    {
     "data": {
      "text/html": [
       "<div class=\"dni-plaintext\">3993</div>"
      ]
     },
     "metadata": {},
     "output_type": "display_data"
    }
   ],
   "source": [
    "let largestPossible (input: seq<Number>) =\n",
    "    let ar = input |> Array.ofSeq\n",
    "    seq {\n",
    "        for i = 0 to (ar.Length - 1) do\n",
    "            for j = 0 to (ar.Length - 1 ) do\n",
    "                if i<>j then yield (ar[i], ar[j])\n",
    "    }\n",
    "    |> Seq.map ( fun (l, r) -> addNumbers l r )\n",
    "    |> Seq.map calculateMagnitude\n",
    "    |> Seq.max\n",
    "\n",
    "testInput5 |> parse |>largestPossible   // 3993\n"
   ]
  },
  {
   "cell_type": "code",
   "execution_count": null,
   "metadata": {
    "dotnet_interactive": {
     "language": "fsharp"
    }
   },
   "outputs": [
    {
     "data": {
      "text/html": [
       "<div class=\"dni-plaintext\">4685</div>"
      ]
     },
     "metadata": {},
     "output_type": "display_data"
    }
   ],
   "source": [
    "task |> parse |> largestPossible"
   ]
  }
 ],
 "metadata": {
  "kernelspec": {
   "display_name": ".NET (F#)",
   "language": "F#",
   "name": ".net-fsharp"
  },
  "language_info": {
   "name": "F#"
  }
 },
 "nbformat": 4,
 "nbformat_minor": 2
}
