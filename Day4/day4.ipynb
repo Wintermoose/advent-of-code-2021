{
 "cells": [
  {
   "cell_type": "markdown",
   "metadata": {},
   "source": [
    "--- Day 4: Giant Squid ---\n",
    "\n",
    "You're already almost 1.5km (almost a mile) below the surface of the ocean, already so deep that you can't see any sunlight. What you can see, however, is a giant squid that has attached itself to the outside of your submarine.\n",
    "\n",
    "Maybe it wants to play bingo?\n",
    "\n",
    "Bingo is played on a set of boards each consisting of a 5x5 grid of numbers. Numbers are chosen at random, and the chosen number is marked on all boards on which it appears. (Numbers may not appear on all boards.) If all numbers in any row or any column of a board are marked, that board wins. (Diagonals don't count.)\n",
    "\n",
    "The submarine has a bingo subsystem to help passengers (currently, you and the giant squid) pass the time. It automatically generates a random order in which to draw numbers and a random set of boards (your puzzle input). For example:\n",
    "\n",
    "```\n",
    "7,4,9,5,11,17,23,2,0,14,21,24,10,16,13,6,15,25,12,22,18,20,8,19,3,26,1\n",
    "\n",
    "22 13 17 11  0\n",
    " 8  2 23  4 24\n",
    "21  9 14 16  7\n",
    " 6 10  3 18  5\n",
    " 1 12 20 15 19\n",
    "\n",
    " 3 15  0  2 22\n",
    " 9 18 13 17  5\n",
    "19  8  7 25 23\n",
    "20 11 10 24  4\n",
    "14 21 16 12  6\n",
    "\n",
    "14 21 17 24  4\n",
    "10 16 15  9 19\n",
    "18  8 23 26 20\n",
    "22 11 13  6  5\n",
    " 2  0 12  3  7\n",
    " ```\n",
    "\n",
    "After the first five numbers are drawn (7, 4, 9, 5, and 11), there are no winners, but the boards are marked as follows (shown here adjacent to each other to save space):\n",
    "(note: markings ommitted, I am too lazy to copy them :) )\n",
    "\n",
    "```\n",
    "22 13 17 *11*  0         3 15  0  2 22        14 21 17 24  4\n",
    " 8  2 23  4 24         9 18 13 17  5        10 16 15  9 19\n",
    "21  9 14 16  7        19  8  7 25 23        18  8 23 26 20\n",
    " 6 10  3 18  5        20 11 10 24  4        22 11 13  6  5\n",
    " 1 12 20 15 19        14 21 16 12  6         2  0 12  3  7\n",
    " ```\n",
    "\n",
    "After the next six numbers are drawn (17, 23, 2, 0, 14, and 21), there are still no winners:\n",
    "\n",
    "```\n",
    "22 13 17 11  0         3 15  0  2 22        14 21 17 24  4\n",
    " 8  2 23  4 24         9 18 13 17  5        10 16 15  9 19\n",
    "21  9 14 16  7        19  8  7 25 23        18  8 23 26 20\n",
    " 6 10  3 18  5        20 11 10 24  4        22 11 13  6  5\n",
    " 1 12 20 15 19        14 21 16 12  6         2  0 12  3  7\n",
    " ```\n",
    "\n",
    "Finally, 24 is drawn:\n",
    "\n",
    "```\n",
    "22 13 17 11  0         3 15  0  2 22        14 21 17 24  4\n",
    " 8  2 23  4 24         9 18 13 17  5        10 16 15  9 19\n",
    "21  9 14 16  7        19  8  7 25 23        18  8 23 26 20\n",
    " 6 10  3 18  5        20 11 10 24  4        22 11 13  6  5\n",
    " 1 12 20 15 19        14 21 16 12  6         2  0 12  3  7\n",
    " ```\n",
    "\n",
    "At this point, the third board wins because it has at least one complete row or column of marked numbers (in this case, the entire top row is marked: 14 21 17 24 4).\n",
    "\n",
    "The score of the winning board can now be calculated. Start by finding the sum of all unmarked numbers on that board; in this case, the sum is 188. Then, multiply that sum by the number that was just called when the board won, 24, to get the final score, 188 * 24 = 4512.\n",
    "\n",
    "To guarantee victory against the giant squid, figure out which board will win first. What will your final score be if you choose that board?\n"
   ]
  },
  {
   "cell_type": "code",
   "execution_count": null,
   "metadata": {
    "dotnet_interactive": {
     "language": "fsharp"
    }
   },
   "outputs": [],
   "source": [
    "let testInput=\"\"\"7,4,9,5,11,17,23,2,0,14,21,24,10,16,13,6,15,25,12,22,18,20,8,19,3,26,1\n",
    "\n",
    "22 13 17 11  0\n",
    " 8  2 23  4 24\n",
    "21  9 14 16  7\n",
    " 6 10  3 18  5\n",
    " 1 12 20 15 19\n",
    "\n",
    " 3 15  0  2 22\n",
    " 9 18 13 17  5\n",
    "19  8  7 25 23\n",
    "20 11 10 24  4\n",
    "14 21 16 12  6\n",
    "\n",
    "14 21 17 24  4\n",
    "10 16 15  9 19\n",
    "18  8 23 26 20\n",
    "22 11 13  6  5\n",
    " 2  0 12  3  7\"\"\"\n",
    " "
   ]
  },
  {
   "cell_type": "code",
   "execution_count": null,
   "metadata": {
    "dotnet_interactive": {
     "language": "fsharp"
    }
   },
   "outputs": [
    {
     "data": {
      "text/html": [
       "<table><thead><tr><th>Item1</th><th>Item2</th></tr></thead><tbody><tr><td><div class=\"dni-plaintext\">[ 7, 4, 9, 5, 11, 17, 23, 2, 0, 14, 21, 24, 10, 16, 13, 6, 15, 25, 12, 22 ... (7 more) ]</div></td><td><div class=\"dni-plaintext\">[ [ [ 22, 13, 17, 11, 0 ], [ 8, 2, 23, 4, 24 ], [ 21, 9, 14, 16, 7 ], [ 6, 10, 3, 18, 5 ], [ 1, 12, 20, 15, 19 ] ], [ [ 3, 15, 0, 2, 22 ], [ 9, 18, 13, 17, 5 ], [ 19, 8, 7, 25, 23 ], [ 20, 11, 10, 24, 4 ], [ 14, 21, 16, 12, 6 ] ], [ [ 14, 21, 17, 24, 4 ], [ 10, 16, 15, 9, 19 ], [ 18, 8, 23, 26, 20 ], [ 22, 11, 13, 6, 5 ], [ 2, 0, 12, 3, 7 ] ] ]</div></td></tr></tbody></table>"
      ]
     },
     "metadata": {},
     "output_type": "display_data"
    }
   ],
   "source": [
    "open System.Text.RegularExpressions;\n",
    "\n",
    "let parse (input:string) =\n",
    "    let blocks = input.Replace(\"\\r\", \"\").Split(\"\\n\\n\")\n",
    "    let numbers = \n",
    "        blocks.[0].Split(\",\")\n",
    "        |> Seq.map (fun n -> int n)\n",
    "    let boards =\n",
    "        blocks \n",
    "        |> Seq.skip 1\n",
    "        |> Seq.map (\n",
    "            fun block ->\n",
    "                block.Split(\"\\n\")\n",
    "                |> Seq.map(\n",
    "                    fun row ->                                             \n",
    "                        Regex.Replace(row, @\"\\s+\", \" \")\n",
    "                        |> fun row -> row.Trim().Split(\" \") \n",
    "                        |> Seq.map(fun n -> int n)\n",
    "                )\n",
    "        )\n",
    "    (numbers, boards)\n",
    "\n",
    "testInput |> parse"
   ]
  },
  {
   "cell_type": "code",
   "execution_count": null,
   "metadata": {
    "dotnet_interactive": {
     "language": "fsharp"
    }
   },
   "outputs": [
    {
     "data": {
      "text/html": [
       "<table><thead><tr><th><i>index</i></th><th>value</th></tr></thead><tbody><tr><td>0</td><td><div class=\"dni-plaintext\">[ [ 22, 13, 17, 11, 0 ], [ 8, 2, 23, 4, 24 ], [ 21, 9, 14, 16, -8 ], [ 6, 10, 3, 18, 5 ], [ 1, 12, 20, 15, 19 ] ]</div></td></tr><tr><td>1</td><td><div class=\"dni-plaintext\">[ [ 3, 15, 0, 2, 22 ], [ 9, 18, 13, 17, 5 ], [ 19, 8, -8, 25, 23 ], [ 20, 11, 10, 24, 4 ], [ 14, 21, 16, 12, 6 ] ]</div></td></tr><tr><td>2</td><td><div class=\"dni-plaintext\">[ [ 14, 21, 17, 24, 4 ], [ 10, 16, 15, 9, 19 ], [ 18, 8, 23, 26, 20 ], [ 22, 11, 13, 6, 5 ], [ 2, 0, 12, 3, -8 ] ]</div></td></tr></tbody></table>"
      ]
     },
     "metadata": {},
     "output_type": "display_data"
    }
   ],
   "source": [
    "let markNumber (number: int) (boards: seq<seq<seq<int>>>) =\n",
    "    boards\n",
    "    |> Seq.map (\n",
    "        fun board ->\n",
    "            board\n",
    "            |> Seq.map (\n",
    "                fun row ->\n",
    "                row\n",
    "                |> Seq.map (fun cell -> if cell = number then -cell-1 else cell)\n",
    "            )\n",
    "    )\n",
    "\n",
    "testInput |> parse |> (fun (n, boards) -> markNumber 7 boards)"
   ]
  },
  {
   "cell_type": "code",
   "execution_count": null,
   "metadata": {
    "dotnet_interactive": {
     "language": "fsharp"
    }
   },
   "outputs": [
    {
     "data": {
      "text/html": [
       "<div class=\"dni-plaintext\">False</div>"
      ]
     },
     "metadata": {},
     "output_type": "display_data"
    }
   ],
   "source": [
    "open System.Collections.Generic\n",
    "\n",
    "let isBoardSolved (board: seq<seq<int>>) =\n",
    "    let mutable solved = false\n",
    "    let mutable colPositive = new Dictionary<int,bool>();\n",
    "    board\n",
    "    |> Seq.iter (\n",
    "        fun row -> \n",
    "            let mutable rowPositive = false\n",
    "            row \n",
    "            |> Seq.iteri (\n",
    "                fun colI cell ->\n",
    "                    if not (colPositive.ContainsKey colI) then\n",
    "                        colPositive.Add(colI, false)\n",
    "                    if cell >= 0 then \n",
    "                        colPositive.[colI] <- true\n",
    "                        rowPositive <- true\n",
    "            )\n",
    "            if not rowPositive then\n",
    "                solved <- true            \n",
    "    )\n",
    "    solved <- solved || colPositive.ContainsValue false\n",
    "    solved\n",
    "\n",
    "seq [ seq[1;2]; seq[3;4] ] |> isBoardSolved"
   ]
  },
  {
   "cell_type": "code",
   "execution_count": null,
   "metadata": {
    "dotnet_interactive": {
     "language": "fsharp"
    }
   },
   "outputs": [
    {
     "data": {
      "text/html": [
       "<div class=\"dni-plaintext\">True</div>"
      ]
     },
     "metadata": {},
     "output_type": "display_data"
    }
   ],
   "source": [
    "seq [ seq[1;2]; seq[-3; -4] ] |> isBoardSolved"
   ]
  },
  {
   "cell_type": "code",
   "execution_count": null,
   "metadata": {
    "dotnet_interactive": {
     "language": "fsharp"
    }
   },
   "outputs": [
    {
     "data": {
      "text/html": [
       "<div class=\"dni-plaintext\">True</div>"
      ]
     },
     "metadata": {},
     "output_type": "display_data"
    }
   ],
   "source": [
    "seq [ seq[-1;2]; seq[-3; -4] ] |> isBoardSolved"
   ]
  },
  {
   "cell_type": "code",
   "execution_count": null,
   "metadata": {
    "dotnet_interactive": {
     "language": "fsharp"
    }
   },
   "outputs": [
    {
     "data": {
      "text/html": [
       "<table><thead><tr><th>Item1</th><th>Item2</th></tr></thead><tbody><tr><td><div class=\"dni-plaintext\">24</div></td><td><div class=\"dni-plaintext\">[ [ -15, -22, -18, -25, -5 ], [ 10, 16, 15, -10, 19 ], [ 18, 8, -24, 26, 20 ], [ 22, -12, 13, 6, -6 ], [ -3, -1, 12, 3, -8 ] ]</div></td></tr></tbody></table>"
      ]
     },
     "metadata": {},
     "output_type": "display_data"
    }
   ],
   "source": [
    "let rec playGame ((numbers: seq<int>), (boards: seq<seq<seq<int>>> )) =\n",
    "    match Seq.toList numbers with\n",
    "        | head::tail ->\n",
    "            let newBoards = boards |> markNumber head\n",
    "            let findSolved = newBoards |> Seq.tryFind isBoardSolved\n",
    "            match findSolved with\n",
    "                | Some(board) -> (head, board)\n",
    "                | None -> playGame (tail, newBoards)\n",
    "        | _ -> failwith \"there is no victory\"\n",
    "\n",
    "testInput |> parse |> playGame"
   ]
  },
  {
   "cell_type": "code",
   "execution_count": null,
   "metadata": {
    "dotnet_interactive": {
     "language": "fsharp"
    }
   },
   "outputs": [
    {
     "data": {
      "text/html": [
       "<div class=\"dni-plaintext\">4512</div>"
      ]
     },
     "metadata": {},
     "output_type": "display_data"
    }
   ],
   "source": [
    "let rec evaluateScore ((lastNumber: int), (board: seq<seq<int>>)) =\n",
    "    board\n",
    "    |> Seq.concat\n",
    "    |> Seq.filter (fun x -> x >0 )\n",
    "    |> Seq.sum\n",
    "    |> fun n -> n * lastNumber\n",
    "\n",
    "testInput |> parse |> playGame |> evaluateScore"
   ]
  },
  {
   "cell_type": "code",
   "execution_count": null,
   "metadata": {
    "dotnet_interactive": {
     "language": "fsharp"
    }
   },
   "outputs": [
    {
     "data": {
      "text/html": [
       "<div class=\"dni-plaintext\">51776</div>"
      ]
     },
     "metadata": {},
     "output_type": "display_data"
    }
   ],
   "source": [
    "let task = System.IO.File.ReadAllText \"task.txt\"\n",
    "\n",
    "task |> parse |> playGame |> evaluateScore"
   ]
  },
  {
   "cell_type": "markdown",
   "metadata": {},
   "source": [
    "--- Part Two ---\n",
    "\n",
    "On the other hand, it might be wise to try a different strategy: let the giant squid win.\n",
    "\n",
    "You aren't sure how many bingo boards a giant squid could play at once, so rather than waste time counting its arms, the safe thing to do is to figure out which board will win last and choose that one. That way, no matter which boards it picks, it will win for sure.\n",
    "\n",
    "In the above example, the second board is the last to win, which happens after 13 is eventually called and its middle column is completely marked. If you were to keep playing until this point, the second board would have a sum of unmarked numbers equal to 148 for a final score of 148 * 13 = 1924.\n",
    "\n",
    "Figure out which board will win last. Once it wins, what would its final score be?\n"
   ]
  },
  {
   "cell_type": "code",
   "execution_count": null,
   "metadata": {
    "dotnet_interactive": {
     "language": "fsharp"
    }
   },
   "outputs": [
    {
     "data": {
      "text/html": [
       "<div class=\"dni-plaintext\">1924</div>"
      ]
     },
     "metadata": {},
     "output_type": "display_data"
    }
   ],
   "source": [
    "let rec playGameUntilBitterEnd ((numbers: seq<int>), (boards: seq<seq<seq<int>>> )) =\n",
    "    match Seq.toList numbers with\n",
    "        | head::tail ->\n",
    "            let newBoards = boards |> markNumber head\n",
    "            let unsolved = newBoards |> Seq.filter (not << isBoardSolved) \n",
    "            if Seq.isEmpty unsolved then\n",
    "                if Seq.length newBoards = 1 then\n",
    "                    (head, Seq.head newBoards)\n",
    "                else\n",
    "                    failwith \"multiple boards won simultaneously\"\n",
    "            else\n",
    "                playGameUntilBitterEnd (tail, unsolved)\n",
    "        | _ -> \n",
    "            failwith \"there is no victor\" \n",
    "\n",
    "testInput |> parse |> playGameUntilBitterEnd |> evaluateScore"
   ]
  },
  {
   "cell_type": "code",
   "execution_count": null,
   "metadata": {
    "dotnet_interactive": {
     "language": "fsharp"
    }
   },
   "outputs": [
    {
     "data": {
      "text/html": [
       "<div class=\"dni-plaintext\">16830</div>"
      ]
     },
     "metadata": {},
     "output_type": "display_data"
    }
   ],
   "source": [
    "task |> parse |> playGameUntilBitterEnd |> evaluateScore"
   ]
  }
 ],
 "metadata": {
  "kernelspec": {
   "display_name": ".NET (F#)",
   "language": "F#",
   "name": ".net-fsharp"
  },
  "language_info": {
   "name": "F#"
  }
 },
 "nbformat": 4,
 "nbformat_minor": 2
}
